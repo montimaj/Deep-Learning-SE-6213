{
  "nbformat": 4,
  "nbformat_minor": 0,
  "metadata": {
    "colab": {
      "name": "cnn.ipynb",
      "provenance": [],
      "include_colab_link": true
    },
    "kernelspec": {
      "display_name": "Python 3",
      "language": "python",
      "name": "python3"
    },
    "language_info": {
      "codemirror_mode": {
        "name": "ipython",
        "version": 3
      },
      "file_extension": ".py",
      "mimetype": "text/x-python",
      "name": "python",
      "nbconvert_exporter": "python",
      "pygments_lexer": "ipython3",
      "version": "3.6.8"
    }
  },
  "cells": [
    {
      "cell_type": "markdown",
      "metadata": {
        "id": "view-in-github",
        "colab_type": "text"
      },
      "source": [
        "<a href=\"https://colab.research.google.com/github/montimaj/Deep-Learning-SE-6213/blob/master/HW7/cnn.ipynb\" target=\"_parent\"><img src=\"https://colab.research.google.com/assets/colab-badge.svg\" alt=\"Open In Colab\"/></a>"
      ]
    },
    {
      "cell_type": "code",
      "metadata": {
        "id": "eHyKFAM1P98d",
        "outputId": "5cdb2473-81f4-48fc-ea20-730acd901d2f",
        "colab": {
          "base_uri": "https://localhost:8080/",
          "height": 35
        }
      },
      "source": [
        "from google.colab import drive\n",
        "drive.mount('/content/drive')"
      ],
      "execution_count": 1,
      "outputs": [
        {
          "output_type": "stream",
          "text": [
            "Mounted at /content/drive\n"
          ],
          "name": "stdout"
        }
      ]
    },
    {
      "cell_type": "code",
      "metadata": {
        "id": "DGQEbLo5QRMC",
        "outputId": "6d9e771d-6732-48de-9629-bb42806a726c",
        "colab": {
          "base_uri": "https://localhost:8080/",
          "height": 70
        }
      },
      "source": [
        "%cd 'drive/My Drive/SysEng 6213 Fall 2020 Sayantan Majumdar /HW7'\n",
        "!ls"
      ],
      "execution_count": 2,
      "outputs": [
        {
          "output_type": "stream",
          "text": [
            "/content/drive/.shortcut-targets-by-id/1xpWpUfn0NqGtbgAP_303jr6QW5RKzJPR/SysEng 6213 Fall 2020 Sayantan Majumdar /HW7\n",
            "cnn.ipynb      cnn_model.py   cp-sim.html  utilities.py\n",
            "cnn_model.png  conv_demo.png  layers.py\n"
          ],
          "name": "stdout"
        }
      ]
    },
    {
      "cell_type": "markdown",
      "metadata": {
        "id": "e4Sou9mkoWny"
      },
      "source": [
        "# SYS ENG 6213 - Deep Learning and Advanced Neural Networks "
      ]
    },
    {
      "cell_type": "markdown",
      "metadata": {
        "id": "itggaOqOoWn5"
      },
      "source": [
        "In this assignment, you will implement the convolutional neural network and test it on a sample image. You can get good explanation of convolutional and pooling layers from the text book @ http://www.deeplearningbook.org/.\n",
        "\n",
        "\n",
        "The code which you are to write will not be a __fast implementation__ since our goal is only to learn the convolution and pooling operation. The fast implementation can be implemented by converting convolution and pooling operations into matrix multiplications which is more complicated. \n",
        "\n",
        "Below is the architecture you will implement:"
      ]
    },
    {
      "cell_type": "markdown",
      "metadata": {
        "id": "WirzuzitoWn8"
      },
      "source": [
        "<img src=\"cnn_model.png\" alt=\"Drawing\" style=\"width: 200px;\"/>"
      ]
    },
    {
      "cell_type": "markdown",
      "metadata": {
        "id": "ooRc1yTLoWn-"
      },
      "source": [
        "### 1. Python Implementation"
      ]
    },
    {
      "cell_type": "markdown",
      "metadata": {
        "id": "iBJhjz7PoWoA"
      },
      "source": [
        "complete the following functions in __layers.py__ and run the below code:\n",
        "\n",
        "1. conv_forward (25 pts)\n",
        "2. conv_backward (25 pts)\n",
        "3. max_pool_forward (25 pts)\n",
        "4. max_pool_backward (25 pts)"
      ]
    },
    {
      "cell_type": "code",
      "metadata": {
        "id": "xvWg7aMCoWoD"
      },
      "source": [
        "# import necessary libraries\n",
        "import tensorflow as tf\n",
        "import datetime\n",
        "import time\n",
        "import numpy as np\n",
        "import datetime\n",
        "import matplotlib.pyplot as plt\n",
        "# import necessary functions\n",
        "from utilities import *\n",
        "np.random.seed(231)"
      ],
      "execution_count": 3,
      "outputs": []
    },
    {
      "cell_type": "code",
      "metadata": {
        "id": "AzMKrud7oWoL",
        "outputId": "81c2fe6f-8f5c-4605-e101-ee251fb7f65c",
        "colab": {
          "base_uri": "https://localhost:8080/",
          "height": 105
        }
      },
      "source": [
        "# load the data\n",
        "maybe_download_and_extract()\n",
        "train_,tr_target,val_,val_target = load_CIFAR10_data()"
      ],
      "execution_count": 4,
      "outputs": [
        {
          "output_type": "stream",
          "text": [
            "downloading data...\n",
            "this might take several minutes...Please wait..\n",
            "download complete\n",
            "extrating data...\n",
            "Extract complete..\n"
          ],
          "name": "stdout"
        }
      ]
    },
    {
      "cell_type": "code",
      "metadata": {
        "id": "fshQ2VkGoWoP",
        "outputId": "1984e9f4-4c00-47a3-9469-655de63497f8",
        "colab": {
          "base_uri": "https://localhost:8080/",
          "height": 87
        }
      },
      "source": [
        "print('training data shape: ' + str(train_.shape))\n",
        "print('training target shape: ' + str(tr_target.shape))\n",
        "print('validation data shape: ' + str(val_.shape))\n",
        "print('validation target shape: ' + str(val_target.shape))"
      ],
      "execution_count": 5,
      "outputs": [
        {
          "output_type": "stream",
          "text": [
            "training data shape: (40000, 3072)\n",
            "training target shape: (40000,)\n",
            "validation data shape: (10000, 3072)\n",
            "validation target shape: (10000,)\n"
          ],
          "name": "stdout"
        }
      ]
    },
    {
      "cell_type": "code",
      "metadata": {
        "id": "iSwdq02XoWoT",
        "outputId": "0f13dead-2f6e-492d-f7a7-7289f6431816",
        "colab": {
          "base_uri": "https://localhost:8080/",
          "height": 194
        }
      },
      "source": [
        "#view a few examples\n",
        "img_idx = np.random.choice(40000, 9, replace=False)\n",
        "sample = train_[img_idx].reshape(9, 3, 32, 32).transpose(0,2,3,1).astype(\"uint8\")\n",
        "fig, axes1 = plt.subplots(3,3,figsize=(3,3))\n",
        "i=0\n",
        "for j in range(3):\n",
        "    for k in range(3):\n",
        "        #i = np.random.choice(range(len(sample)),replace=False)\n",
        "        axes1[j][k].set_axis_off()\n",
        "        axes1[j][k].imshow(sample[i])\n",
        "        i=i+1\n",
        "plt.show()"
      ],
      "execution_count": 6,
      "outputs": [
        {
          "output_type": "display_data",
          "data": {
            "image/png": "[encoded data removed]",
            "text/plain": [
              "<Figure size 216x216 with 9 Axes>"
            ]
          },
          "metadata": {
            "tags": [],
            "needs_background": "light"
          }
        }
      ]
    },
    {
      "cell_type": "markdown",
      "metadata": {
        "id": "CyEjrN1poWoc"
      },
      "source": [
        "#### Try training on small data "
      ]
    },
    {
      "cell_type": "code",
      "metadata": {
        "id": "6NskybsCoWof"
      },
      "source": [
        "# For CIFAR-10 we have 3-dimensional data which are independent of each other. \n",
        "# Therefore, we have to normalize each dimension separately\n",
        "\n",
        "X_train = train_.reshape(len(train_), 3, 32, 32).astype(\"float32\")\n",
        "X_val = val_.reshape(len(val_), 3, 32, 32).astype(\"float32\")\n",
        "_means = [] # for future re-use\n",
        "for i in range(3):\n",
        "    _mean = np.mean(X_train[:,i,:,:]) \n",
        "    X_train[:,i,:,:] = (X_train[:,i,:,:] - _mean)\n",
        "    X_val[:,i,:,:] = (X_val[:,i,:,:] - _mean)\n",
        "    _means.append(_mean)\n",
        "    \n",
        "\n",
        "Y_train = tr_target\n",
        "Y_val = val_target\n",
        "n = 100\n",
        "data = {'X_train':X_train[0:n],'Y_train':Y_train[0:n],'X_val':X_val[0:30],'Y_val':Y_val[0:30]}"
      ],
      "execution_count": 7,
      "outputs": []
    },
    {
      "cell_type": "code",
      "metadata": {
        "id": "Q5PKSfqloWom",
        "outputId": "201c423d-3e3e-4cf9-e97a-2f85f5749049",
        "colab": {
          "base_uri": "https://localhost:8080/",
          "height": 844
        }
      },
      "source": [
        "# Initialize two_layered_NN instance\n",
        "from cnn_model import n_layered_NN\n",
        "model = n_layered_NN(data,batch_size=30,epochs=5)\n",
        "# Train the two layered neural network\n",
        "start_time = datetime.datetime.now()\n",
        "params,loss_history,train_acc_history,val_acc_history=model.train()\n",
        "print(datetime.datetime.now() - start_time)"
      ],
      "execution_count": 8,
      "outputs": [
        {
          "output_type": "stream",
          "text": [
            "***************************************************************\n",
            "|                  Model Specifications:                      |\n",
            "***************************************************************\n",
            "input dimensions                :(100, 3, 32, 32)\n",
            "output dimensions               :10\n",
            "number of convolutional layers  :1\n",
            "number of convolutional filters :32\n",
            "convolutional filter size       :7\n",
            "learning rate                   :0.001\n",
            "batch size                      :30\n",
            "number of epochs                :5\n",
            "---------------------------------------------------------------\n",
            "regularization type             :None\n",
            "---------------------------------------------------------------\n",
            "optimization type               :SGD\n",
            "---------------------------------------------------------------\n",
            "Epoch 1/5\n",
            "(Iteration 1/3) loss: 2.3025863033841616\n",
            "(Iteration 2/3) loss: 2.3026545164650702\n",
            "(Iteration 3/3) loss: 2.3025255890341785\n",
            "Train accuracy: 0.14 Validation accuracy: 0.13333333333333333\n",
            "time for epoch: 0:00:21.289506\n",
            "Epoch 2/5\n",
            "(Iteration 1/3) loss: 2.302445564585251\n",
            "(Iteration 2/3) loss: 2.302454378585722\n",
            "(Iteration 3/3) loss: 2.3025705623550015\n",
            "Train accuracy: 0.14 Validation accuracy: 0.13333333333333333\n",
            "time for epoch: 0:00:21.575361\n",
            "Epoch 3/5\n",
            "(Iteration 1/3) loss: 2.3022891297926753\n",
            "(Iteration 2/3) loss: 2.3021530913965047\n",
            "(Iteration 3/3) loss: 2.3023900232277605\n",
            "Train accuracy: 0.14 Validation accuracy: 0.13333333333333333\n",
            "time for epoch: 0:00:21.279749\n",
            "Epoch 4/5\n",
            "(Iteration 1/3) loss: 2.3022815914145123\n",
            "(Iteration 2/3) loss: 2.3018605426257106\n",
            "(Iteration 3/3) loss: 2.301823790811154\n",
            "Train accuracy: 0.14 Validation accuracy: 0.13333333333333333\n",
            "time for epoch: 0:00:22.525787\n",
            "Epoch 5/5\n",
            "(Iteration 1/3) loss: 2.3020762055464608\n",
            "(Iteration 2/3) loss: 2.3022447413423603\n",
            "(Iteration 3/3) loss: 2.3020994171441402\n",
            "Train accuracy: 0.14 Validation accuracy: 0.13333333333333333\n",
            "time for epoch: 0:00:21.947506\n",
            "0:01:48.771478\n"
          ],
          "name": "stdout"
        }
      ]
    },
    {
      "cell_type": "code",
      "metadata": {
        "id": "Tb2bOkNroWo3"
      },
      "source": [
        ""
      ],
      "execution_count": null,
      "outputs": []
    }
  ]
}