{
  "nbformat": 4,
  "nbformat_minor": 0,
  "metadata": {
    "kernelspec": {
      "display_name": "Python 3",
      "language": "python",
      "name": "python3"
    },
    "language_info": {
      "codemirror_mode": {
        "name": "ipython",
        "version": 3
      },
      "file_extension": ".py",
      "mimetype": "text/x-python",
      "name": "python",
      "nbconvert_exporter": "python",
      "pygments_lexer": "ipython3",
      "version": "3.6.4"
    },
    "colab": {
      "name": "HW3_Sayantan.ipynb",
      "provenance": [],
      "collapsed_sections": [],
      "include_colab_link": true
    }
  },
  "cells": [
    {
      "cell_type": "markdown",
      "metadata": {
        "id": "view-in-github",
        "colab_type": "text"
      },
      "source": [
        "<a href=\"https://colab.research.google.com/github/montimaj/Deep-Learning-SE-6213/blob/master/HW3/HW3_Sayantan.ipynb\" target=\"_parent\"><img src=\"https://colab.research.google.com/assets/colab-badge.svg\" alt=\"Open In Colab\"/></a>"
      ]
    },
    {
      "cell_type": "markdown",
      "metadata": {
        "id": "3A9XW9lRbFs6",
        "colab_type": "text"
      },
      "source": [
        "# SYS ENG 6213 - Deep Learning and Advanced Neural Networks "
      ]
    },
    {
      "cell_type": "markdown",
      "metadata": {
        "id": "8zgdS_iabFs7",
        "colab_type": "text"
      },
      "source": [
        "### Homework#2 Exploring the advantages of regularization"
      ]
    },
    {
      "cell_type": "markdown",
      "metadata": {
        "id": "aUW4veGHbFs7",
        "colab_type": "text"
      },
      "source": [
        "In machine learning, a well trained model performs equally good on test data as it did on training data. However, test data is not usually available during training which makes it difficult to understand how the model is performing. For example, we may get an accuracy of 99% for some model on training data but when it is deployed on real unseen data, it may not give the same performance. For this reason, we separate the available training data into training and validation data. \n"
      ]
    },
    {
      "cell_type": "markdown",
      "metadata": {
        "id": "06P0Ge5wbFs8",
        "colab_type": "text"
      },
      "source": [
        "In order to create above mentioned situation, let us limit the training data to only 50000 samples for MNIST dataset while keeping the validation to 10000 samples. Run the code given in the demo and observe how the model performs."
      ]
    },
    {
      "cell_type": "markdown",
      "metadata": {
        "id": "8zYP14GDbFs8",
        "colab_type": "text"
      },
      "source": [
        "__In this assignment, you will work only with layers.py file. We provided the model.py file which contains a wrapper funtion to create $n$-layered neural network.__\n",
        "\n"
      ]
    },
    {
      "cell_type": "markdown",
      "metadata": {
        "id": "iaBFXd9jbFs9",
        "colab_type": "text"
      },
      "source": [
        "### 1. Demo"
      ]
    },
    {
      "cell_type": "markdown",
      "metadata": {
        "id": "hK-S_X-hbFs9",
        "colab_type": "text"
      },
      "source": [
        "Run the below code to observe how the model performs when there is no regularization."
      ]
    },
    {
      "cell_type": "code",
      "metadata": {
        "id": "GLYH3KTRbpJ9",
        "colab_type": "code",
        "colab": {
          "base_uri": "https://localhost:8080/",
          "height": 35
        },
        "outputId": "564ae991-9126-4043-af0a-5b6898685efd"
      },
      "source": [
        "from google.colab import drive\n",
        "drive.mount('/content/drive')"
      ],
      "execution_count": 1,
      "outputs": [
        {
          "output_type": "stream",
          "text": [
            "Mounted at /content/drive\n"
          ],
          "name": "stdout"
        }
      ]
    },
    {
      "cell_type": "code",
      "metadata": {
        "id": "JwK8Tg_JgcXx",
        "colab_type": "code",
        "colab": {
          "base_uri": "https://localhost:8080/",
          "height": 70
        },
        "outputId": "5567723e-d7d9-472a-e78f-f02e8d6a5c46"
      },
      "source": [
        "%cd 'drive/My Drive/SysEng 6213 Fall 2020 Sayantan Majumdar /HW3/'\n",
        "!ls"
      ],
      "execution_count": 3,
      "outputs": [
        {
          "output_type": "stream",
          "text": [
            "/content/drive/.shortcut-targets-by-id/1xpWpUfn0NqGtbgAP_303jr6QW5RKzJPR/SysEng 6213 Fall 2020 Sayantan Majumdar /HW3\n",
            "dropout_img.png     layers.py\tn_model.py\n",
            "HW3_Sayantan.ipynb  MNIST_data\tutils.py\n"
          ],
          "name": "stdout"
        }
      ]
    },
    {
      "cell_type": "code",
      "metadata": {
        "id": "pgMRj15KbFs9",
        "colab_type": "code",
        "colab": {}
      },
      "source": [
        "# Import the functions\n",
        "from layers import *\n",
        "from utils import *\n",
        "# Set up the packages\n",
        "import numpy as np\n",
        "import matplotlib.pyplot as plt\n",
        "import matplotlib as mpl\n"
      ],
      "execution_count": 4,
      "outputs": []
    },
    {
      "cell_type": "code",
      "metadata": {
        "id": "TUNUMB2kbFtA",
        "colab_type": "code",
        "colab": {
          "base_uri": "https://localhost:8080/",
          "height": 100
        },
        "outputId": "60904b72-0587-4045-8a07-e1a1242a21fe"
      },
      "source": [
        "# Load the training data\n",
        "inputs, labels = load_images_with_labels()\n",
        "\n",
        "# View first 8 examples\n",
        "fig, ax = plt.subplots(1,8)\n",
        "labl = []\n",
        "for i in range(8):\n",
        "    ax[i].imshow(inputs[i], cmap=mpl.cm.Greys)\n",
        "    ax[i].set_title(labels[i])\n",
        "plt.show()"
      ],
      "execution_count": 5,
      "outputs": [
        {
          "output_type": "display_data",
          "data": {
            "image/png": "[encoded data removed]",
            "text/plain": [
              "<Figure size 432x288 with 8 Axes>"
            ]
          },
          "metadata": {
            "tags": [],
            "needs_background": "light"
          }
        }
      ]
    },
    {
      "cell_type": "code",
      "metadata": {
        "id": "IvhGWV1ebFtD",
        "colab_type": "code",
        "colab": {}
      },
      "source": [
        "# Pre-processing the data\n",
        "train=inputs.reshape(60000,784) # reshape the inputs shape from (60000,28,28) to (60000,784)\n",
        "train = np.float32(train) # change the datatype to float\n",
        "train /= np.max(train,axis=1).reshape(-1,1) # Normalize the data between 0 and 1\n",
        "\n",
        "# Now we separate the inputs into training and validation\n",
        "train_ = train[0:50000,:] # We use first 50000 images for training\n",
        "tr_labels = labels[0:50000]\n",
        "val = train[50000:60000,:] # We use the last 10000 images for validation\n",
        "val_labels = labels[50000:60000]\n",
        "data = {'train':train_,'tr_targets':tr_labels,'val':val,'tr_val':val_labels}\n"
      ],
      "execution_count": 6,
      "outputs": []
    },
    {
      "cell_type": "code",
      "metadata": {
        "id": "K121utvGbFtF",
        "colab_type": "code",
        "colab": {}
      },
      "source": [
        "# Initialize two_layered_NN instance\n",
        "from n_model import n_layered_NN\n",
        "model = n_layered_NN(data,reg=0)"
      ],
      "execution_count": 7,
      "outputs": []
    },
    {
      "cell_type": "code",
      "metadata": {
        "id": "RPfImiWMbFtH",
        "colab_type": "code",
        "colab": {
          "base_uri": "https://localhost:8080/",
          "height": 1000
        },
        "outputId": "c32da9b0-5283-4c94-c15d-e18a58ceb932"
      },
      "source": [
        "# Train the two layered neural network\n",
        "_,_,train_acc_history,val_acc_history=model.train()"
      ],
      "execution_count": 8,
      "outputs": [
        {
          "output_type": "stream",
          "text": [
            "***************************************************************\n",
            "|                  Model Specifications:                      |\n",
            "***************************************************************\n",
            "input dimensions         :(50000, 784)\n",
            "output dimensions        :10\n",
            "number of hidden layers  :2\n",
            "hidden layer dimensions  :[100, 100]\n",
            "learning rate            :0.01\n",
            "batch size               :50\n",
            "number of epochs         :70\n",
            "---------------------------------------------------------------\n",
            "regularization type      :None\n",
            "---------------------------------------------------------------\n",
            "Epoch 0/70\n",
            "Train accuracy: 0.84224 Validation accuracy: 0.8508\n",
            "Epoch 1/70\n",
            "Train accuracy: 0.87578 Validation accuracy: 0.881\n",
            "Epoch 2/70\n",
            "Train accuracy: 0.89744 Validation accuracy: 0.8996\n",
            "Epoch 3/70\n",
            "Train accuracy: 0.90776 Validation accuracy: 0.9092\n",
            "Epoch 4/70\n",
            "Train accuracy: 0.91592 Validation accuracy: 0.9155\n",
            "Epoch 5/70\n",
            "Train accuracy: 0.92368 Validation accuracy: 0.9211\n",
            "Epoch 6/70\n",
            "Train accuracy: 0.9268 Validation accuracy: 0.9247\n",
            "Epoch 7/70\n",
            "Train accuracy: 0.93218 Validation accuracy: 0.9289\n",
            "Epoch 8/70\n",
            "Train accuracy: 0.93472 Validation accuracy: 0.9316\n",
            "Epoch 9/70\n",
            "Train accuracy: 0.9395 Validation accuracy: 0.9359\n",
            "Epoch 10/70\n",
            "Train accuracy: 0.94302 Validation accuracy: 0.9392\n",
            "Epoch 11/70\n",
            "Train accuracy: 0.94342 Validation accuracy: 0.9392\n",
            "Epoch 12/70\n",
            "Train accuracy: 0.94708 Validation accuracy: 0.9405\n",
            "Epoch 13/70\n",
            "Train accuracy: 0.94906 Validation accuracy: 0.9434\n",
            "Epoch 14/70\n",
            "Train accuracy: 0.95122 Validation accuracy: 0.944\n",
            "Epoch 15/70\n",
            "Train accuracy: 0.95248 Validation accuracy: 0.9459\n",
            "Epoch 16/70\n",
            "Train accuracy: 0.95358 Validation accuracy: 0.9459\n",
            "Epoch 17/70\n",
            "Train accuracy: 0.956 Validation accuracy: 0.9484\n",
            "Epoch 18/70\n",
            "Train accuracy: 0.95764 Validation accuracy: 0.9469\n",
            "Epoch 19/70\n",
            "Train accuracy: 0.95954 Validation accuracy: 0.9488\n",
            "Epoch 20/70\n",
            "Train accuracy: 0.96058 Validation accuracy: 0.9493\n",
            "Epoch 21/70\n",
            "Train accuracy: 0.9606 Validation accuracy: 0.9497\n",
            "Epoch 22/70\n",
            "Train accuracy: 0.96238 Validation accuracy: 0.9498\n",
            "Epoch 23/70\n",
            "Train accuracy: 0.96348 Validation accuracy: 0.952\n",
            "Epoch 24/70\n",
            "Train accuracy: 0.96436 Validation accuracy: 0.9511\n",
            "Epoch 25/70\n",
            "Train accuracy: 0.96546 Validation accuracy: 0.9523\n",
            "Epoch 26/70\n",
            "Train accuracy: 0.96726 Validation accuracy: 0.9522\n",
            "Epoch 27/70\n",
            "Train accuracy: 0.96696 Validation accuracy: 0.9525\n",
            "Epoch 28/70\n",
            "Train accuracy: 0.96834 Validation accuracy: 0.9532\n",
            "Epoch 29/70\n",
            "Train accuracy: 0.96876 Validation accuracy: 0.9527\n",
            "Epoch 30/70\n",
            "Train accuracy: 0.97098 Validation accuracy: 0.9549\n",
            "Epoch 31/70\n",
            "Train accuracy: 0.97096 Validation accuracy: 0.9538\n",
            "Epoch 32/70\n",
            "Train accuracy: 0.9717 Validation accuracy: 0.9554\n",
            "Epoch 33/70\n",
            "Train accuracy: 0.97268 Validation accuracy: 0.9553\n",
            "Epoch 34/70\n",
            "Train accuracy: 0.97242 Validation accuracy: 0.9542\n",
            "Epoch 35/70\n",
            "Train accuracy: 0.97326 Validation accuracy: 0.9559\n",
            "Epoch 36/70\n",
            "Train accuracy: 0.97418 Validation accuracy: 0.9567\n",
            "Epoch 37/70\n",
            "Train accuracy: 0.97496 Validation accuracy: 0.9556\n",
            "Epoch 38/70\n",
            "Train accuracy: 0.97546 Validation accuracy: 0.9569\n",
            "Epoch 39/70\n",
            "Train accuracy: 0.97496 Validation accuracy: 0.9575\n",
            "Epoch 40/70\n",
            "Train accuracy: 0.97646 Validation accuracy: 0.9565\n",
            "Epoch 41/70\n",
            "Train accuracy: 0.9771 Validation accuracy: 0.9572\n",
            "Epoch 42/70\n",
            "Train accuracy: 0.9784 Validation accuracy: 0.9585\n",
            "Epoch 43/70\n",
            "Train accuracy: 0.97912 Validation accuracy: 0.9579\n",
            "Epoch 44/70\n",
            "Train accuracy: 0.9793 Validation accuracy: 0.9581\n",
            "Epoch 45/70\n",
            "Train accuracy: 0.97846 Validation accuracy: 0.957\n",
            "Epoch 46/70\n",
            "Train accuracy: 0.98042 Validation accuracy: 0.9587\n",
            "Epoch 47/70\n",
            "Train accuracy: 0.98052 Validation accuracy: 0.9588\n",
            "Epoch 48/70\n",
            "Train accuracy: 0.98128 Validation accuracy: 0.9576\n",
            "Epoch 49/70\n",
            "Train accuracy: 0.98162 Validation accuracy: 0.9585\n",
            "Epoch 50/70\n",
            "Train accuracy: 0.9813 Validation accuracy: 0.9588\n",
            "Epoch 51/70\n",
            "Train accuracy: 0.9827 Validation accuracy: 0.96\n",
            "Epoch 52/70\n",
            "Train accuracy: 0.98302 Validation accuracy: 0.9589\n",
            "Epoch 53/70\n",
            "Train accuracy: 0.98332 Validation accuracy: 0.959\n",
            "Epoch 54/70\n",
            "Train accuracy: 0.98404 Validation accuracy: 0.9593\n",
            "Epoch 55/70\n",
            "Train accuracy: 0.98472 Validation accuracy: 0.9601\n",
            "Epoch 56/70\n",
            "Train accuracy: 0.98366 Validation accuracy: 0.9605\n",
            "Epoch 57/70\n",
            "Train accuracy: 0.98464 Validation accuracy: 0.9592\n",
            "Epoch 58/70\n",
            "Train accuracy: 0.98558 Validation accuracy: 0.9598\n",
            "Epoch 59/70\n",
            "Train accuracy: 0.98566 Validation accuracy: 0.9593\n",
            "Epoch 60/70\n",
            "Train accuracy: 0.98474 Validation accuracy: 0.9592\n",
            "Epoch 61/70\n",
            "Train accuracy: 0.9867 Validation accuracy: 0.9602\n",
            "Epoch 62/70\n",
            "Train accuracy: 0.9855 Validation accuracy: 0.9602\n",
            "Epoch 63/70\n",
            "Train accuracy: 0.98732 Validation accuracy: 0.9615\n",
            "Epoch 64/70\n",
            "Train accuracy: 0.98666 Validation accuracy: 0.9613\n",
            "Epoch 65/70\n",
            "Train accuracy: 0.98804 Validation accuracy: 0.961\n",
            "Epoch 66/70\n",
            "Train accuracy: 0.98728 Validation accuracy: 0.9608\n",
            "Epoch 67/70\n",
            "Train accuracy: 0.9875 Validation accuracy: 0.9615\n",
            "Epoch 68/70\n",
            "Train accuracy: 0.9885 Validation accuracy: 0.9613\n",
            "Epoch 69/70\n",
            "Train accuracy: 0.98876 Validation accuracy: 0.9607\n"
          ],
          "name": "stdout"
        }
      ]
    },
    {
      "cell_type": "code",
      "metadata": {
        "id": "SmUgHumVbFtJ",
        "colab_type": "code",
        "colab": {
          "base_uri": "https://localhost:8080/",
          "height": 52
        },
        "outputId": "584c4c40-54bb-42ae-dde5-d75f890a66f3"
      },
      "source": [
        "# print best accuracies\n",
        "print('Best accuracy on training data: '+str(np.max(train_acc_history)))\n",
        "print('Best accuracy on test data :'+str(np.max(val_acc_history)))"
      ],
      "execution_count": 9,
      "outputs": [
        {
          "output_type": "stream",
          "text": [
            "Best accuracy on training data: 0.98876\n",
            "Best accuracy on test data :0.9615\n"
          ],
          "name": "stdout"
        }
      ]
    },
    {
      "cell_type": "code",
      "metadata": {
        "id": "ht7wBOIvbFtM",
        "colab_type": "code",
        "colab": {
          "base_uri": "https://localhost:8080/",
          "height": 295
        },
        "outputId": "7ffdd34e-3c24-4c92-dd06-b4fb3c3714e8"
      },
      "source": [
        "# Plot the accuracy curves\n",
        "plt.plot(np.subtract(1,train_acc_history),'g--',label='Training')\n",
        "plt.plot(np.subtract(1,val_acc_history),'r--',label='Validation')\n",
        "plt.legend()\n",
        "plt.xlabel('epoch')\n",
        "plt.ylabel('% error')\n",
        "plt.title('Error Curves without regularization')\n",
        "plt.show()"
      ],
      "execution_count": 11,
      "outputs": [
        {
          "output_type": "display_data",
          "data": {
            "image/png": "[encoded data removed]",
            "text/plain": [
              "<Figure size 432x288 with 1 Axes>"
            ]
          },
          "metadata": {
            "tags": [],
            "needs_background": "light"
          }
        }
      ]
    },
    {
      "cell_type": "markdown",
      "metadata": {
        "id": "mwc7YROYbFtO",
        "colab_type": "text"
      },
      "source": [
        "From the above graphs, you will observe that during training, the accuracy on training data reached $\\sim$ 98-100% while the validation accuracy only reached $\\sim$ 95-97%. This is an example of over-fitting as the trained model performs very well on training data but cannot perform equally on new unseen data(like validation/test). An ideal model should have the training,validation and test accuracy almost similar. In order to get such a model, we use regularization. "
      ]
    },
    {
      "cell_type": "markdown",
      "metadata": {
        "id": "7_pRbaLKbFtO",
        "colab_type": "text"
      },
      "source": [
        " ####  ------------------------------------------------------------------------- END OF DEMO -------------------------------------------------------------------------------"
      ]
    },
    {
      "cell_type": "markdown",
      "metadata": {
        "id": "H2qJ9OXAbFtO",
        "colab_type": "text"
      },
      "source": [
        "### 2. $L2$ Regularization"
      ]
    },
    {
      "cell_type": "markdown",
      "metadata": {
        "id": "hftJKAw_bFtP",
        "colab_type": "text"
      },
      "source": [
        "To reduce over fitting shown in the above demo, you will now implement the $L2$ regularization and observe how the model performs."
      ]
    },
    {
      "cell_type": "code",
      "metadata": {
        "id": "fDiY8dUtbFtP",
        "colab_type": "code",
        "colab": {
          "base_uri": "https://localhost:8080/",
          "height": 35
        },
        "outputId": "cb198bb4-64d4-4911-c444-a62d52e2a899"
      },
      "source": [
        "# Reset to remove all the clear all variables\n",
        "%reset"
      ],
      "execution_count": 12,
      "outputs": [
        {
          "output_type": "stream",
          "text": [
            "Once deleted, variables cannot be recovered. Proceed (y/[n])? y\n"
          ],
          "name": "stdout"
        }
      ]
    },
    {
      "cell_type": "markdown",
      "metadata": {
        "id": "7SHUAwkfbFtR",
        "colab_type": "text"
      },
      "source": [
        "Below is a paper to better understand $L2$:\n",
        "    \n",
        "https://papers.nips.cc/paper/563-a-simple-weight-decay-can-improve-generalization.pdf"
      ]
    },
    {
      "cell_type": "markdown",
      "metadata": {
        "id": "NU_Sn3-mbFtR",
        "colab_type": "text"
      },
      "source": [
        "__Implementation__"
      ]
    },
    {
      "cell_type": "markdown",
      "metadata": {
        "id": "Mek86QDzbFtS",
        "colab_type": "text"
      },
      "source": [
        "Open the layers.py file an update the code for following functions:\n",
        "1. loss\n",
        "2. backward_step\n",
        "\n",
        "You will have to implement L2 regularization in both functions using the equations given below:"
      ]
    },
    {
      "cell_type": "markdown",
      "metadata": {
        "id": "cRLcoI0KbFtS",
        "colab_type": "text"
      },
      "source": [
        "1. If $L$ is loss calculated using normal loss function, then the loss with regularization \n",
        "__$L = L + \\frac{reg*(\\sum_{n=1}^{N} {w_n^2})}{N}$__\n",
        "2. If __$\\delta_n$__ is the gradient of wegtht __$w_n$__, then by adding regularization, the values will be __$\\delta_n = \\delta_n + reg * w_n$__"
      ]
    },
    {
      "cell_type": "code",
      "metadata": {
        "id": "xEcwAg0zbFtS",
        "colab_type": "code",
        "colab": {}
      },
      "source": [
        "# Import the functions\n",
        "from layers import *\n",
        "from utils import *\n",
        "# Set up the packages\n",
        "import numpy as np\n",
        "import matplotlib.pyplot as plt\n",
        "import matplotlib as mpl"
      ],
      "execution_count": 13,
      "outputs": []
    },
    {
      "cell_type": "code",
      "metadata": {
        "id": "yRPt5bsibFtV",
        "colab_type": "code",
        "colab": {
          "base_uri": "https://localhost:8080/",
          "height": 100
        },
        "outputId": "513d5a31-3f2c-428a-d824-66c2eb17019b"
      },
      "source": [
        "# Load the training data\n",
        "inputs, labels = load_images_with_labels()\n",
        "\n",
        "# View first 8 examples\n",
        "fig, ax = plt.subplots(1,8)\n",
        "labl = []\n",
        "for i in range(8):\n",
        "    ax[i].imshow(inputs[i], cmap=mpl.cm.Greys)\n",
        "    ax[i].set_title(labels[i])\n",
        "plt.show()"
      ],
      "execution_count": 14,
      "outputs": [
        {
          "output_type": "display_data",
          "data": {
            "image/png": "[encoded data removed]",
            "text/plain": [
              "<Figure size 432x288 with 8 Axes>"
            ]
          },
          "metadata": {
            "tags": [],
            "needs_background": "light"
          }
        }
      ]
    },
    {
      "cell_type": "code",
      "metadata": {
        "id": "FoUNnxTnbFtW",
        "colab_type": "code",
        "colab": {}
      },
      "source": [
        "# Pre-processing the data\n",
        "train=inputs.reshape(60000,784) # reshape the inputs shape from (60000,28,28) to (60000,784)\n",
        "train = np.float32(train) # change the datatype to float\n",
        "train /= np.max(train,axis=1).reshape(-1,1) # Normalize the data between 0 and 1\n",
        "\n",
        "# Now we separate the inputs into training and validation\n",
        "train_ = train[0:50000,:] # We use first 50000 images for training\n",
        "tr_labels = labels[0:50000]\n",
        "val = train[50000:60000,:] # We use the last 10000 images for validation\n",
        "val_labels = labels[50000:60000]\n",
        "data = {'train':train_,'tr_targets':tr_labels,'val':val,'tr_val':val_labels}"
      ],
      "execution_count": 15,
      "outputs": []
    },
    {
      "cell_type": "code",
      "metadata": {
        "id": "IGtfiSGxbFtY",
        "colab_type": "code",
        "colab": {}
      },
      "source": [
        "# Initialize two_layered_NN instance\n",
        "from n_model import n_layered_NN\n",
        "model = n_layered_NN(data,regularization_type='L2',learning_rate=0.01,reg=0.01)"
      ],
      "execution_count": 16,
      "outputs": []
    },
    {
      "cell_type": "code",
      "metadata": {
        "id": "gvz6TMYfbFta",
        "colab_type": "code",
        "colab": {
          "base_uri": "https://localhost:8080/",
          "height": 1000
        },
        "outputId": "e89278de-03f0-46b3-e9a5-e015f6e1c2a7"
      },
      "source": [
        "# Train the two layered neural network\n",
        "_,_,train_acc_history,val_acc_history=model.train()"
      ],
      "execution_count": 17,
      "outputs": [
        {
          "output_type": "stream",
          "text": [
            "***************************************************************\n",
            "|                  Model Specifications:                      |\n",
            "***************************************************************\n",
            "input dimensions         :(50000, 784)\n",
            "output dimensions        :10\n",
            "number of hidden layers  :2\n",
            "hidden layer dimensions  :[100, 100]\n",
            "learning rate            :0.01\n",
            "batch size               :50\n",
            "number of epochs         :70\n",
            "---------------------------------------------------------------\n",
            "regularization type      :L2\n",
            "regularization constant  :0.01\n",
            "---------------------------------------------------------------\n",
            "Epoch 0/70\n",
            "Train accuracy: 0.85038 Validation accuracy: 0.8611\n",
            "Epoch 1/70\n",
            "Train accuracy: 0.88642 Validation accuracy: 0.8932\n",
            "Epoch 2/70\n",
            "Train accuracy: 0.90626 Validation accuracy: 0.9095\n",
            "Epoch 3/70\n",
            "Train accuracy: 0.9173 Validation accuracy: 0.918\n",
            "Epoch 4/70\n",
            "Train accuracy: 0.92206 Validation accuracy: 0.9239\n",
            "Epoch 5/70\n",
            "Train accuracy: 0.92516 Validation accuracy: 0.9293\n",
            "Epoch 6/70\n",
            "Train accuracy: 0.92948 Validation accuracy: 0.9334\n",
            "Epoch 7/70\n",
            "Train accuracy: 0.93126 Validation accuracy: 0.9341\n",
            "Epoch 8/70\n",
            "Train accuracy: 0.93276 Validation accuracy: 0.9373\n",
            "Epoch 9/70\n",
            "Train accuracy: 0.93498 Validation accuracy: 0.9392\n",
            "Epoch 10/70\n",
            "Train accuracy: 0.93566 Validation accuracy: 0.9401\n",
            "Epoch 11/70\n",
            "Train accuracy: 0.937 Validation accuracy: 0.9427\n",
            "Epoch 12/70\n",
            "Train accuracy: 0.93758 Validation accuracy: 0.9432\n",
            "Epoch 13/70\n",
            "Train accuracy: 0.93788 Validation accuracy: 0.9424\n",
            "Epoch 14/70\n",
            "Train accuracy: 0.9381 Validation accuracy: 0.9451\n",
            "Epoch 15/70\n",
            "Train accuracy: 0.93904 Validation accuracy: 0.9429\n",
            "Epoch 16/70\n",
            "Train accuracy: 0.93876 Validation accuracy: 0.9434\n",
            "Epoch 17/70\n",
            "Train accuracy: 0.94 Validation accuracy: 0.9435\n",
            "Epoch 18/70\n",
            "Train accuracy: 0.93982 Validation accuracy: 0.9433\n",
            "Epoch 19/70\n",
            "Train accuracy: 0.94054 Validation accuracy: 0.9461\n",
            "Epoch 20/70\n",
            "Train accuracy: 0.94072 Validation accuracy: 0.9456\n",
            "Epoch 21/70\n",
            "Train accuracy: 0.94158 Validation accuracy: 0.9462\n",
            "Epoch 22/70\n",
            "Train accuracy: 0.93948 Validation accuracy: 0.9446\n",
            "Epoch 23/70\n",
            "Train accuracy: 0.94202 Validation accuracy: 0.9472\n",
            "Epoch 24/70\n",
            "Train accuracy: 0.94116 Validation accuracy: 0.9457\n",
            "Epoch 25/70\n",
            "Train accuracy: 0.94234 Validation accuracy: 0.9476\n",
            "Epoch 26/70\n",
            "Train accuracy: 0.94288 Validation accuracy: 0.9477\n",
            "Epoch 27/70\n",
            "Train accuracy: 0.94186 Validation accuracy: 0.9464\n",
            "Epoch 28/70\n",
            "Train accuracy: 0.94222 Validation accuracy: 0.9476\n",
            "Epoch 29/70\n",
            "Train accuracy: 0.94286 Validation accuracy: 0.9477\n",
            "Epoch 30/70\n",
            "Train accuracy: 0.94346 Validation accuracy: 0.9502\n",
            "Epoch 31/70\n",
            "Train accuracy: 0.94358 Validation accuracy: 0.9497\n",
            "Epoch 32/70\n",
            "Train accuracy: 0.9441 Validation accuracy: 0.9495\n",
            "Epoch 33/70\n",
            "Train accuracy: 0.94482 Validation accuracy: 0.9505\n",
            "Epoch 34/70\n",
            "Train accuracy: 0.94402 Validation accuracy: 0.9499\n",
            "Epoch 35/70\n",
            "Train accuracy: 0.94462 Validation accuracy: 0.9483\n",
            "Epoch 36/70\n",
            "Train accuracy: 0.94528 Validation accuracy: 0.9507\n",
            "Epoch 37/70\n",
            "Train accuracy: 0.94588 Validation accuracy: 0.9504\n",
            "Epoch 38/70\n",
            "Train accuracy: 0.94518 Validation accuracy: 0.951\n",
            "Epoch 39/70\n",
            "Train accuracy: 0.94582 Validation accuracy: 0.9516\n",
            "Epoch 40/70\n",
            "Train accuracy: 0.9464 Validation accuracy: 0.952\n",
            "Epoch 41/70\n",
            "Train accuracy: 0.94626 Validation accuracy: 0.9523\n",
            "Epoch 42/70\n",
            "Train accuracy: 0.94544 Validation accuracy: 0.951\n",
            "Epoch 43/70\n",
            "Train accuracy: 0.94642 Validation accuracy: 0.9513\n",
            "Epoch 44/70\n",
            "Train accuracy: 0.94656 Validation accuracy: 0.9528\n",
            "Epoch 45/70\n",
            "Train accuracy: 0.94614 Validation accuracy: 0.9513\n",
            "Epoch 46/70\n",
            "Train accuracy: 0.9469 Validation accuracy: 0.9524\n",
            "Epoch 47/70\n",
            "Train accuracy: 0.94754 Validation accuracy: 0.9526\n",
            "Epoch 48/70\n",
            "Train accuracy: 0.9469 Validation accuracy: 0.9523\n",
            "Epoch 49/70\n",
            "Train accuracy: 0.94732 Validation accuracy: 0.9524\n",
            "Epoch 50/70\n",
            "Train accuracy: 0.9471 Validation accuracy: 0.952\n",
            "Epoch 51/70\n",
            "Train accuracy: 0.9477 Validation accuracy: 0.9526\n",
            "Epoch 52/70\n",
            "Train accuracy: 0.94764 Validation accuracy: 0.9531\n",
            "Epoch 53/70\n",
            "Train accuracy: 0.94742 Validation accuracy: 0.955\n",
            "Epoch 54/70\n",
            "Train accuracy: 0.94866 Validation accuracy: 0.9536\n",
            "Epoch 55/70\n",
            "Train accuracy: 0.94886 Validation accuracy: 0.9535\n",
            "Epoch 56/70\n",
            "Train accuracy: 0.94888 Validation accuracy: 0.9534\n",
            "Epoch 57/70\n",
            "Train accuracy: 0.94838 Validation accuracy: 0.9538\n",
            "Epoch 58/70\n",
            "Train accuracy: 0.94856 Validation accuracy: 0.9547\n",
            "Epoch 59/70\n",
            "Train accuracy: 0.9488 Validation accuracy: 0.9547\n",
            "Epoch 60/70\n",
            "Train accuracy: 0.9487 Validation accuracy: 0.9545\n",
            "Epoch 61/70\n",
            "Train accuracy: 0.94822 Validation accuracy: 0.9527\n",
            "Epoch 62/70\n",
            "Train accuracy: 0.94922 Validation accuracy: 0.955\n",
            "Epoch 63/70\n",
            "Train accuracy: 0.94914 Validation accuracy: 0.9546\n",
            "Epoch 64/70\n",
            "Train accuracy: 0.9491 Validation accuracy: 0.9545\n",
            "Epoch 65/70\n",
            "Train accuracy: 0.9491 Validation accuracy: 0.954\n",
            "Epoch 66/70\n",
            "Train accuracy: 0.94792 Validation accuracy: 0.9525\n",
            "Epoch 67/70\n",
            "Train accuracy: 0.94926 Validation accuracy: 0.9542\n",
            "Epoch 68/70\n",
            "Train accuracy: 0.94922 Validation accuracy: 0.9545\n",
            "Epoch 69/70\n",
            "Train accuracy: 0.9491 Validation accuracy: 0.955\n"
          ],
          "name": "stdout"
        }
      ]
    },
    {
      "cell_type": "code",
      "metadata": {
        "id": "s7aOGqOubFtc",
        "colab_type": "code",
        "colab": {
          "base_uri": "https://localhost:8080/",
          "height": 52
        },
        "outputId": "03644c73-1ec1-4e82-883d-f551d47d72d3"
      },
      "source": [
        "# print best accuracies\n",
        "print('Best accuracy on training data: '+str(np.max(train_acc_history)))\n",
        "print('Best accuracy on test data :'+str(np.max(val_acc_history)))"
      ],
      "execution_count": 18,
      "outputs": [
        {
          "output_type": "stream",
          "text": [
            "Best accuracy on training data: 0.94926\n",
            "Best accuracy on test data :0.955\n"
          ],
          "name": "stdout"
        }
      ]
    },
    {
      "cell_type": "code",
      "metadata": {
        "id": "ZsstJDnebFte",
        "colab_type": "code",
        "colab": {
          "base_uri": "https://localhost:8080/",
          "height": 295
        },
        "outputId": "0e33d866-dce4-4ed1-f725-9325941f5649"
      },
      "source": [
        "# Plot the accuracy curves\n",
        "plt.plot(np.subtract(1,train_acc_history),'g--',label='Training')\n",
        "plt.plot(np.subtract(1,val_acc_history),'r--',label='Validation')\n",
        "plt.legend()\n",
        "plt.xlabel('epoch')\n",
        "plt.ylabel('% error')\n",
        "plt.title('Error Curves with L2 regularization')\n",
        "plt.show()"
      ],
      "execution_count": 19,
      "outputs": [
        {
          "output_type": "display_data",
          "data": {
            "image/png": "[encoded data removed]",
            "text/plain": [
              "<Figure size 432x288 with 1 Axes>"
            ]
          },
          "metadata": {
            "tags": [],
            "needs_background": "light"
          }
        }
      ]
    },
    {
      "cell_type": "markdown",
      "metadata": {
        "id": "-ANsnxQRbFtf",
        "colab_type": "text"
      },
      "source": [
        "By implementing the $L2$ regularization, you should get the final training accuracy $\\sim$ 95-96% and validation accuracy $\\sim$ 95-96%. "
      ]
    },
    {
      "cell_type": "markdown",
      "metadata": {
        "id": "wlBIZuFabFtg",
        "colab_type": "text"
      },
      "source": [
        "### 3. Dropout "
      ]
    },
    {
      "cell_type": "code",
      "metadata": {
        "id": "_T1rUyP2bFtg",
        "colab_type": "code",
        "colab": {
          "base_uri": "https://localhost:8080/",
          "height": 35
        },
        "outputId": "813a8c4a-fefd-4a86-fe90-de0c33cacbde"
      },
      "source": [
        "%reset"
      ],
      "execution_count": 20,
      "outputs": [
        {
          "output_type": "stream",
          "text": [
            "Once deleted, variables cannot be recovered. Proceed (y/[n])? y\n"
          ],
          "name": "stdout"
        }
      ]
    },
    {
      "cell_type": "markdown",
      "metadata": {
        "id": "dl277ON6bFti",
        "colab_type": "text"
      },
      "source": [
        "Dropout is a regularization technique developed by Nitish Srivastava in 2014. The idea is to randomly drop units (hidden neurons) during training. This introduces noise in the model and prevents it from co-adapting to the training data too much. \n"
      ]
    },
    {
      "cell_type": "markdown",
      "metadata": {
        "id": "psMcBTH8bFti",
        "colab_type": "text"
      },
      "source": [
        "![Dropout](dropout_img.png)"
      ]
    },
    {
      "cell_type": "markdown",
      "metadata": {
        "id": "VsjQokg4bFti",
        "colab_type": "text"
      },
      "source": [
        "The image is taken from original dropout paper: \n",
        "https://arxiv.org/pdf/1502.03167.pdf . You can also read from the paper to get better idea on dropout.\n",
        "\n"
      ]
    },
    {
      "cell_type": "markdown",
      "metadata": {
        "id": "TsIDRgT5bFtj",
        "colab_type": "text"
      },
      "source": [
        "Now complete the following functions in layers.py\n",
        "1. dropout_forward  \n",
        "2. dropout_backward "
      ]
    },
    {
      "cell_type": "markdown",
      "metadata": {
        "id": "G9vxIbRjbFtj",
        "colab_type": "text"
      },
      "source": [
        "Note: \n",
        "1. Dropout is used only during training since it aims to generalize the model weights. \n",
        "2. The $p$ = 0.8 in the code is the keep probability i.e. each neuron has a probability of 0.8 to participate in an iteration during training.\n"
      ]
    },
    {
      "cell_type": "code",
      "metadata": {
        "id": "ZTf25Pu1bFtj",
        "colab_type": "code",
        "colab": {}
      },
      "source": [
        "# Import the functions\n",
        "from layers import *\n",
        "from utils import *\n",
        "# Set up the packages\n",
        "import numpy as np\n",
        "import matplotlib.pyplot as plt\n",
        "import matplotlib as mpl"
      ],
      "execution_count": 21,
      "outputs": []
    },
    {
      "cell_type": "code",
      "metadata": {
        "id": "u06mJ22lbFtl",
        "colab_type": "code",
        "colab": {
          "base_uri": "https://localhost:8080/",
          "height": 100
        },
        "outputId": "86a77c97-038d-4af4-80c3-acd92beb209d"
      },
      "source": [
        "# Load the training data\n",
        "inputs, labels = load_images_with_labels()\n",
        "\n",
        "# View first 8 examples\n",
        "fig, ax = plt.subplots(1,8)\n",
        "labl = []\n",
        "for i in range(8):\n",
        "    ax[i].imshow(inputs[i], cmap=mpl.cm.Greys)\n",
        "    ax[i].set_title(labels[i])\n",
        "plt.show()"
      ],
      "execution_count": 22,
      "outputs": [
        {
          "output_type": "display_data",
          "data": {
            "image/png": "[encoded data removed]",
            "text/plain": [
              "<Figure size 432x288 with 8 Axes>"
            ]
          },
          "metadata": {
            "tags": [],
            "needs_background": "light"
          }
        }
      ]
    },
    {
      "cell_type": "code",
      "metadata": {
        "id": "kK3OuARubFtm",
        "colab_type": "code",
        "colab": {}
      },
      "source": [
        "# Pre-processing the data\n",
        "train=inputs.reshape(60000,784) # reshape the inputs shape from (60000,28,28) to (60000,784)\n",
        "train = np.float32(train) # change the datatype to float\n",
        "train /= np.max(train,axis=1).reshape(-1,1) # Normalize the data between 0 and 1\n",
        "\n",
        "# Now we separate the inputs into training and validation\n",
        "train_ = train[0:50000,:] # We use first 50000 images for training\n",
        "tr_labels = labels[0:50000]\n",
        "val = train[50000:60000,:] # We use the last 10000 images for validation\n",
        "val_labels = labels[50000:60000]\n",
        "data = {'train':train_,'tr_targets':tr_labels,'val':val,'tr_val':val_labels}"
      ],
      "execution_count": 23,
      "outputs": []
    },
    {
      "cell_type": "code",
      "metadata": {
        "id": "4UFO7ddMbFto",
        "colab_type": "code",
        "colab": {}
      },
      "source": [
        "# Initialize two_layered_NN instance\n",
        "from n_model import n_layered_NN\n",
        "model = n_layered_NN(data,regularization_type='dropout',learning_rate=0.01)"
      ],
      "execution_count": 24,
      "outputs": []
    },
    {
      "cell_type": "code",
      "metadata": {
        "id": "6aMEesvbbFtq",
        "colab_type": "code",
        "colab": {
          "base_uri": "https://localhost:8080/",
          "height": 1000
        },
        "outputId": "255a7348-50e3-45b1-af76-84f4d905402e"
      },
      "source": [
        "# Train the two layered neural network\n",
        "_,_,train_acc_history,val_acc_history=model.train()"
      ],
      "execution_count": 25,
      "outputs": [
        {
          "output_type": "stream",
          "text": [
            "***************************************************************\n",
            "|                  Model Specifications:                      |\n",
            "***************************************************************\n",
            "input dimensions         :(50000, 784)\n",
            "output dimensions        :10\n",
            "number of hidden layers  :2\n",
            "hidden layer dimensions  :[100, 100]\n",
            "learning rate            :0.01\n",
            "batch size               :50\n",
            "number of epochs         :70\n",
            "---------------------------------------------------------------\n",
            "regularization type      :dropout\n",
            "dropout keep probability :0.8\n",
            "---------------------------------------------------------------\n",
            "Epoch 0/70\n",
            "Train accuracy: 0.8012 Validation accuracy: 0.815\n",
            "Epoch 1/70\n",
            "Train accuracy: 0.84574 Validation accuracy: 0.8575\n",
            "Epoch 2/70\n",
            "Train accuracy: 0.86514 Validation accuracy: 0.8747\n",
            "Epoch 3/70\n",
            "Train accuracy: 0.87914 Validation accuracy: 0.8859\n",
            "Epoch 4/70\n",
            "Train accuracy: 0.88834 Validation accuracy: 0.8942\n",
            "Epoch 5/70\n",
            "Train accuracy: 0.89592 Validation accuracy: 0.9018\n",
            "Epoch 6/70\n",
            "Train accuracy: 0.90244 Validation accuracy: 0.906\n",
            "Epoch 7/70\n",
            "Train accuracy: 0.906 Validation accuracy: 0.9093\n",
            "Epoch 8/70\n",
            "Train accuracy: 0.90966 Validation accuracy: 0.9135\n",
            "Epoch 9/70\n",
            "Train accuracy: 0.91324 Validation accuracy: 0.9173\n",
            "Epoch 10/70\n",
            "Train accuracy: 0.91642 Validation accuracy: 0.9186\n",
            "Epoch 11/70\n",
            "Train accuracy: 0.91904 Validation accuracy: 0.9228\n",
            "Epoch 12/70\n",
            "Train accuracy: 0.92152 Validation accuracy: 0.9227\n",
            "Epoch 13/70\n",
            "Train accuracy: 0.92308 Validation accuracy: 0.926\n",
            "Epoch 14/70\n",
            "Train accuracy: 0.92486 Validation accuracy: 0.9274\n",
            "Epoch 15/70\n",
            "Train accuracy: 0.9273 Validation accuracy: 0.9308\n",
            "Epoch 16/70\n",
            "Train accuracy: 0.92936 Validation accuracy: 0.9332\n",
            "Epoch 17/70\n",
            "Train accuracy: 0.93146 Validation accuracy: 0.9348\n",
            "Epoch 18/70\n",
            "Train accuracy: 0.9329 Validation accuracy: 0.9359\n",
            "Epoch 19/70\n",
            "Train accuracy: 0.93438 Validation accuracy: 0.936\n",
            "Epoch 20/70\n",
            "Train accuracy: 0.93482 Validation accuracy: 0.9367\n",
            "Epoch 21/70\n",
            "Train accuracy: 0.93646 Validation accuracy: 0.9388\n",
            "Epoch 22/70\n",
            "Train accuracy: 0.93726 Validation accuracy: 0.9398\n",
            "Epoch 23/70\n",
            "Train accuracy: 0.93818 Validation accuracy: 0.9399\n",
            "Epoch 24/70\n",
            "Train accuracy: 0.93984 Validation accuracy: 0.941\n",
            "Epoch 25/70\n",
            "Train accuracy: 0.94102 Validation accuracy: 0.9414\n",
            "Epoch 26/70\n",
            "Train accuracy: 0.942 Validation accuracy: 0.9428\n",
            "Epoch 27/70\n",
            "Train accuracy: 0.94302 Validation accuracy: 0.9444\n",
            "Epoch 28/70\n",
            "Train accuracy: 0.94392 Validation accuracy: 0.9447\n",
            "Epoch 29/70\n",
            "Train accuracy: 0.94396 Validation accuracy: 0.9441\n",
            "Epoch 30/70\n",
            "Train accuracy: 0.94498 Validation accuracy: 0.945\n",
            "Epoch 31/70\n",
            "Train accuracy: 0.94578 Validation accuracy: 0.9469\n",
            "Epoch 32/70\n",
            "Train accuracy: 0.94668 Validation accuracy: 0.9465\n",
            "Epoch 33/70\n",
            "Train accuracy: 0.94736 Validation accuracy: 0.9476\n",
            "Epoch 34/70\n",
            "Train accuracy: 0.94814 Validation accuracy: 0.9478\n",
            "Epoch 35/70\n",
            "Train accuracy: 0.94912 Validation accuracy: 0.9485\n",
            "Epoch 36/70\n",
            "Train accuracy: 0.94914 Validation accuracy: 0.9484\n",
            "Epoch 37/70\n",
            "Train accuracy: 0.9498 Validation accuracy: 0.9486\n",
            "Epoch 38/70\n",
            "Train accuracy: 0.9505 Validation accuracy: 0.9497\n",
            "Epoch 39/70\n",
            "Train accuracy: 0.95126 Validation accuracy: 0.95\n",
            "Epoch 40/70\n",
            "Train accuracy: 0.9519 Validation accuracy: 0.9501\n",
            "Epoch 41/70\n",
            "Train accuracy: 0.95254 Validation accuracy: 0.9516\n",
            "Epoch 42/70\n",
            "Train accuracy: 0.95262 Validation accuracy: 0.9497\n",
            "Epoch 43/70\n",
            "Train accuracy: 0.95362 Validation accuracy: 0.9512\n",
            "Epoch 44/70\n",
            "Train accuracy: 0.95446 Validation accuracy: 0.9525\n",
            "Epoch 45/70\n",
            "Train accuracy: 0.95426 Validation accuracy: 0.9514\n",
            "Epoch 46/70\n",
            "Train accuracy: 0.95514 Validation accuracy: 0.9516\n",
            "Epoch 47/70\n",
            "Train accuracy: 0.95538 Validation accuracy: 0.9522\n",
            "Epoch 48/70\n",
            "Train accuracy: 0.95634 Validation accuracy: 0.9522\n",
            "Epoch 49/70\n",
            "Train accuracy: 0.95726 Validation accuracy: 0.9542\n",
            "Epoch 50/70\n",
            "Train accuracy: 0.95714 Validation accuracy: 0.9538\n",
            "Epoch 51/70\n",
            "Train accuracy: 0.95752 Validation accuracy: 0.954\n",
            "Epoch 52/70\n",
            "Train accuracy: 0.95792 Validation accuracy: 0.9541\n",
            "Epoch 53/70\n",
            "Train accuracy: 0.95774 Validation accuracy: 0.9538\n",
            "Epoch 54/70\n",
            "Train accuracy: 0.95854 Validation accuracy: 0.9545\n",
            "Epoch 55/70\n",
            "Train accuracy: 0.95886 Validation accuracy: 0.9543\n",
            "Epoch 56/70\n",
            "Train accuracy: 0.95898 Validation accuracy: 0.9542\n",
            "Epoch 57/70\n",
            "Train accuracy: 0.95926 Validation accuracy: 0.9551\n",
            "Epoch 58/70\n",
            "Train accuracy: 0.95968 Validation accuracy: 0.9557\n",
            "Epoch 59/70\n",
            "Train accuracy: 0.96002 Validation accuracy: 0.955\n",
            "Epoch 60/70\n",
            "Train accuracy: 0.96024 Validation accuracy: 0.9558\n",
            "Epoch 61/70\n",
            "Train accuracy: 0.96132 Validation accuracy: 0.9563\n",
            "Epoch 62/70\n",
            "Train accuracy: 0.96148 Validation accuracy: 0.9555\n",
            "Epoch 63/70\n",
            "Train accuracy: 0.96156 Validation accuracy: 0.9569\n",
            "Epoch 64/70\n",
            "Train accuracy: 0.96254 Validation accuracy: 0.9573\n",
            "Epoch 65/70\n",
            "Train accuracy: 0.96282 Validation accuracy: 0.9564\n",
            "Epoch 66/70\n",
            "Train accuracy: 0.9628 Validation accuracy: 0.9573\n",
            "Epoch 67/70\n",
            "Train accuracy: 0.96266 Validation accuracy: 0.9572\n",
            "Epoch 68/70\n",
            "Train accuracy: 0.96294 Validation accuracy: 0.9572\n",
            "Epoch 69/70\n",
            "Train accuracy: 0.96318 Validation accuracy: 0.9572\n"
          ],
          "name": "stdout"
        }
      ]
    },
    {
      "cell_type": "code",
      "metadata": {
        "id": "AVvdIkJkbFts",
        "colab_type": "code",
        "colab": {
          "base_uri": "https://localhost:8080/",
          "height": 52
        },
        "outputId": "a2555f32-4a09-48b6-e80b-de03f6da4ce2"
      },
      "source": [
        "# print best accuracies\n",
        "print('Best accuracy on training data: '+str(np.max(train_acc_history)))\n",
        "print('Best accuracy on test data :'+str(np.max(val_acc_history)))"
      ],
      "execution_count": 26,
      "outputs": [
        {
          "output_type": "stream",
          "text": [
            "Best accuracy on training data: 0.96318\n",
            "Best accuracy on test data :0.9573\n"
          ],
          "name": "stdout"
        }
      ]
    },
    {
      "cell_type": "code",
      "metadata": {
        "id": "B1O9mwebbFtu",
        "colab_type": "code",
        "colab": {
          "base_uri": "https://localhost:8080/",
          "height": 295
        },
        "outputId": "a66fe46b-bb81-4ca2-d3ef-a0d917b2b5d2"
      },
      "source": [
        "# Plot the accuracy curves\n",
        "plt.plot(np.subtract(1,train_acc_history),'g--',label='Training')\n",
        "plt.plot(np.subtract(1,val_acc_history),'r--',label='Validation')\n",
        "plt.legend()\n",
        "plt.xlabel('epoch')\n",
        "plt.ylabel('% error')\n",
        "plt.title('Error Curves with dropout')\n",
        "plt.show()"
      ],
      "execution_count": 27,
      "outputs": [
        {
          "output_type": "display_data",
          "data": {
            "image/png": "[encoded data removed]",
            "text/plain": [
              "<Figure size 432x288 with 1 Axes>"
            ]
          },
          "metadata": {
            "tags": [],
            "needs_background": "light"
          }
        }
      ]
    },
    {
      "cell_type": "markdown",
      "metadata": {
        "id": "RPxKlIxVbFtv",
        "colab_type": "text"
      },
      "source": [
        "You should get similar performance as that of $L2$ regularization"
      ]
    },
    {
      "cell_type": "code",
      "metadata": {
        "id": "DzsALLrBbFtv",
        "colab_type": "code",
        "colab": {}
      },
      "source": [
        ""
      ],
      "execution_count": null,
      "outputs": []
    }
  ]
}