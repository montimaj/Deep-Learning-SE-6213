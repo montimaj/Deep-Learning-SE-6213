{
  "nbformat": 4,
  "nbformat_minor": 0,
  "metadata": {
    "kernelspec": {
      "display_name": "Python 2",
      "language": "python",
      "name": "python2"
    },
    "language_info": {
      "codemirror_mode": {
        "name": "ipython",
        "version": 2
      },
      "file_extension": ".py",
      "mimetype": "text/x-python",
      "name": "python",
      "nbconvert_exporter": "python",
      "pygments_lexer": "ipython2",
      "version": "2.7.13"
    },
    "colab": {
      "name": "HW2_Sayantan.ipynb",
      "provenance": [],
      "collapsed_sections": [],
      "toc_visible": true,
      "include_colab_link": true
    }
  },
  "cells": [
    {
      "cell_type": "markdown",
      "metadata": {
        "id": "view-in-github",
        "colab_type": "text"
      },
      "source": [
        "<a href=\"https://colab.research.google.com/github/montimaj/Deep-Learning-SE-6213/blob/master/HW2/HW2_Sayantan.ipynb\" target=\"_parent\"><img src=\"https://colab.research.google.com/assets/colab-badge.svg\" alt=\"Open In Colab\"/></a>"
      ]
    },
    {
      "cell_type": "markdown",
      "metadata": {
        "id": "e1mUj8b19lpV",
        "colab_type": "text"
      },
      "source": [
        "# SYS ENG 6213 - Deep Learning and Advanced Neural Networks "
      ]
    },
    {
      "cell_type": "markdown",
      "metadata": {
        "id": "6agd8XtI9lpX",
        "colab_type": "text"
      },
      "source": [
        "### Implementation of two layer neural network for classification of MNIST data\n",
        "\n"
      ]
    },
    {
      "cell_type": "code",
      "metadata": {
        "id": "LMUjfyHu944Z",
        "colab_type": "code",
        "colab": {
          "base_uri": "https://localhost:8080/",
          "height": 35
        },
        "outputId": "59ea8ee9-e053-4cc8-f322-dd562e0896f4"
      },
      "source": [
        "!ls"
      ],
      "execution_count": 14,
      "outputs": [
        {
          "output_type": "stream",
          "text": [
            "HW2_Sayantan.ipynb  hw2_sayantan.py  layers.py\tMNIST_data  utils.pyc\n"
          ],
          "name": "stdout"
        }
      ]
    },
    {
      "cell_type": "code",
      "metadata": {
        "id": "Zd_avEPG-CnW",
        "colab_type": "code",
        "colab": {
          "base_uri": "https://localhost:8080/",
          "height": 35
        },
        "outputId": "7bc12ba7-5749-4638-a416-f429cfa5394f"
      },
      "source": [
        "from google.colab import drive\n",
        "drive.mount('/content/drive')"
      ],
      "execution_count": 12,
      "outputs": [
        {
          "output_type": "stream",
          "text": [
            "Drive already mounted at /content/drive; to attempt to forcibly remount, call drive.mount(\"/content/drive\", force_remount=True).\n"
          ],
          "name": "stdout"
        }
      ]
    },
    {
      "cell_type": "code",
      "metadata": {
        "id": "TeS0X4kP-Ead",
        "colab_type": "code",
        "colab": {
          "base_uri": "https://localhost:8080/",
          "height": 70
        },
        "outputId": "de4f6e2e-43b4-4e92-88b9-e7b54fa5e7f2"
      },
      "source": [
        "%cd 'drive/My Drive/SysEng 6213 Fall 2020 Sayantan Majumdar /HW2/'\n",
        "!ls"
      ],
      "execution_count": 13,
      "outputs": [
        {
          "output_type": "stream",
          "text": [
            "[Errno 2] No such file or directory: 'drive/My Drive/SysEng 6213 Fall 2020 Sayantan Majumdar /HW2/'\n",
            "/content/drive/.shortcut-targets-by-id/1xpWpUfn0NqGtbgAP_303jr6QW5RKzJPR/SysEng 6213 Fall 2020 Sayantan Majumdar /HW2\n",
            "HW2_Sayantan.ipynb  hw2_sayantan.py  layers.py\tMNIST_data  utils.pyc\n"
          ],
          "name": "stdout"
        }
      ]
    },
    {
      "cell_type": "markdown",
      "metadata": {
        "id": "qht_Pbuw9lpY",
        "colab_type": "text"
      },
      "source": [
        "In this homework you will be implementing a simple two layered neural network to recognize hand-written digits. Open the layers.py file. It has different functions which will be used for training the neural network. You need to complete each function with appropriate code in the spaces provided. You can check the correctness of your code by using the function calls below:"
      ]
    },
    {
      "cell_type": "code",
      "metadata": {
        "id": "yGOgTIqC9lpZ",
        "colab_type": "code",
        "colab": {}
      },
      "source": [
        "# Import the functions\n",
        "from layers import *\n",
        "from utils import *\n",
        "# Set up the packages\n",
        "import numpy as np\n",
        "import matplotlib.pyplot as plt\n",
        "import matplotlib as mpl"
      ],
      "execution_count": 21,
      "outputs": []
    },
    {
      "cell_type": "code",
      "metadata": {
        "id": "X-wV-UDBIYun",
        "colab_type": "code",
        "colab": {
          "base_uri": "https://localhost:8080/",
          "height": 70
        },
        "outputId": "19e3e295-12cf-4349-fd2d-8baf799aade2"
      },
      "source": [
        "# Test cell to check if user-defined functions from imported files work\n",
        "print(softmax(np.array([[1, 2, 3], [4, 5, 6], [7, 8, 9]])))"
      ],
      "execution_count": 22,
      "outputs": [
        {
          "output_type": "stream",
          "text": [
            "[[0.09003057 0.24472847 0.66524096]\n",
            " [0.09003057 0.24472847 0.66524096]\n",
            " [0.09003057 0.24472847 0.66524096]]\n"
          ],
          "name": "stdout"
        }
      ]
    },
    {
      "cell_type": "code",
      "metadata": {
        "id": "qXovxjYT9lph",
        "colab_type": "code",
        "colab": {}
      },
      "source": [
        "# Initialize values for check functions\n",
        "test_x = np.asarray([\n",
        "  [-0.000615  ,  0.0214419 , -0.36510585,  0.20082408],\n",
        "  [ 0.22389826,  0.14115274,  0.05578092,  0.1698094 ],\n",
        "  [-0.23772221,  0.00885403, -0.13013507,  0.02939912],\n",
        "  [ 0.05740505, -0.026481  ,  0.09055714, -0.51067097],\n",
        "  [ 0.02905955, -0.26222096,  0.23401101, -0.32704291]])\n",
        "test_w = np.asarray([\n",
        "  [ 0.14083526, -0.00589104, -0.01267299],\n",
        "  [ 0.2149024 ,  0.05601603,  0.22214587],\n",
        "  [-0.0246409 ,  0.01524164, -0.16539496],\n",
        "  [-0.07199102, -0.12796543,  0.2509505 ]])\n",
        "test_b = np.asarray([0.24348208,  0.02070011, -0.05303671])\n",
        "fs_scores = np.asarray([[ 0.24254239, -0.00935853,  0.06251788],\n",
        "       [ 0.29174967,  0.00640839,  0.0088702 ],\n",
        "       [ 0.21299534,  0.01685097, -0.01915576],\n",
        "       [ 0.28040822,  0.08560704, -0.20277768],\n",
        "       [ 0.20900069,  0.05125724, -0.23243211]])\n",
        "ftest_w = np.asarray([[ 0.03670967,  0.00383852, -0.01189351],\n",
        "        [-0.01396215, -0.01485459,  0.06874128],\n",
        "        [-0.02569631,  0.0213285 , -0.09259266],\n",
        "        [-0.10703647, -0.06077616,  0.19306612]])\n",
        "ftest_b = np.asarray([ 1.23669631,  0.15076511, -0.38297747])\n",
        "ftest_x = np.asarray([[ 0.03342136,  0.0654868 , -0.01645924, -0.00057441],\n",
        "        [ 0.04093848,  0.06502716, -0.00855839, -0.01959743],\n",
        "        [ 0.03014075,  0.04246176, -0.00182329, -0.02229724],\n",
        "        [ 0.04155685,  0.02000954,  0.02793369, -0.08202878],\n",
        "        [ 0.03207832, -0.00384786,  0.03407438, -0.07993428]])\n",
        "frelu = np.asarray([[ 0.24254239,  0.        ,  0.06251788],\n",
        "        [ 0.29174967,  0.00640839,  0.0088702 ],\n",
        "        [ 0.21299534,  0.01685097,  0.        ],\n",
        "        [ 0.28040822,  0.08560704,  0.        ],\n",
        "        [ 0.20900069,  0.05125724,  0.        ]])\n",
        "brelu = np.asarray([[ 0.14254239,  0.        , -0.03748212],\n",
        "       [ 0.19174967, -0.09359161, -0.0911298 ],\n",
        "       [ 0.11299534, -0.08314903,  0.        ],\n",
        "       [ 0.18040822, -0.01439296,  0.        ],\n",
        "       [ 0.10900069, -0.04874276,  0.        ]])\n",
        "ssoftmax = np.asarray([[ 0.25380621,  0.25946659,  0.17628115,  0.31044604],\n",
        "        [ 0.26931036,  0.24792319,  0.22763584,  0.25513061],\n",
        "        [ 0.21279206,  0.27229653,  0.23696266,  0.27794875],\n",
        "        [ 0.28410234,  0.26124234,  0.29367879,  0.16097652],\n",
        "        [ 0.27209608,  0.20333904,  0.33398855,  0.19057633]])\n",
        "test_y = np.asarray([3, 0, 1, 2, 1])\n",
        "test_l = 1.3201297629287778\n",
        "test_de = np.asarray([[ 0.05076124,  0.05189332,  0.03525623, -0.13791079],\n",
        "        [-0.14613793,  0.04958464,  0.04552717,  0.05102612],\n",
        "        [ 0.04255841, -0.14554069,  0.04739253,  0.05558975],\n",
        "        [ 0.05682047,  0.05224847, -0.14126424,  0.0321953 ],\n",
        "        [ 0.05441922, -0.15933219,  0.06679771,  0.03811527]])\n"
      ],
      "execution_count": 23,
      "outputs": []
    },
    {
      "cell_type": "code",
      "metadata": {
        "id": "lAPXzAKV9lpn",
        "colab_type": "code",
        "colab": {
          "base_uri": "https://localhost:8080/",
          "height": 510
        },
        "outputId": "1b1f1b18-ca7d-4996-c8ea-6a94144d31eb"
      },
      "source": [
        "# Run this block to check the values for all functions in layers.py\n",
        "print('Note: The difference between the actual values and calculated values should be <1e-7 for all functions.')\n",
        "print('')\n",
        "print('1. Checking forward_step..')\n",
        "forward_step_scores, cache = forward_step(test_x, test_w, test_b)\n",
        "diff = np.sum(np.abs(forward_step_scores - fs_scores))\n",
        "print('The difference values is: '+str(diff))\n",
        "if diff < 1e-7:\n",
        "    print('forward_step check passed ...')\n",
        "else:\n",
        "    print('forward_step check failed !!')\n",
        "print('')\n",
        "print ('2. Checking backward_step...')\n",
        "dtest_w, dtest_b, dtest_x = backward_step(fs_scores, cache)\n",
        "diff_x = np.sum(np.abs(dtest_x - ftest_x))\n",
        "diff_w = np.sum(np.abs(dtest_w - ftest_w))\n",
        "diff_b = np.sum(np.abs(dtest_b - ftest_b))\n",
        "print('The difference values for dx is: ' + str(diff_x))\n",
        "print('The difference values for dw is: ' + str(diff_w))\n",
        "print('The difference values for db is: ' + str(diff_b))\n",
        "if (diff_x < 1e-7 and diff_w < 1e-7 and diff_b < 1e-7):\n",
        "    print('backward_step check passed !!')\n",
        "else:\n",
        "    print('backward_step check failed !!')\n",
        "print('')\n",
        "print('3. Checking ReLu_forward...')\n",
        "r_score, cache = ReLu_forward(fs_scores)\n",
        "diff_relu = np.sum(np.abs(r_score - frelu))\n",
        "print('The difference value is: ' + str(diff_relu))\n",
        "if diff_relu < 1e-7:\n",
        "    print('ReLu_forward check passed !!')\n",
        "else:\n",
        "    print('ReLu_forward check failed !!')\n",
        "print('')\n",
        "print('4. Checking ReLu_backward...')\n",
        "dr_score = ReLu_backward(frelu - 0.1, cache)\n",
        "diff_relu = np.sum(np.abs(dr_score - brelu))\n",
        "print('The difference value is: ' + str(diff_relu))\n",
        "if diff_relu < 1e-7:\n",
        "    print('ReLu_backward check passed !!')\n",
        "else:\n",
        "    print('ReLu_backward check failed !!')\n",
        "print('')\n",
        "print('5. Checking softmax...')\n",
        "s_score = softmax(test_x)\n",
        "diff = np.sum(np.abs(s_score - ssoftmax))\n",
        "print('The difference values is: ' + str(diff))\n",
        "if diff < 1e-7:\n",
        "    print('softmax check passed !!')\n",
        "else:\n",
        "    print('softmax check failed !!')\n",
        "print('')\n",
        "print('6. Checking loss...')\n",
        "l, lde = loss(ssoftmax, test_y)\n",
        "diff_l = np.sum(np.abs(l - test_l))\n",
        "diff_de = np.sum(np.abs(lde - test_de))\n",
        "print('The difference between values for loss is: ' + str(diff_l))\n",
        "print('The difference between values for de is:' + str(diff_de))\n",
        "if (diff_l < 1e-7 and diff_de < 1e-7):\n",
        "    print('loss check passed !!')\n",
        "else:\n",
        "    print('loss check failed !!')"
      ],
      "execution_count": 24,
      "outputs": [
        {
          "output_type": "stream",
          "text": [
            "Note: The difference between the actual values and calculated values should be <1e-7 for all functions.\n",
            "\n",
            "1. Checking forward_step..\n",
            "The difference values is: 3.690392374848528e-08\n",
            "forward_step check passed ...\n",
            "\n",
            "2. Checking backward_step...\n",
            "The difference values for dx is: 5.7273561981582843e-08\n",
            "The difference values for dw is: 3.372888388855286e-08\n",
            "The difference values for db is: 2.220446049250313e-16\n",
            "backward_step check passed !!\n",
            "\n",
            "3. Checking ReLu_forward...\n",
            "The difference value is: 0.0\n",
            "ReLu_forward check passed !!\n",
            "\n",
            "4. Checking ReLu_backward...\n",
            "The difference value is: 8.673617379884035e-17\n",
            "ReLu_backward check passed !!\n",
            "\n",
            "5. Checking softmax...\n",
            "The difference values is: 5.824567878010001e-08\n",
            "softmax check passed !!\n",
            "\n",
            "6. Checking loss...\n",
            "The difference between values for loss is: 0.0\n",
            "The difference between values for de is:4.199999995013748e-08\n",
            "loss check passed !!\n"
          ],
          "name": "stdout"
        }
      ]
    },
    {
      "cell_type": "markdown",
      "metadata": {
        "collapsed": true,
        "id": "2sNqIJgp9lpv",
        "colab_type": "text"
      },
      "source": [
        "If all the checks are passed, we can now start the training of the neural network for the MNIST dataset. We start by loading the data and displaying few images with their corresponding labels."
      ]
    },
    {
      "cell_type": "code",
      "metadata": {
        "id": "guor4Pps9lpw",
        "colab_type": "code",
        "colab": {
          "base_uri": "https://localhost:8080/",
          "height": 100
        },
        "outputId": "349aa291-ed55-46a2-aad4-c8b9125865d5"
      },
      "source": [
        "# Load the training data\n",
        "inputs, labels = load_images_with_labels()\n",
        "\n",
        "# View first 8 examples\n",
        "fig, ax = plt.subplots(1,8)\n",
        "labl = []\n",
        "for i in range(8):\n",
        "    ax[i].imshow(inputs[i], cmap=mpl.cm.Greys)\n",
        "    ax[i].set_title(labels[i])\n",
        "plt.show()\n"
      ],
      "execution_count": 25,
      "outputs": [
        {
          "output_type": "display_data",
          "data": {
            "image/png": "[encoded data removed]",
            "text/plain": [
              "<Figure size 432x288 with 8 Axes>"
            ]
          },
          "metadata": {
            "tags": [],
            "needs_background": "light"
          }
        }
      ]
    },
    {
      "cell_type": "markdown",
      "metadata": {
        "id": "rOeyZEQ19lp2",
        "colab_type": "text"
      },
      "source": [
        "Now you have the training data and corresponding labels. Each image in training data is of shape (28,28) with values ranging from 0 to 255. However, neural network cannot take data in square format. Therefore, the preprocessing includes converting each image to shape (1,784) and normalizing them."
      ]
    },
    {
      "cell_type": "code",
      "metadata": {
        "id": "ghMNSdI39lp3",
        "colab_type": "code",
        "colab": {}
      },
      "source": [
        "# Pre-processing the data\n",
        "train = inputs.reshape(60000, 784) # reshape the inputs shape from (60000,28,28) to (60000,784)\n",
        "train = np.float32(train) # change the datatype to float\n",
        "train /= np.max(train, axis=1).reshape(-1, 1) # Normalize the data between 0 and 1\n",
        "\n",
        "# Now we separate the inputs into training and validation\n",
        "train_ = train[0:50000,:] # We use first 50000 images for training\n",
        "tr_labels = labels[0: 50000]\n",
        "val = train[50000: 60000,:] # We use the last 10000 images for validation\n",
        "val_labels = labels[50000: 60000]\n"
      ],
      "execution_count": 26,
      "outputs": []
    },
    {
      "cell_type": "markdown",
      "metadata": {
        "id": "TMeP27Qg9lp8",
        "colab_type": "text"
      },
      "source": [
        "In order to simplify the training, we now define a function for forward pass which will be used in training the neural network and predicting."
      ]
    },
    {
      "cell_type": "code",
      "metadata": {
        "id": "TL3AuGpg9lp-",
        "colab_type": "code",
        "colab": {}
      },
      "source": [
        "def forward_pass(x, w1, b1, w2, b2):\n",
        "    \"\"\"\n",
        "    TO DO: Compute the forward pass of the neural network\n",
        "    Points Allocated: 5\n",
        "    \n",
        "    Inputs:\n",
        "    x: Numpy array of shape (N,d) where N is number of samples \n",
        "    and d is the dimension of input\n",
        "    w1: numpy array of shape (d,H) where H is the size of hidden layer\n",
        "    w2: numpy array of shape (H,c) where c is the number of classes\n",
        "    b1: numpy array of shape (H,) \n",
        "    b2: numpy array of shape (c,)\n",
        "    \n",
        "    Outputs:\n",
        "    probs: output of shape (N,c)\n",
        "    cache_out: cache values for output layer\n",
        "    cache_relu: cache values for ReLu layer\n",
        "    cache_ip: cache values for input layer\n",
        "    \"\"\"\n",
        "    probs, cache_out, cache_relu, cache_ip = None, None, None, None\n",
        "    \n",
        "    ### Type your code here ###\n",
        "    fs_scores, cache_ip = forward_step(x, w1, b1)\n",
        "    relu_score, cache_relu = ReLu_forward(fs_scores)\n",
        "    fs_scores, cache_out = forward_step(relu_score, w2, b2)\n",
        "    probs = softmax(fs_scores)\n",
        "    #### End of your code #### \n",
        "    \n",
        "    return(probs,cache_out,cache_relu,cache_ip)\n",
        "    "
      ],
      "execution_count": 27,
      "outputs": []
    },
    {
      "cell_type": "markdown",
      "metadata": {
        "id": "GmklDOud9lqD",
        "colab_type": "text"
      },
      "source": [
        "Now that you have implemented forward pass, the stochastic gradient descent algorithm works by finding the loss/error in forward pass with respect to target and traversing the error backwards. In the following function, you will implement the backward pass."
      ]
    },
    {
      "cell_type": "code",
      "metadata": {
        "id": "oKTJ2LQ_9lqE",
        "colab_type": "code",
        "colab": {}
      },
      "source": [
        "def backward_pass(probs, y, cache_out, cache_relu, cache_ip):\n",
        "    \"\"\"\n",
        "    TO DO: Compute the backward pass of the neural network\n",
        "    Points Allocated: 5\n",
        "    \n",
        "    Inputs:\n",
        "    probs: output of shape (N,c)\n",
        "    cache_out: cache values for output layer\n",
        "    cache_relu: cache values for ReLu layer\n",
        "    cache_ip: cache values for input layer\n",
        "    \n",
        "    Outputs:\n",
        "    loss_: loss value of the forward pass\n",
        "    dw2: numpy array with samw shape as w2\n",
        "    db2: numpy array with same shape as b2\n",
        "    dw1: numpy array with same shape as w1\n",
        "    db1: numpy array with same shape as b1\n",
        "    \"\"\"\n",
        "    ### Type your code here ###\n",
        "    loss_, dw_softmax = loss(probs, y)\n",
        "    dw2, db2, dx = backward_step(dw_softmax, cache_out)\n",
        "    dw_relu = ReLu_backward(dx, cache_relu)\n",
        "    dw1, db1, dx = backward_step(dw_relu, cache_ip)\n",
        "    db1, db2 = db1[0], db2[0]  # converted (1, 30) shape to (30,)    \n",
        "    #### End of your code #### \n",
        "    \n",
        "    return(loss_,dw2,db2,dw1,db1)"
      ],
      "execution_count": 28,
      "outputs": []
    },
    {
      "cell_type": "code",
      "metadata": {
        "id": "xAr4UGu39lqK",
        "colab_type": "code",
        "colab": {}
      },
      "source": [
        "# The following function will be used to predict the labels for given images, weights and biases\n",
        "def predict(X_batch,parameters):\n",
        "    probs, _, _, _ = forward_pass(X_batch, parameters['w1'], parameters['b1'], parameters['w2'], parameters['b2'])\n",
        "    y_pred = np.argmax(probs, axis = 1)\n",
        "    return (y_pred)"
      ],
      "execution_count": 29,
      "outputs": []
    },
    {
      "cell_type": "code",
      "metadata": {
        "id": "_aLVButd9lqQ",
        "colab_type": "code",
        "colab": {}
      },
      "source": [
        "parameters = {}\n",
        "w1 = 0.3 * np.random.randn(784, 30)\n",
        "b1 = np.zeros(30)\n",
        "w2 = 0.3 * np.random.randn(30, 10)\n",
        "b2 = np.zeros(10)\n",
        "grads={}\n",
        "loss_,grads['w1'], grads['b1'], grads['w2'], grads['b2'] = None, None, None, None, None\n",
        "val_size = 10000\n",
        "loss_history = []\n",
        "idx = np.random.choice(50000, 100, replace=True)\n",
        "x = train[idx]\n",
        "y = labels[idx]\n",
        "hi,cache_ip = forward_step(x,w1,b1)\n",
        "ho, cache_relu = ReLu_forward(hi)\n",
        "out, cache_out = forward_step(ho,w2,b2)\n",
        "probs = softmax(out)"
      ],
      "execution_count": 30,
      "outputs": []
    },
    {
      "cell_type": "code",
      "metadata": {
        "id": "GIIQWCaE9lqV",
        "colab_type": "code",
        "colab": {}
      },
      "source": [
        "def TwoLayerNN(learning_rate, num_iters, batch_size, train, labels, X_val, y_val):\n",
        "    \"\"\"\n",
        "    Function to train the two layered neural network to predict MNIST data.\n",
        "    Inputs: \n",
        "    learning_rate: scalar value contating learning rate for training\n",
        "    num_iters: number of iterations for training\n",
        "    batch_size: number of sample used for training in each iteration\n",
        "    train: trainig data\n",
        "    labels: labels fro the training data\n",
        "    X_val: inputs for validation data\n",
        "    y_val: labels for validation data\n",
        "    \n",
        "    Output: \n",
        "    parameters: dictionary containing trained weights and biases\n",
        "    loss_history: list contating loss values for each iteration during training. It will have length of num_iters\n",
        "    \"\"\"\n",
        "    parameters = {}\n",
        "    parameters['w1'] = 0.3 * np.random.randn(784, 30)\n",
        "    parameters['b1'] = np.zeros(30)\n",
        "    parameters['w2'] = 0.3 * np.random.randn(30, 10)\n",
        "    parameters['b2'] = np.zeros(10)\n",
        "    grads={}\n",
        "    loss_, grads['w1'], grads['b1'], grads['w2'], grads['b2'] = None, None, None, None, None\n",
        "    val_size = 10000\n",
        "    loss_history = []\n",
        "    for it in range(num_iters):\n",
        "        idx = np.random.choice(50000, batch_size, replace=True)\n",
        "        X_batch = train[idx]\n",
        "        y_batch = labels[idx]\n",
        "        # The following steps implement the forward and backward pass\n",
        "        probs, cache_out, cache_relu, cache_ip = forward_pass(X_batch, parameters['w1'], parameters['b1'], parameters['w2'], parameters['b2'])\n",
        "        loss_, grads['w2'], grads['b2'], grads['w1'], grads['b1'] = backward_pass(probs, y_batch, cache_out, cache_relu, cache_ip)\n",
        "        loss_history.append(loss_)\n",
        "        #Now update the weights and biases in paramaters\n",
        "        \n",
        "        ### Type your code here ###\n",
        "        parameters['w1'] += -learning_rate * grads['w1']\n",
        "        parameters['b1'] += -learning_rate * grads['b1']\n",
        "        parameters['w2'] += -learning_rate * grads['w2']\n",
        "        parameters['b2'] += -learning_rate * grads['b2']\n",
        "        #### End of your code #### \n",
        "        \n",
        "        train_acc = (predict(X_batch, parameters) == y_batch).mean()\n",
        "        val_acc = (predict(X_val, parameters) == y_val).mean()\n",
        "        \n",
        "        if it % 10 == 0:\n",
        "            print ('iteration '+str(it) + ' / '+ str(num_iters) +' :loss ' + str(loss_))\n",
        "            print('training accuracy: '+ str(train_acc) + ' and validation accuracy: '+ str(val_acc))\n",
        "    return (parameters,loss_history)    "
      ],
      "execution_count": 31,
      "outputs": []
    },
    {
      "cell_type": "code",
      "metadata": {
        "id": "7JQ2A1Wx9lqc",
        "colab_type": "code",
        "colab": {
          "base_uri": "https://localhost:8080/",
          "height": 1000
        },
        "outputId": "3fef046f-a07f-4903-bb05-90b13afb6bd4"
      },
      "source": [
        "parameters, loss_history = TwoLayerNN(0.1, 1000, 200, train_, tr_labels, val, val_labels)"
      ],
      "execution_count": 33,
      "outputs": [
        {
          "output_type": "stream",
          "text": [
            "iteration 0 / 1000 :loss 7.230971839550665\n",
            "training accuracy: 0.115 and validation accuracy: 0.0832\n",
            "iteration 10 / 1000 :loss 2.163604680522244\n",
            "training accuracy: 0.32 and validation accuracy: 0.2891\n",
            "iteration 20 / 1000 :loss 1.7834393206319994\n",
            "training accuracy: 0.45 and validation accuracy: 0.4076\n",
            "iteration 30 / 1000 :loss 1.5526006654750006\n",
            "training accuracy: 0.525 and validation accuracy: 0.4907\n",
            "iteration 40 / 1000 :loss 1.4211991824857517\n",
            "training accuracy: 0.475 and validation accuracy: 0.5502\n",
            "iteration 50 / 1000 :loss 1.3057672086753738\n",
            "training accuracy: 0.555 and validation accuracy: 0.6024\n",
            "iteration 60 / 1000 :loss 1.174961143532204\n",
            "training accuracy: 0.66 and validation accuracy: 0.6458\n",
            "iteration 70 / 1000 :loss 0.9946966470342267\n",
            "training accuracy: 0.7 and validation accuracy: 0.6769\n",
            "iteration 80 / 1000 :loss 0.9837470174430138\n",
            "training accuracy: 0.71 and validation accuracy: 0.7028\n",
            "iteration 90 / 1000 :loss 0.7978020758485832\n",
            "training accuracy: 0.755 and validation accuracy: 0.7265\n",
            "iteration 100 / 1000 :loss 0.8952412794415315\n",
            "training accuracy: 0.725 and validation accuracy: 0.7408\n",
            "iteration 110 / 1000 :loss 0.8419615300435336\n",
            "training accuracy: 0.765 and validation accuracy: 0.7531\n",
            "iteration 120 / 1000 :loss 0.8152213934234669\n",
            "training accuracy: 0.77 and validation accuracy: 0.7692\n",
            "iteration 130 / 1000 :loss 0.7867583507915897\n",
            "training accuracy: 0.775 and validation accuracy: 0.7796\n",
            "iteration 140 / 1000 :loss 0.6513108220686312\n",
            "training accuracy: 0.81 and validation accuracy: 0.7891\n",
            "iteration 150 / 1000 :loss 0.597815889153559\n",
            "training accuracy: 0.805 and validation accuracy: 0.7962\n",
            "iteration 160 / 1000 :loss 0.6619463765242607\n",
            "training accuracy: 0.82 and validation accuracy: 0.8053\n",
            "iteration 170 / 1000 :loss 0.6504300742461427\n",
            "training accuracy: 0.82 and validation accuracy: 0.81\n",
            "iteration 180 / 1000 :loss 0.5676815347130976\n",
            "training accuracy: 0.805 and validation accuracy: 0.8153\n",
            "iteration 190 / 1000 :loss 0.6313856157345512\n",
            "training accuracy: 0.805 and validation accuracy: 0.8193\n",
            "iteration 200 / 1000 :loss 0.5964734946607498\n",
            "training accuracy: 0.84 and validation accuracy: 0.8254\n",
            "iteration 210 / 1000 :loss 0.5891872462053791\n",
            "training accuracy: 0.825 and validation accuracy: 0.8319\n",
            "iteration 220 / 1000 :loss 0.5394961423817515\n",
            "training accuracy: 0.805 and validation accuracy: 0.8358\n",
            "iteration 230 / 1000 :loss 0.5885610874806364\n",
            "training accuracy: 0.86 and validation accuracy: 0.8371\n",
            "iteration 240 / 1000 :loss 0.6045397774087697\n",
            "training accuracy: 0.875 and validation accuracy: 0.845\n",
            "iteration 250 / 1000 :loss 0.4602790131944954\n",
            "training accuracy: 0.87 and validation accuracy: 0.8404\n",
            "iteration 260 / 1000 :loss 0.4855916725191047\n",
            "training accuracy: 0.85 and validation accuracy: 0.8491\n",
            "iteration 270 / 1000 :loss 0.497136822477472\n",
            "training accuracy: 0.865 and validation accuracy: 0.8499\n",
            "iteration 280 / 1000 :loss 0.5721735524445465\n",
            "training accuracy: 0.815 and validation accuracy: 0.8533\n",
            "iteration 290 / 1000 :loss 0.5290347873083785\n",
            "training accuracy: 0.855 and validation accuracy: 0.8578\n",
            "iteration 300 / 1000 :loss 0.41194123909584834\n",
            "training accuracy: 0.875 and validation accuracy: 0.859\n",
            "iteration 310 / 1000 :loss 0.4643125188628162\n",
            "training accuracy: 0.845 and validation accuracy: 0.8602\n",
            "iteration 320 / 1000 :loss 0.555763177337836\n",
            "training accuracy: 0.86 and validation accuracy: 0.8621\n",
            "iteration 330 / 1000 :loss 0.5729748674091111\n",
            "training accuracy: 0.79 and validation accuracy: 0.8635\n",
            "iteration 340 / 1000 :loss 0.44250391576666814\n",
            "training accuracy: 0.88 and validation accuracy: 0.866\n",
            "iteration 350 / 1000 :loss 0.5469421694431041\n",
            "training accuracy: 0.86 and validation accuracy: 0.8661\n",
            "iteration 360 / 1000 :loss 0.42190274478683504\n",
            "training accuracy: 0.87 and validation accuracy: 0.8692\n",
            "iteration 370 / 1000 :loss 0.3831745199018412\n",
            "training accuracy: 0.9 and validation accuracy: 0.8714\n",
            "iteration 380 / 1000 :loss 0.4326399929916222\n",
            "training accuracy: 0.875 and validation accuracy: 0.866\n",
            "iteration 390 / 1000 :loss 0.5256903777513849\n",
            "training accuracy: 0.835 and validation accuracy: 0.873\n",
            "iteration 400 / 1000 :loss 0.40693713744619275\n",
            "training accuracy: 0.895 and validation accuracy: 0.8728\n",
            "iteration 410 / 1000 :loss 0.43260467338375946\n",
            "training accuracy: 0.88 and validation accuracy: 0.8748\n",
            "iteration 420 / 1000 :loss 0.4552903875930089\n",
            "training accuracy: 0.845 and validation accuracy: 0.8742\n",
            "iteration 430 / 1000 :loss 0.4373796793201912\n",
            "training accuracy: 0.87 and validation accuracy: 0.8765\n",
            "iteration 440 / 1000 :loss 0.45066520185517833\n",
            "training accuracy: 0.86 and validation accuracy: 0.878\n",
            "iteration 450 / 1000 :loss 0.35859515110434836\n",
            "training accuracy: 0.9 and validation accuracy: 0.8804\n",
            "iteration 460 / 1000 :loss 0.47190169486195993\n",
            "training accuracy: 0.865 and validation accuracy: 0.881\n",
            "iteration 470 / 1000 :loss 0.5023460350218274\n",
            "training accuracy: 0.865 and validation accuracy: 0.8802\n",
            "iteration 480 / 1000 :loss 0.3865374437354446\n",
            "training accuracy: 0.895 and validation accuracy: 0.8827\n",
            "iteration 490 / 1000 :loss 0.5140782717078919\n",
            "training accuracy: 0.865 and validation accuracy: 0.8824\n",
            "iteration 500 / 1000 :loss 0.4868088031508349\n",
            "training accuracy: 0.88 and validation accuracy: 0.8818\n",
            "iteration 510 / 1000 :loss 0.33349186309975876\n",
            "training accuracy: 0.935 and validation accuracy: 0.8844\n",
            "iteration 520 / 1000 :loss 0.3765004521476054\n",
            "training accuracy: 0.89 and validation accuracy: 0.8816\n",
            "iteration 530 / 1000 :loss 0.3499324674040433\n",
            "training accuracy: 0.88 and validation accuracy: 0.8857\n",
            "iteration 540 / 1000 :loss 0.4090010333714917\n",
            "training accuracy: 0.89 and validation accuracy: 0.8848\n",
            "iteration 550 / 1000 :loss 0.46205729503161913\n",
            "training accuracy: 0.87 and validation accuracy: 0.8889\n",
            "iteration 560 / 1000 :loss 0.3286534903755776\n",
            "training accuracy: 0.915 and validation accuracy: 0.8884\n",
            "iteration 570 / 1000 :loss 0.3214550721419063\n",
            "training accuracy: 0.91 and validation accuracy: 0.8898\n",
            "iteration 580 / 1000 :loss 0.4201616670743125\n",
            "training accuracy: 0.885 and validation accuracy: 0.8906\n",
            "iteration 590 / 1000 :loss 0.36456367187193595\n",
            "training accuracy: 0.9 and validation accuracy: 0.891\n",
            "iteration 600 / 1000 :loss 0.33243648903189366\n",
            "training accuracy: 0.925 and validation accuracy: 0.8923\n",
            "iteration 610 / 1000 :loss 0.2908188010594843\n",
            "training accuracy: 0.915 and validation accuracy: 0.8937\n",
            "iteration 620 / 1000 :loss 0.5503994883116893\n",
            "training accuracy: 0.855 and validation accuracy: 0.894\n",
            "iteration 630 / 1000 :loss 0.3853362828078929\n",
            "training accuracy: 0.91 and validation accuracy: 0.8926\n",
            "iteration 640 / 1000 :loss 0.2769283829767737\n",
            "training accuracy: 0.915 and validation accuracy: 0.895\n",
            "iteration 650 / 1000 :loss 0.4038609696365291\n",
            "training accuracy: 0.89 and validation accuracy: 0.8935\n",
            "iteration 660 / 1000 :loss 0.2894721077119909\n",
            "training accuracy: 0.94 and validation accuracy: 0.8943\n",
            "iteration 670 / 1000 :loss 0.31983946276321773\n",
            "training accuracy: 0.905 and validation accuracy: 0.8963\n",
            "iteration 680 / 1000 :loss 0.3407968194388678\n",
            "training accuracy: 0.905 and validation accuracy: 0.8959\n",
            "iteration 690 / 1000 :loss 0.2675012890033069\n",
            "training accuracy: 0.93 and validation accuracy: 0.897\n",
            "iteration 700 / 1000 :loss 0.311931650820209\n",
            "training accuracy: 0.9 and validation accuracy: 0.8973\n",
            "iteration 710 / 1000 :loss 0.3669235364580821\n",
            "training accuracy: 0.895 and validation accuracy: 0.8968\n",
            "iteration 720 / 1000 :loss 0.2728791376354098\n",
            "training accuracy: 0.935 and validation accuracy: 0.8991\n",
            "iteration 730 / 1000 :loss 0.32029810325362773\n",
            "training accuracy: 0.885 and validation accuracy: 0.8998\n",
            "iteration 740 / 1000 :loss 0.2825210027381901\n",
            "training accuracy: 0.91 and validation accuracy: 0.9003\n",
            "iteration 750 / 1000 :loss 0.35557348466087857\n",
            "training accuracy: 0.9 and validation accuracy: 0.9021\n",
            "iteration 760 / 1000 :loss 0.486335666922344\n",
            "training accuracy: 0.89 and validation accuracy: 0.8993\n",
            "iteration 770 / 1000 :loss 0.3289716534953411\n",
            "training accuracy: 0.915 and validation accuracy: 0.9015\n",
            "iteration 780 / 1000 :loss 0.4215654139341252\n",
            "training accuracy: 0.905 and validation accuracy: 0.9024\n",
            "iteration 790 / 1000 :loss 0.27414800182104937\n",
            "training accuracy: 0.93 and validation accuracy: 0.8992\n",
            "iteration 800 / 1000 :loss 0.4254722892385072\n",
            "training accuracy: 0.875 and validation accuracy: 0.9029\n",
            "iteration 810 / 1000 :loss 0.35847745025182925\n",
            "training accuracy: 0.9 and validation accuracy: 0.9025\n",
            "iteration 820 / 1000 :loss 0.4242875683841102\n",
            "training accuracy: 0.865 and validation accuracy: 0.9011\n",
            "iteration 830 / 1000 :loss 0.25562943625615253\n",
            "training accuracy: 0.925 and validation accuracy: 0.904\n",
            "iteration 840 / 1000 :loss 0.3515064900124095\n",
            "training accuracy: 0.91 and validation accuracy: 0.9033\n",
            "iteration 850 / 1000 :loss 0.2715145041502199\n",
            "training accuracy: 0.935 and validation accuracy: 0.904\n",
            "iteration 860 / 1000 :loss 0.42061804885504855\n",
            "training accuracy: 0.915 and validation accuracy: 0.9052\n",
            "iteration 870 / 1000 :loss 0.3030635009416178\n",
            "training accuracy: 0.915 and validation accuracy: 0.9054\n",
            "iteration 880 / 1000 :loss 0.2314412133487628\n",
            "training accuracy: 0.95 and validation accuracy: 0.9066\n",
            "iteration 890 / 1000 :loss 0.3802620121643971\n",
            "training accuracy: 0.88 and validation accuracy: 0.9056\n",
            "iteration 900 / 1000 :loss 0.3280361470385894\n",
            "training accuracy: 0.91 and validation accuracy: 0.9073\n",
            "iteration 910 / 1000 :loss 0.4653838836916065\n",
            "training accuracy: 0.9 and validation accuracy: 0.9062\n",
            "iteration 920 / 1000 :loss 0.40954636488360996\n",
            "training accuracy: 0.875 and validation accuracy: 0.9085\n",
            "iteration 930 / 1000 :loss 0.3842317840722112\n",
            "training accuracy: 0.905 and validation accuracy: 0.9077\n",
            "iteration 940 / 1000 :loss 0.33088984386110804\n",
            "training accuracy: 0.915 and validation accuracy: 0.9093\n",
            "iteration 950 / 1000 :loss 0.3328053962152056\n",
            "training accuracy: 0.915 and validation accuracy: 0.9079\n",
            "iteration 960 / 1000 :loss 0.3135151157358719\n",
            "training accuracy: 0.915 and validation accuracy: 0.9083\n",
            "iteration 970 / 1000 :loss 0.3008411683961396\n",
            "training accuracy: 0.9 and validation accuracy: 0.9073\n",
            "iteration 980 / 1000 :loss 0.34880190889386015\n",
            "training accuracy: 0.92 and validation accuracy: 0.9093\n",
            "iteration 990 / 1000 :loss 0.3336574669956038\n",
            "training accuracy: 0.9 and validation accuracy: 0.9101\n"
          ],
          "name": "stdout"
        }
      ]
    },
    {
      "cell_type": "code",
      "metadata": {
        "id": "_Y729JQy9lqg",
        "colab_type": "code",
        "colab": {
          "base_uri": "https://localhost:8080/",
          "height": 295
        },
        "outputId": "a8b340ad-6a19-4471-b560-dec82cefda1b"
      },
      "source": [
        "# plot the loss to see how the loss varied over iterations\n",
        "plt.plot(loss_history)\n",
        "plt.xlabel('iteration')\n",
        "plt.ylabel('training loss')\n",
        "plt.title('Training Loss history')\n",
        "plt.show()\n"
      ],
      "execution_count": 34,
      "outputs": [
        {
          "output_type": "display_data",
          "data": {
            "image/png": "[encoded data removed]",
            "text/plain": [
              "<Figure size 432x288 with 1 Axes>"
            ]
          },
          "metadata": {
            "tags": [],
            "needs_background": "light"
          }
        }
      ]
    },
    {
      "cell_type": "code",
      "metadata": {
        "id": "NvurG86T9lqm",
        "colab_type": "code",
        "colab": {}
      },
      "source": [
        "# Loading and pre=processing test data\n",
        "t_inputs, tlabels = load_images_with_labels(type_of_data='testing')\n",
        "tinputs = t_inputs.reshape(10000, 784)\n",
        "tinputs = np.float32(tinputs)\n",
        "tinputs /= np.max(tinputs,axis=1).reshape(-1, 1)"
      ],
      "execution_count": 35,
      "outputs": []
    },
    {
      "cell_type": "code",
      "metadata": {
        "id": "6nyJO0P99lqr",
        "colab_type": "code",
        "colab": {
          "base_uri": "https://localhost:8080/",
          "height": 35
        },
        "outputId": "473ed11e-9b0e-4a64-d5e8-11c7d565d030"
      },
      "source": [
        "# Calculate the accuracy on test data using trained weights and biases\n",
        "pred = predict(tinputs, parameters)\n",
        "test_acc = (pred == tlabels).mean()\n",
        "print(test_acc)"
      ],
      "execution_count": 36,
      "outputs": [
        {
          "output_type": "stream",
          "text": [
            "0.9078\n"
          ],
          "name": "stdout"
        }
      ]
    },
    {
      "cell_type": "code",
      "metadata": {
        "id": "oQjF7n939lqx",
        "colab_type": "code",
        "colab": {
          "base_uri": "https://localhost:8080/",
          "height": 139
        },
        "outputId": "2ae2aad4-9c60-4f35-c90d-374724bd4954"
      },
      "source": [
        "# Predict the labels for n images for visual representation\n",
        "n = 5 # number of images to predict\n",
        "idx = np.random.choice(10000, n, replace=False) # select n random images from test data\n",
        "labl=[]\n",
        "# View first n examples\n",
        "fig, ax = plt.subplots(1,n)\n",
        "for i, val in enumerate(idx):\n",
        "    ax[i].imshow(t_inputs[val], cmap=mpl.cm.Greys)\n",
        "    ax[i].set_title(tlabels[val])\n",
        "    labl.append(pred[val])\n",
        "plt.show()\n",
        "\n",
        "print('Corresponding predictions of labels for each of the above images: '+ str(labl))"
      ],
      "execution_count": 37,
      "outputs": [
        {
          "output_type": "display_data",
          "data": {
            "image/png": "[encoded data removed]",
            "text/plain": [
              "<Figure size 432x288 with 5 Axes>"
            ]
          },
          "metadata": {
            "tags": [],
            "needs_background": "light"
          }
        },
        {
          "output_type": "stream",
          "text": [
            "Corresponding predictions of labels for each of the above images: [1, 8, 5, 8, 3]\n"
          ],
          "name": "stdout"
        }
      ]
    }
  ]
}