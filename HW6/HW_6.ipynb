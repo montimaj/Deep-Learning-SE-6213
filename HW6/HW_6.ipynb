{
  "nbformat": 4,
  "nbformat_minor": 0,
  "metadata": {
    "kernelspec": {
      "display_name": "Python 3",
      "language": "python",
      "name": "python3"
    },
    "language_info": {
      "codemirror_mode": {
        "name": "ipython",
        "version": 3
      },
      "file_extension": ".py",
      "mimetype": "text/x-python",
      "name": "python",
      "nbconvert_exporter": "python",
      "pygments_lexer": "ipython3",
      "version": "3.6.1"
    },
    "colab": {
      "name": "HW#6.ipynb",
      "provenance": [],
      "collapsed_sections": [],
      "include_colab_link": true
    }
  },
  "cells": [
    {
      "cell_type": "markdown",
      "metadata": {
        "id": "view-in-github",
        "colab_type": "text"
      },
      "source": [
        "<a href=\"https://colab.research.google.com/github/montimaj/Deep-Learning-SE-6213/blob/master/HW6/HW_6.ipynb\" target=\"_parent\"><img src=\"https://colab.research.google.com/assets/colab-badge.svg\" alt=\"Open In Colab\"/></a>"
      ]
    },
    {
      "cell_type": "markdown",
      "metadata": {
        "id": "XTKmvtz4SMZO"
      },
      "source": [
        "# SYS ENG 6213 - Deep Learning and Advanced Neural Networks "
      ]
    },
    {
      "cell_type": "code",
      "metadata": {
        "id": "cBEKev1Cgt3H",
        "outputId": "1a4a34d7-1e16-4047-9313-f894c54ca12e",
        "colab": {
          "base_uri": "https://localhost:8080/",
          "height": 35
        }
      },
      "source": [
        "from google.colab import drive\n",
        "drive.mount('/content/drive')"
      ],
      "execution_count": 1,
      "outputs": [
        {
          "output_type": "stream",
          "text": [
            "Mounted at /content/drive\n"
          ],
          "name": "stdout"
        }
      ]
    },
    {
      "cell_type": "code",
      "metadata": {
        "id": "JHWdanILg7vW",
        "outputId": "1ca73bd7-04a1-4942-d1a4-4b5295d00c93",
        "colab": {
          "base_uri": "https://localhost:8080/",
          "height": 70
        }
      },
      "source": [
        "%cd 'drive/My Drive/SysEng 6213 Fall 2020 Sayantan Majumdar /HW6'\n",
        "!ls"
      ],
      "execution_count": 2,
      "outputs": [
        {
          "output_type": "stream",
          "text": [
            "/content/drive/.shortcut-targets-by-id/1xpWpUfn0NqGtbgAP_303jr6QW5RKzJPR/SysEng 6213 Fall 2020 Sayantan Majumdar /HW6\n",
            "adagrad.png  HW#6.ipynb  MNIST_data  __pycache__  sgd_m.png  utils.py\n",
            "adam.png     layers.py\t n_model.py  rms.png\t  sgd.png\n"
          ],
          "name": "stdout"
        }
      ]
    },
    {
      "cell_type": "markdown",
      "metadata": {
        "id": "G0X6xNBTSMZP"
      },
      "source": [
        "### Homework#6: Optimization Methods"
      ]
    },
    {
      "cell_type": "markdown",
      "metadata": {
        "id": "gPjeAE6zSMZQ"
      },
      "source": [
        "So far you used stochastic gradient descent (SGD) to train the two layered neural network. The algorithms is given below: \n"
      ]
    },
    {
      "cell_type": "markdown",
      "metadata": {
        "id": "gGnJiXCBSMZQ"
      },
      "source": [
        "<img src=\"sgd.png\" alt=\"Drawing\" style=\"width: 600px;\"/>"
      ]
    },
    {
      "cell_type": "markdown",
      "metadata": {
        "id": "6pjfhpRqSMZR"
      },
      "source": [
        "The update rule is given as $\\theta = \\theta - \\epsilon * g$ where $\\theta$ is the layer weights, $\\epsilon$ is learning rate and $g$ is gradient for $\\theta$. However, there are few problems with SGD like: \n",
        "1. local minima or saddle points\n",
        "2. Jitter and slow progress towards global minima (very common for high dimensional architectures)\n",
        "3. Noisy (since we use mini batches during training, the graients may not always provie the correct information)\n",
        "\n",
        "In this homework you will explore other optimization methods that can overcome the limitations of SGD.\n",
        "\n",
        "Note: We did not implement correct regularization values as it is not the main focus for the assignmet.\n"
      ]
    },
    {
      "cell_type": "markdown",
      "metadata": {
        "id": "pgLTJoXESMZR"
      },
      "source": [
        "### Demo for SGD"
      ]
    },
    {
      "cell_type": "code",
      "metadata": {
        "id": "K6LTgkC6SMZS"
      },
      "source": [
        "# Import the functions\n",
        "from layers import *\n",
        "from utils import *\n",
        "# Set up the packages\n",
        "import numpy as np\n",
        "import matplotlib.pyplot as plt\n",
        "import matplotlib as mpl\n",
        "import pickle"
      ],
      "execution_count": 3,
      "outputs": []
    },
    {
      "cell_type": "code",
      "metadata": {
        "id": "xyfAbVa3SMZU",
        "outputId": "8cd557b6-d244-4e03-8a20-bcaa192c27cb",
        "colab": {
          "base_uri": "https://localhost:8080/",
          "height": 100
        }
      },
      "source": [
        "# Load the training data\n",
        "inputs, labels = load_images_with_labels()\n",
        "\n",
        "# View first 8 examples\n",
        "fig, ax = plt.subplots(1,8)\n",
        "labl = []\n",
        "for i in range(8):\n",
        "    ax[i].imshow(inputs[i], cmap=mpl.cm.Greys)\n",
        "    ax[i].set_title(labels[i])\n",
        "plt.show()"
      ],
      "execution_count": 4,
      "outputs": [
        {
          "output_type": "display_data",
          "data": {
            "image/png": "[encoded data removed]",
            "text/plain": [
              "<Figure size 432x288 with 8 Axes>"
            ]
          },
          "metadata": {
            "tags": [],
            "needs_background": "light"
          }
        }
      ]
    },
    {
      "cell_type": "code",
      "metadata": {
        "id": "YzShaNnsSMZX"
      },
      "source": [
        "# Pre-processing the data\n",
        "train=inputs.reshape(60000,784) # reshape the inputs shape from (60000,28,28) to (60000,784)\n",
        "train = np.float32(train) # change the datatype to float\n",
        "train /= np.max(train,axis=1).reshape(-1,1) # Normalize the data between 0 and 1\n",
        "\n",
        "# Now we separate the inputs into training and validation\n",
        "train_ = train[0:50000,:] # We use first 50000 images for training\n",
        "tr_labels = labels[0:50000]\n",
        "val = train[50000:60000,:] # We use the last 10000 images for validation\n",
        "val_labels = labels[50000:60000]\n",
        "data = {'train':train_,'tr_targets':tr_labels,'val':val,'tr_val':val_labels}\n",
        "\n"
      ],
      "execution_count": 5,
      "outputs": []
    },
    {
      "cell_type": "code",
      "metadata": {
        "id": "wvfKAQelSMZZ",
        "outputId": "7e1a951a-62dc-4930-ef2a-ff88e2489c79",
        "colab": {
          "base_uri": "https://localhost:8080/",
          "height": 1000
        }
      },
      "source": [
        "# Initialize two_layered_NN instance\n",
        "from n_model import n_layered_NN\n",
        "model = n_layered_NN(data,regularization_type = 'dropout',n=2,hidden_layer_sizes=[100,100])\n",
        "# Train the two layered neural network\n",
        "_,loss_history,train_acc_history,val_acc_history=model.train()"
      ],
      "execution_count": 6,
      "outputs": [
        {
          "output_type": "stream",
          "text": [
            "***************************************************************\n",
            "|                  Model Specifications:                      |\n",
            "***************************************************************\n",
            "input dimensions         :(50000, 784)\n",
            "output dimensions        :10\n",
            "number of hidden layers  :2\n",
            "hidden layer dimensions  :[100, 100]\n",
            "learning rate            :0.01\n",
            "batch size               :50\n",
            "number of epochs         :70\n",
            "---------------------------------------------------------------\n",
            "regularization type      :dropout\n",
            "dropout keep probability :0.8\n",
            "---------------------------------------------------------------\n",
            "optimization type        :SGD\n",
            "---------------------------------------------------------------\n",
            "Epoch 0/70\n",
            "Train accuracy: 0.817 Validation accuracy: 0.8311\n",
            "Epoch 1/70\n",
            "Train accuracy: 0.85796 Validation accuracy: 0.8676\n",
            "Epoch 2/70\n",
            "Train accuracy: 0.87624 Validation accuracy: 0.8866\n",
            "Epoch 3/70\n",
            "Train accuracy: 0.88776 Validation accuracy: 0.8949\n",
            "Epoch 4/70\n",
            "Train accuracy: 0.89696 Validation accuracy: 0.9044\n",
            "Epoch 5/70\n",
            "Train accuracy: 0.9028 Validation accuracy: 0.9088\n",
            "Epoch 6/70\n",
            "Train accuracy: 0.90784 Validation accuracy: 0.9147\n",
            "Epoch 7/70\n",
            "Train accuracy: 0.91294 Validation accuracy: 0.9198\n",
            "Epoch 8/70\n",
            "Train accuracy: 0.91738 Validation accuracy: 0.9228\n",
            "Epoch 9/70\n",
            "Train accuracy: 0.91994 Validation accuracy: 0.9241\n",
            "Epoch 10/70\n",
            "Train accuracy: 0.92322 Validation accuracy: 0.928\n",
            "Epoch 11/70\n",
            "Train accuracy: 0.92534 Validation accuracy: 0.9304\n",
            "Epoch 12/70\n",
            "Train accuracy: 0.92796 Validation accuracy: 0.9309\n",
            "Epoch 13/70\n",
            "Train accuracy: 0.92994 Validation accuracy: 0.9339\n",
            "Epoch 14/70\n",
            "Train accuracy: 0.93088 Validation accuracy: 0.9346\n",
            "Epoch 15/70\n",
            "Train accuracy: 0.93378 Validation accuracy: 0.9372\n",
            "Epoch 16/70\n",
            "Train accuracy: 0.93482 Validation accuracy: 0.9385\n",
            "Epoch 17/70\n",
            "Train accuracy: 0.93646 Validation accuracy: 0.9402\n",
            "Epoch 18/70\n",
            "Train accuracy: 0.9379 Validation accuracy: 0.9417\n",
            "Epoch 19/70\n",
            "Train accuracy: 0.93888 Validation accuracy: 0.942\n",
            "Epoch 20/70\n",
            "Train accuracy: 0.93962 Validation accuracy: 0.9426\n",
            "Epoch 21/70\n",
            "Train accuracy: 0.94192 Validation accuracy: 0.9437\n",
            "Epoch 22/70\n",
            "Train accuracy: 0.94284 Validation accuracy: 0.945\n",
            "Epoch 23/70\n",
            "Train accuracy: 0.944 Validation accuracy: 0.9454\n",
            "Epoch 24/70\n",
            "Train accuracy: 0.94504 Validation accuracy: 0.9458\n",
            "Epoch 25/70\n",
            "Train accuracy: 0.94512 Validation accuracy: 0.9457\n",
            "Epoch 26/70\n",
            "Train accuracy: 0.94648 Validation accuracy: 0.9481\n",
            "Epoch 27/70\n",
            "Train accuracy: 0.94714 Validation accuracy: 0.9477\n",
            "Epoch 28/70\n",
            "Train accuracy: 0.94802 Validation accuracy: 0.9488\n",
            "Epoch 29/70\n",
            "Train accuracy: 0.94934 Validation accuracy: 0.9492\n",
            "Epoch 30/70\n",
            "Train accuracy: 0.94934 Validation accuracy: 0.9507\n",
            "Epoch 31/70\n",
            "Train accuracy: 0.94978 Validation accuracy: 0.9509\n",
            "Epoch 32/70\n",
            "Train accuracy: 0.9502 Validation accuracy: 0.9509\n",
            "Epoch 33/70\n",
            "Train accuracy: 0.95112 Validation accuracy: 0.9518\n",
            "Epoch 34/70\n",
            "Train accuracy: 0.95158 Validation accuracy: 0.952\n",
            "Epoch 35/70\n",
            "Train accuracy: 0.9525 Validation accuracy: 0.9526\n",
            "Epoch 36/70\n",
            "Train accuracy: 0.95292 Validation accuracy: 0.9534\n",
            "Epoch 37/70\n",
            "Train accuracy: 0.9534 Validation accuracy: 0.9536\n",
            "Epoch 38/70\n",
            "Train accuracy: 0.95384 Validation accuracy: 0.9541\n",
            "Epoch 39/70\n",
            "Train accuracy: 0.95472 Validation accuracy: 0.9556\n",
            "Epoch 40/70\n",
            "Train accuracy: 0.95498 Validation accuracy: 0.955\n",
            "Epoch 41/70\n",
            "Train accuracy: 0.95566 Validation accuracy: 0.9555\n",
            "Epoch 42/70\n",
            "Train accuracy: 0.95648 Validation accuracy: 0.9561\n",
            "Epoch 43/70\n",
            "Train accuracy: 0.95618 Validation accuracy: 0.9551\n",
            "Epoch 44/70\n",
            "Train accuracy: 0.95774 Validation accuracy: 0.9564\n",
            "Epoch 45/70\n",
            "Train accuracy: 0.95766 Validation accuracy: 0.9571\n",
            "Epoch 46/70\n",
            "Train accuracy: 0.95812 Validation accuracy: 0.9565\n",
            "Epoch 47/70\n",
            "Train accuracy: 0.95828 Validation accuracy: 0.9579\n",
            "Epoch 48/70\n",
            "Train accuracy: 0.9588 Validation accuracy: 0.9578\n",
            "Epoch 49/70\n",
            "Train accuracy: 0.95928 Validation accuracy: 0.9581\n",
            "Epoch 50/70\n",
            "Train accuracy: 0.96 Validation accuracy: 0.9592\n",
            "Epoch 51/70\n",
            "Train accuracy: 0.96014 Validation accuracy: 0.9582\n",
            "Epoch 52/70\n",
            "Train accuracy: 0.96042 Validation accuracy: 0.9594\n",
            "Epoch 53/70\n",
            "Train accuracy: 0.96138 Validation accuracy: 0.9595\n",
            "Epoch 54/70\n",
            "Train accuracy: 0.96138 Validation accuracy: 0.961\n",
            "Epoch 55/70\n",
            "Train accuracy: 0.96144 Validation accuracy: 0.9601\n",
            "Epoch 56/70\n",
            "Train accuracy: 0.96182 Validation accuracy: 0.9597\n",
            "Epoch 57/70\n",
            "Train accuracy: 0.96268 Validation accuracy: 0.9613\n",
            "Epoch 58/70\n",
            "Train accuracy: 0.9624 Validation accuracy: 0.9608\n",
            "Epoch 59/70\n",
            "Train accuracy: 0.9633 Validation accuracy: 0.9612\n",
            "Epoch 60/70\n",
            "Train accuracy: 0.96292 Validation accuracy: 0.9613\n",
            "Epoch 61/70\n",
            "Train accuracy: 0.96322 Validation accuracy: 0.9609\n",
            "Epoch 62/70\n",
            "Train accuracy: 0.96402 Validation accuracy: 0.9614\n",
            "Epoch 63/70\n",
            "Train accuracy: 0.96432 Validation accuracy: 0.9617\n",
            "Epoch 64/70\n",
            "Train accuracy: 0.9646 Validation accuracy: 0.9607\n",
            "Epoch 65/70\n",
            "Train accuracy: 0.96518 Validation accuracy: 0.9628\n",
            "Epoch 66/70\n",
            "Train accuracy: 0.96532 Validation accuracy: 0.962\n",
            "Epoch 67/70\n",
            "Train accuracy: 0.96564 Validation accuracy: 0.9626\n",
            "Epoch 68/70\n",
            "Train accuracy: 0.96594 Validation accuracy: 0.9632\n",
            "Epoch 69/70\n",
            "Train accuracy: 0.96574 Validation accuracy: 0.9622\n"
          ],
          "name": "stdout"
        }
      ]
    },
    {
      "cell_type": "code",
      "metadata": {
        "id": "yWd9UVTgSMZb",
        "outputId": "74587df8-1d68-4f0f-cffb-bbc8f1f5daaf",
        "colab": {
          "base_uri": "https://localhost:8080/",
          "height": 52
        }
      },
      "source": [
        "# print best accuracies\n",
        "print('Best accuracy on training data: '+str(np.max(train_acc_history)))\n",
        "print('Best accuracy on test data :'+str(np.max(val_acc_history)))\n",
        "\n",
        "sgd = {'cost':loss_history,'tr_Acc':train_acc_history,'val_acc':val_acc_history}\n",
        "pickle_out = open(\"sgd.pickle\",\"wb\")\n",
        "pickle.dump(sgd, pickle_out)\n",
        "pickle_out.close()"
      ],
      "execution_count": 7,
      "outputs": [
        {
          "output_type": "stream",
          "text": [
            "Best accuracy on training data: 0.96594\n",
            "Best accuracy on test data :0.9632\n"
          ],
          "name": "stdout"
        }
      ]
    },
    {
      "cell_type": "code",
      "metadata": {
        "id": "h04PAAjrSMZd",
        "outputId": "d24cf6e6-1db0-4aa0-c070-863d65d75f70",
        "colab": {
          "base_uri": "https://localhost:8080/",
          "height": 295
        }
      },
      "source": [
        "# Plot the accuracy curves\n",
        "plt.plot(np.subtract(1,train_acc_history),'g--',label='Training')\n",
        "plt.plot(np.subtract(1,val_acc_history),'r--',label='Validation')\n",
        "plt.legend()\n",
        "plt.xlabel('epoch')\n",
        "plt.ylabel('% error')\n",
        "plt.title('Error Curves using SGD')\n",
        "plt.show()"
      ],
      "execution_count": 8,
      "outputs": [
        {
          "output_type": "display_data",
          "data": {
            "image/png": "[encoded data removed]",
            "text/plain": [
              "<Figure size 432x288 with 1 Axes>"
            ]
          },
          "metadata": {
            "tags": [],
            "needs_background": "light"
          }
        }
      ]
    },
    {
      "cell_type": "markdown",
      "metadata": {
        "id": "y9tBt1BRSMZg"
      },
      "source": [
        " ####  ------------------------------------------------------------------------- END OF DEMO -------------------------------------------------------------------------------"
      ]
    },
    {
      "cell_type": "markdown",
      "metadata": {
        "id": "qCKPfP0NSMZg"
      },
      "source": [
        " ### 1. SGD with Momentum "
      ]
    },
    {
      "cell_type": "markdown",
      "metadata": {
        "id": "vfSyXN_bSMZg"
      },
      "source": [
        "This approach uses a term called velocity which accumulates the gradient elements. This makes the algorithm converge faster and solves the problems in SGD. The $\\alpha$ takes of role of friction and usually has a high value like 0.9. It helps to decay the velocity in each iteration. \n",
        "\n",
        "Advantages:\n",
        "- Prevents getting stuck in local minima because of the momentum.\n",
        "- Jitter is minimized as momentum reduces the step size in unnecessary direction and accelarates towards the global minima.\n",
        "\n",
        "Disadvantages:\n",
        "- The disadvantage with this approach is that, it may overshoot the global minima because of the momentum built up during training.\n",
        "\n",
        "Implement the SGD with momentum in layers.py file and run the below code."
      ]
    },
    {
      "cell_type": "markdown",
      "metadata": {
        "id": "VvdWEIKlSMZh"
      },
      "source": [
        "<img src=\"sgd_m.png\" alt=\"Drawing\" style=\"width: 600px;\"/>"
      ]
    },
    {
      "cell_type": "code",
      "metadata": {
        "id": "7m47w99bSMZh"
      },
      "source": [
        "# Initialize two_layered_NN instance\n",
        "from n_model import n_layered_NN\n",
        "model = n_layered_NN(data,regularization_type = 'dropout',update_rule = 'SGD_with_momentum',n=2,hidden_layer_sizes=[100,100])\n",
        "# Train the two layered neural network\n",
        "_,loss_history,train_acc_history,val_acc_history=model.train()"
      ],
      "execution_count": null,
      "outputs": []
    },
    {
      "cell_type": "code",
      "metadata": {
        "id": "9Ae907DnSMZm"
      },
      "source": [
        "# print best accuracies\n",
        "print('Best accuracy on training data: '+str(np.max(train_acc_history)))\n",
        "print('Best accuracy on test data :'+str(np.max(val_acc_history)))\n",
        "sgd_m = {'cost':loss_history,'tr_Acc':train_acc_history,'val_acc':val_acc_history}\n",
        "pickle_out = open(\"sgd_m.pickle\",\"wb\")\n",
        "pickle.dump(sgd_m, pickle_out)\n",
        "pickle_out.close()"
      ],
      "execution_count": null,
      "outputs": []
    },
    {
      "cell_type": "code",
      "metadata": {
        "id": "zK3t--JuSMZo"
      },
      "source": [
        "# Plot the accuracy curves\n",
        "plt.plot(np.subtract(1,train_acc_history),'g--',label='Training')\n",
        "plt.plot(np.subtract(1,val_acc_history),'r--',label='Validation')\n",
        "plt.legend()\n",
        "plt.xlabel('epoch')\n",
        "plt.ylabel('% error')\n",
        "plt.title('Error Curves for SGD with momentum')\n",
        "plt.show()"
      ],
      "execution_count": null,
      "outputs": []
    },
    {
      "cell_type": "markdown",
      "metadata": {
        "id": "-IxYhX4pSMZq"
      },
      "source": [
        "### 2. Adagrad"
      ]
    },
    {
      "cell_type": "markdown",
      "metadata": {
        "id": "MgI70jBkSMZq"
      },
      "source": [
        "In adagrad, instead of accumulating velocity, we accumulate squared gradient.\n",
        "\n",
        "The parameters with the largest partial derivative of the loss have a correspondingly rapid decrease in their learning rate, while parameters with small partial derivatives have a relatively small decrease in their learning rate. The net eﬀect is greater progress in the more gently sloped directions of parameter space.\n",
        "\n",
        "Advantage:\n",
        "\n",
        "- It performs better than SGD, but unlike SGD with momentum, it adjusts its path without overshooting at global minima.\n",
        "\n",
        "Disadvantage:\n",
        "\n",
        "- The accumulation of squared gradients from the beginning oftraining can result in a premature and excessive decrease in the eﬀective learning rate. This issue is addressed in rmsprop."
      ]
    },
    {
      "cell_type": "markdown",
      "metadata": {
        "id": "Kjg3h0D-SMZq"
      },
      "source": [
        "Implement adagrad in layers.py file and run the below code."
      ]
    },
    {
      "cell_type": "markdown",
      "metadata": {
        "id": "gH_wi6o9SMZr"
      },
      "source": [
        "<img src=\"adagrad.png\" alt=\"Drawing\" style=\"width: 600px;\"/>"
      ]
    },
    {
      "cell_type": "markdown",
      "metadata": {
        "id": "u9P8CEpOSMZr"
      },
      "source": [
        "The $\\delta$ in the denominator is to prvent the divide by zero cases and therefore has a very small value like $1e^-8$"
      ]
    },
    {
      "cell_type": "code",
      "metadata": {
        "id": "rdSEByJOSMZr"
      },
      "source": [
        "# Initialize two_layered_NN instance\n",
        "from n_model import n_layered_NN\n",
        "model = n_layered_NN(data,regularization_type = 'dropout',update_rule = 'adagrad',n=2,hidden_layer_sizes=[100,100])\n",
        "# Train the two layered neural network\n",
        "_,loss_history,train_acc_history,val_acc_history=model.train()"
      ],
      "execution_count": null,
      "outputs": []
    },
    {
      "cell_type": "code",
      "metadata": {
        "id": "RrAY8TQ8SMZt"
      },
      "source": [
        "# print best accuracies\n",
        "print('Best accuracy on training data: '+str(np.max(train_acc_history)))\n",
        "print('Best accuracy on test data :'+str(np.max(val_acc_history)))\n",
        "adagrad = {'cost':loss_history,'tr_Acc':train_acc_history,'val_acc':val_acc_history}\n",
        "pickle_out = open(\"adagrad.pickle\",\"wb\")\n",
        "pickle.dump(adagrad, pickle_out)\n",
        "pickle_out.close()"
      ],
      "execution_count": null,
      "outputs": []
    },
    {
      "cell_type": "code",
      "metadata": {
        "id": "aJ7mSeXmSMZw"
      },
      "source": [
        "# Plot the accuracy curves\n",
        "plt.plot(np.subtract(1,train_acc_history),'g--',label='Training')\n",
        "plt.plot(np.subtract(1,val_acc_history),'r--',label='Validation')\n",
        "plt.legend()\n",
        "plt.xlabel('epoch')\n",
        "plt.ylabel('% error')\n",
        "plt.title('Error Curves for AdaGrad')\n",
        "plt.show()"
      ],
      "execution_count": null,
      "outputs": []
    },
    {
      "cell_type": "markdown",
      "metadata": {
        "id": "8SOIPB_cSMZy"
      },
      "source": [
        "### 3. RMSProp"
      ]
    },
    {
      "cell_type": "markdown",
      "metadata": {
        "id": "g5XByDMpSMZy"
      },
      "source": [
        "RMSProp shrinks the learning rate according to the entire history of the squared gradient and may have made the learning rate too small before arriving at global minima. RMSProp uses an exponentially decaying average to discard history from the extreme past so that it can converge rapidly after ﬁnding a global minima, as if it were an instance of the AdaGrad algorithm initialized within that minima."
      ]
    },
    {
      "cell_type": "markdown",
      "metadata": {
        "id": "d8qRLFMOSMZy"
      },
      "source": [
        "Implement the rmsprop in layers.py file and run the below code."
      ]
    },
    {
      "cell_type": "markdown",
      "metadata": {
        "id": "wmp63JlZSMZz"
      },
      "source": [
        "<img src=\"rms.png\" alt=\"Drawing\" style=\"width: 600px;\"/>"
      ]
    },
    {
      "cell_type": "markdown",
      "metadata": {
        "id": "hkCvS2cESMZz"
      },
      "source": [
        "The $\\rho$ is similar to friction and usually has a large value such as 0.99. The $\\delta$ in this case is also to prevent the divide by zero error."
      ]
    },
    {
      "cell_type": "code",
      "metadata": {
        "id": "y5eVLKOlSMZz"
      },
      "source": [
        "# Initialize two_layered_NN instance\n",
        "from n_model import n_layered_NN\n",
        "model = n_layered_NN(data,regularization_type = 'dropout',update_rule = 'rmsprop',n=2,hidden_layer_sizes=[100,100])\n",
        "# Train the two layered neural network\n",
        "_,loss_history,train_acc_history,val_acc_history=model.train()"
      ],
      "execution_count": null,
      "outputs": []
    },
    {
      "cell_type": "code",
      "metadata": {
        "id": "z4E_xpZESMZ1"
      },
      "source": [
        "# print best accuracies\n",
        "print('Best accuracy on training data: '+str(np.max(train_acc_history)))\n",
        "print('Best accuracy on test data :'+str(np.max(val_acc_history)))\n",
        "rmsprop = {'cost':loss_history,'tr_Acc':train_acc_history,'val_acc':val_acc_history}\n",
        "pickle_out = open(\"rmsprop.pickle\",\"wb\")\n",
        "pickle.dump(rmsprop, pickle_out)\n",
        "pickle_out.close()"
      ],
      "execution_count": null,
      "outputs": []
    },
    {
      "cell_type": "code",
      "metadata": {
        "id": "wqKyazgBSMZ3"
      },
      "source": [
        "# Plot the accuracy curves\n",
        "plt.plot(np.subtract(1,train_acc_history),'g--',label='Training')\n",
        "plt.plot(np.subtract(1,val_acc_history),'r--',label='Validation')\n",
        "plt.legend()\n",
        "plt.xlabel('epoch')\n",
        "plt.ylabel('% error')\n",
        "plt.title('Error Curves for RMSProp')\n",
        "plt.show()"
      ],
      "execution_count": null,
      "outputs": []
    },
    {
      "cell_type": "markdown",
      "metadata": {
        "id": "LIgEw6k3SMZ5"
      },
      "source": [
        "### 4. ADAM (adaptive moments)"
      ]
    },
    {
      "cell_type": "markdown",
      "metadata": {
        "id": "FHy7P5hkSMZ5"
      },
      "source": [
        "The ADAM is a combination of both momentum and rmsprop. \n",
        "\n",
        "- In Adam, the first moment is similar to momentum and second moment is similar to rmsprop. \n",
        "- Adam includes bias corrections to the estimates of both the ﬁrst-order moments and the second-order moments to account for their initialization at the origin i.e. avoid large steps during initial conditions."
      ]
    },
    {
      "cell_type": "markdown",
      "metadata": {
        "id": "VUYVKCEpSMZ6"
      },
      "source": [
        "<img src=\"adam.png\" alt=\"Drawing\" style=\"width: 600px;\"/>"
      ]
    },
    {
      "cell_type": "code",
      "metadata": {
        "id": "JEr30Pa8SMZ6"
      },
      "source": [
        "# Initialize two_layered_NN instance\n",
        "from n_model import n_layered_NN\n",
        "model = n_layered_NN(data,regularization_type = 'dropout',update_rule = 'adam',n=2,hidden_layer_sizes=[100,100])\n",
        "# Train the two layered neural network\n",
        "_,loss_history,train_acc_history,val_acc_history=model.train()"
      ],
      "execution_count": null,
      "outputs": []
    },
    {
      "cell_type": "code",
      "metadata": {
        "id": "7TGLVMwcSMZ8"
      },
      "source": [
        "# print best accuracies\n",
        "print('Best accuracy on training data: '+str(np.max(train_acc_history)))\n",
        "print('Best accuracy on test data :'+str(np.max(val_acc_history)))\n",
        "\n",
        "adam = {'cost':loss_history,'tr_Acc':train_acc_history,'val_acc':val_acc_history}\n",
        "pickle_out = open(\"adam.pickle\",\"wb\")\n",
        "pickle.dump(adam, pickle_out)\n",
        "pickle_out.close()"
      ],
      "execution_count": null,
      "outputs": []
    },
    {
      "cell_type": "code",
      "metadata": {
        "id": "4uqMhCngSMZ-"
      },
      "source": [
        "# Plot the accuracy curves\n",
        "plt.plot(np.subtract(1,train_acc_history),'g--',label='Training')\n",
        "plt.plot(np.subtract(1,val_acc_history),'r--',label='Validation')\n",
        "plt.legend()\n",
        "plt.xlabel('epoch')\n",
        "plt.ylabel('% error')\n",
        "plt.title('Error Curves for ADAM')\n",
        "plt.show()"
      ],
      "execution_count": null,
      "outputs": []
    },
    {
      "cell_type": "markdown",
      "metadata": {
        "id": "ZtaqFYZqSMaA"
      },
      "source": [
        "### Plot to compare results"
      ]
    },
    {
      "cell_type": "code",
      "metadata": {
        "id": "5OqNEQ5FSMaA"
      },
      "source": [
        "pickle_in = open(\"sgd.pickle\",\"rb\")\n",
        "sgd = pickle.load(pickle_in)\n",
        "pickle_in.close()\n",
        "pickle_in = open(\"sgd_m.pickle\",\"rb\")\n",
        "sgd_m = pickle.load(pickle_in)\n",
        "pickle_in.close()\n",
        "pickle_in = open(\"rmsprop.pickle\",\"rb\")\n",
        "rmsprop = pickle.load(pickle_in)\n",
        "pickle_in.close()\n",
        "pickle_in = open(\"adagrad.pickle\",\"rb\")\n",
        "adagrad = pickle.load(pickle_in)\n",
        "pickle_in.close()\n",
        "pickle_in = open(\"adam.pickle\",\"rb\")\n",
        "adam = pickle.load(pickle_in)\n",
        "pickle_in.close()"
      ],
      "execution_count": null,
      "outputs": []
    },
    {
      "cell_type": "code",
      "metadata": {
        "id": "hz4BCI6nSMaD"
      },
      "source": [
        "plt.plot(np.subtract(1,sgd['val_acc']),'c--',label='sgd')\n",
        "plt.plot(np.subtract(1,sgd_m['val_acc']),'r--',label='sgd with momentum')\n",
        "plt.plot(np.subtract(1,rmsprop['val_acc']),'b--',label='RMSProp')\n",
        "plt.plot(np.subtract(1,adagrad['val_acc']),'m--',label='adagrad')\n",
        "plt.plot(np.subtract(1,adam['val_acc']),'g--',label='adam')\n",
        "plt.legend()\n",
        "plt.xlabel('epoch')\n",
        "plt.ylabel('% error')\n",
        "plt.title('Error Curves for different Optimizations')\n",
        "plt.show()"
      ],
      "execution_count": null,
      "outputs": []
    },
    {
      "cell_type": "markdown",
      "metadata": {
        "id": "tWmKxy4wSMaF"
      },
      "source": [
        "From the plots, you should observe: \n",
        "1. sgd converges very slowly.\n",
        "2. sgd_with_momentum converges the fastest because of the momentum.\n",
        "3. RMSProp, adagrad and ADAM converges efiiciently."
      ]
    },
    {
      "cell_type": "code",
      "metadata": {
        "id": "AIduBqWbSMaF"
      },
      "source": [
        ""
      ],
      "execution_count": null,
      "outputs": []
    }
  ]
}