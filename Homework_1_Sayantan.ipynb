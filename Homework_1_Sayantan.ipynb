{
  "nbformat": 4,
  "nbformat_minor": 0,
  "metadata": {
    "colab": {
      "name": "Homework 1_Sayantan.ipynb",
      "provenance": [],
      "collapsed_sections": [],
      "include_colab_link": true
    },
    "kernelspec": {
      "name": "python3",
      "display_name": "Python 3"
    }
  },
  "cells": [
    {
      "cell_type": "markdown",
      "metadata": {
        "id": "view-in-github",
        "colab_type": "text"
      },
      "source": [
        "<a href=\"https://colab.research.google.com/github/montimaj/Deep-Learning-SE-6213/blob/master/Homework_1_Sayantan.ipynb\" target=\"_parent\"><img src=\"https://colab.research.google.com/assets/colab-badge.svg\" alt=\"Open In Colab\"/></a>"
      ]
    },
    {
      "cell_type": "markdown",
      "metadata": {
        "id": "hxquXacey-jC",
        "colab_type": "text"
      },
      "source": [
        ""
      ]
    },
    {
      "cell_type": "code",
      "metadata": {
        "id": "w5q7ZTR-7P8r",
        "colab_type": "code",
        "colab": {}
      },
      "source": [
        ""
      ],
      "execution_count": null,
      "outputs": []
    },
    {
      "cell_type": "markdown",
      "metadata": {
        "id": "_fOWczMGzCEe",
        "colab_type": "text"
      },
      "source": [
        ""
      ]
    },
    {
      "cell_type": "code",
      "metadata": {
        "id": "uTcPTAlXzD-A",
        "colab_type": "code",
        "colab": {}
      },
      "source": [
        "import tensorflow as tf\n",
        "import numpy as np\n",
        "from  tensorflow import keras"
      ],
      "execution_count": 1,
      "outputs": []
    },
    {
      "cell_type": "code",
      "metadata": {
        "id": "8ixJrEaozj7d",
        "colab_type": "code",
        "colab": {}
      },
      "source": [
        "# choosing a random seed for reproducibility\n",
        "np.random.seed(0) # used for different seeds, 0, 42, 32768, and 1234"
      ],
      "execution_count": 44,
      "outputs": []
    },
    {
      "cell_type": "code",
      "metadata": {
        "id": "wJbVaFGkzrx5",
        "colab_type": "code",
        "colab": {}
      },
      "source": [
        "# network and training \n",
        "EPOCHS = 200\n",
        "BATCH_SIZE = 128\n",
        "VERBOSE = 1\n",
        "NB_CLASSES = 10 #number of outputs =  Number of digits\n",
        "N_HIDDEN = 128\n",
        "VALIDATION_SPLIT = 0.2 # How much data is reserved for validation"
      ],
      "execution_count": 45,
      "outputs": []
    },
    {
      "cell_type": "code",
      "metadata": {
        "id": "cQ6OvRr7zsK7",
        "colab_type": "code",
        "colab": {
          "base_uri": "https://localhost:8080/",
          "height": 52
        },
        "outputId": "a333065a-86c1-41bb-99b1-1d37a713924f"
      },
      "source": [
        "# loading MNIST dataset\n",
        "# verify the split between train and test is 60,000 and 10,000 respectively one -hot is automatically applied\n",
        "mnist = keras.datasets.mnist\n",
        "(X_train, Y_train), (X_test, Y_test) = mnist.load_data()\n",
        "print(X_train.shape[0], 'train samples')\n",
        "print(X_test.shape[0], ' test samples')\n",
        "      \n",
        "     \n",
        "    \n",
        "\n"
      ],
      "execution_count": 49,
      "outputs": [
        {
          "output_type": "stream",
          "text": [
            "60000 train samples\n",
            "10000  test samples\n"
          ],
          "name": "stdout"
        }
      ]
    },
    {
      "cell_type": "code",
      "metadata": {
        "id": "v9Iut5MDoA-K",
        "colab_type": "code",
        "colab": {}
      },
      "source": [
        "RESHAPED = 784\n",
        "X_train = X_train.reshape(60000, RESHAPED)\n",
        "X_test = X_test.reshape(10000, RESHAPED)\n",
        "X_train = X_train.astype('float32')\n",
        "X_test = X_test.astype('float32')"
      ],
      "execution_count": 50,
      "outputs": []
    },
    {
      "cell_type": "code",
      "metadata": {
        "id": "lbMsbMWpFFwX",
        "colab_type": "code",
        "colab": {
          "base_uri": "https://localhost:8080/",
          "height": 52
        },
        "outputId": "1f037fe0-7cbd-4b76-8e62-219985b6304b"
      },
      "source": [
        "#normalize in [0,1]\n",
        "X_train, X_test = X_train / 255.0, X_test / 255.0\n",
        "print(X_train.shape[0], 'train samples')\n",
        "print(X_test.shape[0], 'test samples')"
      ],
      "execution_count": 51,
      "outputs": [
        {
          "output_type": "stream",
          "text": [
            "60000 train samples\n",
            "10000 test samples\n"
          ],
          "name": "stdout"
        }
      ]
    },
    {
      "cell_type": "code",
      "metadata": {
        "id": "9QBkl36uF7PM",
        "colab_type": "code",
        "colab": {}
      },
      "source": [
        "#one-hot\n",
        "Y_train = tf.keras.utils.to_categorical(Y_train, NB_CLASSES)\n",
        "Y_test = tf.keras.utils.to_categorical(Y_test, NB_CLASSES)"
      ],
      "execution_count": 52,
      "outputs": []
    },
    {
      "cell_type": "code",
      "metadata": {
        "id": "Tql6UBJsG3eJ",
        "colab_type": "code",
        "colab": {
          "base_uri": "https://localhost:8080/",
          "height": 263
        },
        "outputId": "150b199a-69f6-4dbc-ba47-cc733ca1e186"
      },
      "source": [
        "#build the model\n",
        "model = tf.keras.models.Sequential()\n",
        "model.add(keras.layers.Dense(64,\n",
        "   \t\tinput_shape=(RESHAPED,),\n",
        "   \t\tname='dense_layer1', \n",
        "   \t\tactivation='relu'))\n",
        "model.add(keras.layers.Dense(64,\n",
        "   \t\tinput_shape=(RESHAPED,),\n",
        "   \t\tname='dense_layer2', \n",
        "   \t\tactivation='relu'))\n",
        "model.add(keras.layers.Dense(NB_CLASSES,\n",
        "   \t\tinput_shape=(RESHAPED,),\n",
        "   \t\tname='dense_layer3', \n",
        "   \t\tactivation='softmax'))\n",
        "\n",
        "# summary of the model\n",
        "model.summary()"
      ],
      "execution_count": 62,
      "outputs": [
        {
          "output_type": "stream",
          "text": [
            "Model: \"sequential_7\"\n",
            "_________________________________________________________________\n",
            "Layer (type)                 Output Shape              Param #   \n",
            "=================================================================\n",
            "dense_layer1 (Dense)         (None, 64)                50240     \n",
            "_________________________________________________________________\n",
            "dense_layer2 (Dense)         (None, 64)                4160      \n",
            "_________________________________________________________________\n",
            "dense_layer3 (Dense)         (None, 10)                650       \n",
            "=================================================================\n",
            "Total params: 55,050\n",
            "Trainable params: 55,050\n",
            "Non-trainable params: 0\n",
            "_________________________________________________________________\n"
          ],
          "name": "stdout"
        }
      ]
    },
    {
      "cell_type": "code",
      "metadata": {
        "id": "mKyDv0_aHd8k",
        "colab_type": "code",
        "colab": {}
      },
      "source": [
        "# compiling the model\n",
        "model.compile(optimizer='SGD', \n",
        "              loss='categorical_crossentropy',\n",
        "              metrics=['accuracy'])"
      ],
      "execution_count": 63,
      "outputs": []
    },
    {
      "cell_type": "code",
      "metadata": {
        "id": "CDPjwMRaIBTn",
        "colab_type": "code",
        "colab": {
          "base_uri": "https://localhost:8080/",
          "height": 1000
        },
        "outputId": "e5fbf13e-ed9d-4920-c755-d13b5c103122"
      },
      "source": [
        "#training the model\n",
        "model.fit(X_train, Y_train,\n",
        "\t\tbatch_size=BATCH_SIZE, epochs=EPOCHS,\n",
        "\t\tverbose=VERBOSE, validation_split=VALIDATION_SPLIT)"
      ],
      "execution_count": 64,
      "outputs": [
        {
          "output_type": "stream",
          "text": [
            "Epoch 1/200\n",
            "375/375 [==============================] - 1s 3ms/step - loss: 1.6093 - accuracy: 0.5614 - val_loss: 0.8596 - val_accuracy: 0.8275\n",
            "Epoch 2/200\n",
            "375/375 [==============================] - 1s 3ms/step - loss: 0.6488 - accuracy: 0.8439 - val_loss: 0.4768 - val_accuracy: 0.8797\n",
            "Epoch 3/200\n",
            "375/375 [==============================] - 1s 3ms/step - loss: 0.4566 - accuracy: 0.8782 - val_loss: 0.3875 - val_accuracy: 0.8938\n",
            "Epoch 4/200\n",
            "375/375 [==============================] - 1s 3ms/step - loss: 0.3916 - accuracy: 0.8920 - val_loss: 0.3467 - val_accuracy: 0.9023\n",
            "Epoch 5/200\n",
            "375/375 [==============================] - 1s 3ms/step - loss: 0.3565 - accuracy: 0.8997 - val_loss: 0.3213 - val_accuracy: 0.9077\n",
            "Epoch 6/200\n",
            "375/375 [==============================] - 1s 3ms/step - loss: 0.3334 - accuracy: 0.9052 - val_loss: 0.3039 - val_accuracy: 0.9121\n",
            "Epoch 7/200\n",
            "375/375 [==============================] - 1s 3ms/step - loss: 0.3157 - accuracy: 0.9102 - val_loss: 0.2918 - val_accuracy: 0.9162\n",
            "Epoch 8/200\n",
            "375/375 [==============================] - 1s 3ms/step - loss: 0.3015 - accuracy: 0.9143 - val_loss: 0.2801 - val_accuracy: 0.9198\n",
            "Epoch 9/200\n",
            "375/375 [==============================] - 1s 3ms/step - loss: 0.2893 - accuracy: 0.9178 - val_loss: 0.2698 - val_accuracy: 0.9212\n",
            "Epoch 10/200\n",
            "375/375 [==============================] - 1s 2ms/step - loss: 0.2790 - accuracy: 0.9205 - val_loss: 0.2615 - val_accuracy: 0.9241\n",
            "Epoch 11/200\n",
            "375/375 [==============================] - 1s 2ms/step - loss: 0.2697 - accuracy: 0.9232 - val_loss: 0.2546 - val_accuracy: 0.9279\n",
            "Epoch 12/200\n",
            "375/375 [==============================] - 1s 2ms/step - loss: 0.2612 - accuracy: 0.9256 - val_loss: 0.2460 - val_accuracy: 0.9290\n",
            "Epoch 13/200\n",
            "375/375 [==============================] - 1s 2ms/step - loss: 0.2530 - accuracy: 0.9278 - val_loss: 0.2413 - val_accuracy: 0.9313\n",
            "Epoch 14/200\n",
            "375/375 [==============================] - 1s 2ms/step - loss: 0.2458 - accuracy: 0.9304 - val_loss: 0.2341 - val_accuracy: 0.9336\n",
            "Epoch 15/200\n",
            "375/375 [==============================] - 1s 2ms/step - loss: 0.2383 - accuracy: 0.9319 - val_loss: 0.2291 - val_accuracy: 0.9344\n",
            "Epoch 16/200\n",
            "375/375 [==============================] - 1s 2ms/step - loss: 0.2318 - accuracy: 0.9344 - val_loss: 0.2226 - val_accuracy: 0.9378\n",
            "Epoch 17/200\n",
            "375/375 [==============================] - 1s 2ms/step - loss: 0.2255 - accuracy: 0.9354 - val_loss: 0.2181 - val_accuracy: 0.9384\n",
            "Epoch 18/200\n",
            "375/375 [==============================] - 1s 2ms/step - loss: 0.2192 - accuracy: 0.9379 - val_loss: 0.2128 - val_accuracy: 0.9408\n",
            "Epoch 19/200\n",
            "375/375 [==============================] - 1s 2ms/step - loss: 0.2135 - accuracy: 0.9392 - val_loss: 0.2078 - val_accuracy: 0.9417\n",
            "Epoch 20/200\n",
            "375/375 [==============================] - 1s 2ms/step - loss: 0.2081 - accuracy: 0.9407 - val_loss: 0.2040 - val_accuracy: 0.9430\n",
            "Epoch 21/200\n",
            "375/375 [==============================] - 1s 2ms/step - loss: 0.2027 - accuracy: 0.9420 - val_loss: 0.2000 - val_accuracy: 0.9446\n",
            "Epoch 22/200\n",
            "375/375 [==============================] - 1s 2ms/step - loss: 0.1978 - accuracy: 0.9441 - val_loss: 0.1958 - val_accuracy: 0.9453\n",
            "Epoch 23/200\n",
            "375/375 [==============================] - 1s 2ms/step - loss: 0.1932 - accuracy: 0.9455 - val_loss: 0.1947 - val_accuracy: 0.9469\n",
            "Epoch 24/200\n",
            "375/375 [==============================] - 1s 2ms/step - loss: 0.1883 - accuracy: 0.9465 - val_loss: 0.1897 - val_accuracy: 0.9473\n",
            "Epoch 25/200\n",
            "375/375 [==============================] - 1s 2ms/step - loss: 0.1843 - accuracy: 0.9477 - val_loss: 0.1870 - val_accuracy: 0.9474\n",
            "Epoch 26/200\n",
            "375/375 [==============================] - 1s 2ms/step - loss: 0.1803 - accuracy: 0.9486 - val_loss: 0.1830 - val_accuracy: 0.9496\n",
            "Epoch 27/200\n",
            "375/375 [==============================] - 1s 2ms/step - loss: 0.1762 - accuracy: 0.9502 - val_loss: 0.1814 - val_accuracy: 0.9499\n",
            "Epoch 28/200\n",
            "375/375 [==============================] - 1s 2ms/step - loss: 0.1727 - accuracy: 0.9511 - val_loss: 0.1773 - val_accuracy: 0.9512\n",
            "Epoch 29/200\n",
            "375/375 [==============================] - 1s 2ms/step - loss: 0.1690 - accuracy: 0.9526 - val_loss: 0.1765 - val_accuracy: 0.9503\n",
            "Epoch 30/200\n",
            "375/375 [==============================] - 1s 2ms/step - loss: 0.1657 - accuracy: 0.9530 - val_loss: 0.1718 - val_accuracy: 0.9526\n",
            "Epoch 31/200\n",
            "375/375 [==============================] - 1s 2ms/step - loss: 0.1623 - accuracy: 0.9539 - val_loss: 0.1696 - val_accuracy: 0.9535\n",
            "Epoch 32/200\n",
            "375/375 [==============================] - 1s 3ms/step - loss: 0.1593 - accuracy: 0.9551 - val_loss: 0.1677 - val_accuracy: 0.9542\n",
            "Epoch 33/200\n",
            "375/375 [==============================] - 1s 3ms/step - loss: 0.1563 - accuracy: 0.9553 - val_loss: 0.1653 - val_accuracy: 0.9545\n",
            "Epoch 34/200\n",
            "375/375 [==============================] - 1s 3ms/step - loss: 0.1533 - accuracy: 0.9569 - val_loss: 0.1633 - val_accuracy: 0.9554\n",
            "Epoch 35/200\n",
            "375/375 [==============================] - 1s 3ms/step - loss: 0.1503 - accuracy: 0.9572 - val_loss: 0.1616 - val_accuracy: 0.9553\n",
            "Epoch 36/200\n",
            "375/375 [==============================] - 1s 3ms/step - loss: 0.1476 - accuracy: 0.9582 - val_loss: 0.1600 - val_accuracy: 0.9559\n",
            "Epoch 37/200\n",
            "375/375 [==============================] - 1s 3ms/step - loss: 0.1451 - accuracy: 0.9591 - val_loss: 0.1571 - val_accuracy: 0.9566\n",
            "Epoch 38/200\n",
            "375/375 [==============================] - 1s 2ms/step - loss: 0.1425 - accuracy: 0.9597 - val_loss: 0.1560 - val_accuracy: 0.9567\n",
            "Epoch 39/200\n",
            "375/375 [==============================] - 1s 2ms/step - loss: 0.1401 - accuracy: 0.9606 - val_loss: 0.1553 - val_accuracy: 0.9564\n",
            "Epoch 40/200\n",
            "375/375 [==============================] - 1s 2ms/step - loss: 0.1379 - accuracy: 0.9613 - val_loss: 0.1524 - val_accuracy: 0.9581\n",
            "Epoch 41/200\n",
            "375/375 [==============================] - 1s 2ms/step - loss: 0.1355 - accuracy: 0.9616 - val_loss: 0.1513 - val_accuracy: 0.9582\n",
            "Epoch 42/200\n",
            "375/375 [==============================] - 1s 2ms/step - loss: 0.1330 - accuracy: 0.9625 - val_loss: 0.1498 - val_accuracy: 0.9582\n",
            "Epoch 43/200\n",
            "375/375 [==============================] - 1s 2ms/step - loss: 0.1312 - accuracy: 0.9626 - val_loss: 0.1480 - val_accuracy: 0.9582\n",
            "Epoch 44/200\n",
            "375/375 [==============================] - 1s 2ms/step - loss: 0.1291 - accuracy: 0.9634 - val_loss: 0.1471 - val_accuracy: 0.9596\n",
            "Epoch 45/200\n",
            "375/375 [==============================] - 1s 2ms/step - loss: 0.1270 - accuracy: 0.9643 - val_loss: 0.1452 - val_accuracy: 0.9588\n",
            "Epoch 46/200\n",
            "375/375 [==============================] - 1s 3ms/step - loss: 0.1251 - accuracy: 0.9643 - val_loss: 0.1450 - val_accuracy: 0.9597\n",
            "Epoch 47/200\n",
            "375/375 [==============================] - 1s 2ms/step - loss: 0.1232 - accuracy: 0.9650 - val_loss: 0.1434 - val_accuracy: 0.9608\n",
            "Epoch 48/200\n",
            "375/375 [==============================] - 1s 3ms/step - loss: 0.1213 - accuracy: 0.9660 - val_loss: 0.1411 - val_accuracy: 0.9609\n",
            "Epoch 49/200\n",
            "375/375 [==============================] - 1s 2ms/step - loss: 0.1194 - accuracy: 0.9659 - val_loss: 0.1396 - val_accuracy: 0.9618\n",
            "Epoch 50/200\n",
            "375/375 [==============================] - 1s 2ms/step - loss: 0.1178 - accuracy: 0.9668 - val_loss: 0.1390 - val_accuracy: 0.9617\n",
            "Epoch 51/200\n",
            "375/375 [==============================] - 1s 2ms/step - loss: 0.1158 - accuracy: 0.9669 - val_loss: 0.1376 - val_accuracy: 0.9621\n",
            "Epoch 52/200\n",
            "375/375 [==============================] - 1s 3ms/step - loss: 0.1144 - accuracy: 0.9676 - val_loss: 0.1369 - val_accuracy: 0.9622\n",
            "Epoch 53/200\n",
            "375/375 [==============================] - 1s 2ms/step - loss: 0.1127 - accuracy: 0.9681 - val_loss: 0.1376 - val_accuracy: 0.9613\n",
            "Epoch 54/200\n",
            "375/375 [==============================] - 1s 2ms/step - loss: 0.1112 - accuracy: 0.9685 - val_loss: 0.1353 - val_accuracy: 0.9617\n",
            "Epoch 55/200\n",
            "375/375 [==============================] - 1s 2ms/step - loss: 0.1095 - accuracy: 0.9688 - val_loss: 0.1342 - val_accuracy: 0.9626\n",
            "Epoch 56/200\n",
            "375/375 [==============================] - 1s 2ms/step - loss: 0.1083 - accuracy: 0.9693 - val_loss: 0.1343 - val_accuracy: 0.9620\n",
            "Epoch 57/200\n",
            "375/375 [==============================] - 1s 2ms/step - loss: 0.1066 - accuracy: 0.9695 - val_loss: 0.1329 - val_accuracy: 0.9624\n",
            "Epoch 58/200\n",
            "375/375 [==============================] - 1s 2ms/step - loss: 0.1054 - accuracy: 0.9701 - val_loss: 0.1315 - val_accuracy: 0.9624\n",
            "Epoch 59/200\n",
            "375/375 [==============================] - 1s 3ms/step - loss: 0.1041 - accuracy: 0.9703 - val_loss: 0.1311 - val_accuracy: 0.9632\n",
            "Epoch 60/200\n",
            "375/375 [==============================] - 1s 2ms/step - loss: 0.1024 - accuracy: 0.9710 - val_loss: 0.1293 - val_accuracy: 0.9632\n",
            "Epoch 61/200\n",
            "375/375 [==============================] - 1s 2ms/step - loss: 0.1011 - accuracy: 0.9715 - val_loss: 0.1289 - val_accuracy: 0.9636\n",
            "Epoch 62/200\n",
            "375/375 [==============================] - 1s 2ms/step - loss: 0.0999 - accuracy: 0.9719 - val_loss: 0.1291 - val_accuracy: 0.9630\n",
            "Epoch 63/200\n",
            "375/375 [==============================] - 1s 2ms/step - loss: 0.0987 - accuracy: 0.9720 - val_loss: 0.1290 - val_accuracy: 0.9638\n",
            "Epoch 64/200\n",
            "375/375 [==============================] - 1s 2ms/step - loss: 0.0973 - accuracy: 0.9724 - val_loss: 0.1271 - val_accuracy: 0.9639\n",
            "Epoch 65/200\n",
            "375/375 [==============================] - 1s 2ms/step - loss: 0.0961 - accuracy: 0.9728 - val_loss: 0.1270 - val_accuracy: 0.9642\n",
            "Epoch 66/200\n",
            "375/375 [==============================] - 1s 2ms/step - loss: 0.0951 - accuracy: 0.9732 - val_loss: 0.1254 - val_accuracy: 0.9641\n",
            "Epoch 67/200\n",
            "375/375 [==============================] - 1s 2ms/step - loss: 0.0936 - accuracy: 0.9740 - val_loss: 0.1264 - val_accuracy: 0.9644\n",
            "Epoch 68/200\n",
            "375/375 [==============================] - 1s 2ms/step - loss: 0.0925 - accuracy: 0.9739 - val_loss: 0.1243 - val_accuracy: 0.9651\n",
            "Epoch 69/200\n",
            "375/375 [==============================] - 1s 2ms/step - loss: 0.0915 - accuracy: 0.9743 - val_loss: 0.1239 - val_accuracy: 0.9645\n",
            "Epoch 70/200\n",
            "375/375 [==============================] - 1s 2ms/step - loss: 0.0903 - accuracy: 0.9749 - val_loss: 0.1237 - val_accuracy: 0.9655\n",
            "Epoch 71/200\n",
            "375/375 [==============================] - 1s 2ms/step - loss: 0.0892 - accuracy: 0.9751 - val_loss: 0.1240 - val_accuracy: 0.9647\n",
            "Epoch 72/200\n",
            "375/375 [==============================] - 1s 2ms/step - loss: 0.0882 - accuracy: 0.9752 - val_loss: 0.1226 - val_accuracy: 0.9647\n",
            "Epoch 73/200\n",
            "375/375 [==============================] - 1s 2ms/step - loss: 0.0872 - accuracy: 0.9754 - val_loss: 0.1217 - val_accuracy: 0.9653\n",
            "Epoch 74/200\n",
            "375/375 [==============================] - 1s 3ms/step - loss: 0.0862 - accuracy: 0.9758 - val_loss: 0.1219 - val_accuracy: 0.9647\n",
            "Epoch 75/200\n",
            "375/375 [==============================] - 1s 3ms/step - loss: 0.0851 - accuracy: 0.9760 - val_loss: 0.1211 - val_accuracy: 0.9655\n",
            "Epoch 76/200\n",
            "375/375 [==============================] - 1s 2ms/step - loss: 0.0841 - accuracy: 0.9766 - val_loss: 0.1206 - val_accuracy: 0.9655\n",
            "Epoch 77/200\n",
            "375/375 [==============================] - 1s 2ms/step - loss: 0.0831 - accuracy: 0.9764 - val_loss: 0.1198 - val_accuracy: 0.9654\n",
            "Epoch 78/200\n",
            "375/375 [==============================] - 1s 2ms/step - loss: 0.0821 - accuracy: 0.9767 - val_loss: 0.1193 - val_accuracy: 0.9657\n",
            "Epoch 79/200\n",
            "375/375 [==============================] - 1s 2ms/step - loss: 0.0812 - accuracy: 0.9775 - val_loss: 0.1188 - val_accuracy: 0.9653\n",
            "Epoch 80/200\n",
            "375/375 [==============================] - 1s 2ms/step - loss: 0.0802 - accuracy: 0.9779 - val_loss: 0.1193 - val_accuracy: 0.9651\n",
            "Epoch 81/200\n",
            "375/375 [==============================] - 1s 2ms/step - loss: 0.0796 - accuracy: 0.9775 - val_loss: 0.1180 - val_accuracy: 0.9659\n",
            "Epoch 82/200\n",
            "375/375 [==============================] - 1s 2ms/step - loss: 0.0785 - accuracy: 0.9785 - val_loss: 0.1166 - val_accuracy: 0.9665\n",
            "Epoch 83/200\n",
            "375/375 [==============================] - 1s 2ms/step - loss: 0.0778 - accuracy: 0.9783 - val_loss: 0.1172 - val_accuracy: 0.9657\n",
            "Epoch 84/200\n",
            "375/375 [==============================] - 1s 3ms/step - loss: 0.0769 - accuracy: 0.9790 - val_loss: 0.1157 - val_accuracy: 0.9671\n",
            "Epoch 85/200\n",
            "375/375 [==============================] - 1s 3ms/step - loss: 0.0758 - accuracy: 0.9792 - val_loss: 0.1163 - val_accuracy: 0.9659\n",
            "Epoch 86/200\n",
            "375/375 [==============================] - 1s 2ms/step - loss: 0.0750 - accuracy: 0.9791 - val_loss: 0.1162 - val_accuracy: 0.9661\n",
            "Epoch 87/200\n",
            "375/375 [==============================] - 1s 2ms/step - loss: 0.0741 - accuracy: 0.9796 - val_loss: 0.1165 - val_accuracy: 0.9657\n",
            "Epoch 88/200\n",
            "375/375 [==============================] - 1s 2ms/step - loss: 0.0734 - accuracy: 0.9797 - val_loss: 0.1150 - val_accuracy: 0.9665\n",
            "Epoch 89/200\n",
            "375/375 [==============================] - 1s 3ms/step - loss: 0.0725 - accuracy: 0.9802 - val_loss: 0.1144 - val_accuracy: 0.9669\n",
            "Epoch 90/200\n",
            "375/375 [==============================] - 1s 3ms/step - loss: 0.0718 - accuracy: 0.9801 - val_loss: 0.1142 - val_accuracy: 0.9671\n",
            "Epoch 91/200\n",
            "375/375 [==============================] - 1s 2ms/step - loss: 0.0709 - accuracy: 0.9806 - val_loss: 0.1138 - val_accuracy: 0.9667\n",
            "Epoch 92/200\n",
            "375/375 [==============================] - 1s 2ms/step - loss: 0.0701 - accuracy: 0.9810 - val_loss: 0.1135 - val_accuracy: 0.9661\n",
            "Epoch 93/200\n",
            "375/375 [==============================] - 1s 2ms/step - loss: 0.0695 - accuracy: 0.9812 - val_loss: 0.1137 - val_accuracy: 0.9676\n",
            "Epoch 94/200\n",
            "375/375 [==============================] - 1s 2ms/step - loss: 0.0689 - accuracy: 0.9812 - val_loss: 0.1128 - val_accuracy: 0.9672\n",
            "Epoch 95/200\n",
            "375/375 [==============================] - 1s 2ms/step - loss: 0.0682 - accuracy: 0.9816 - val_loss: 0.1118 - val_accuracy: 0.9673\n",
            "Epoch 96/200\n",
            "375/375 [==============================] - 1s 3ms/step - loss: 0.0671 - accuracy: 0.9815 - val_loss: 0.1130 - val_accuracy: 0.9665\n",
            "Epoch 97/200\n",
            "375/375 [==============================] - 1s 2ms/step - loss: 0.0667 - accuracy: 0.9819 - val_loss: 0.1115 - val_accuracy: 0.9672\n",
            "Epoch 98/200\n",
            "375/375 [==============================] - 1s 2ms/step - loss: 0.0661 - accuracy: 0.9825 - val_loss: 0.1108 - val_accuracy: 0.9671\n",
            "Epoch 99/200\n",
            "375/375 [==============================] - 1s 2ms/step - loss: 0.0652 - accuracy: 0.9827 - val_loss: 0.1108 - val_accuracy: 0.9672\n",
            "Epoch 100/200\n",
            "375/375 [==============================] - 1s 2ms/step - loss: 0.0645 - accuracy: 0.9824 - val_loss: 0.1111 - val_accuracy: 0.9673\n",
            "Epoch 101/200\n",
            "375/375 [==============================] - 1s 2ms/step - loss: 0.0639 - accuracy: 0.9826 - val_loss: 0.1103 - val_accuracy: 0.9670\n",
            "Epoch 102/200\n",
            "375/375 [==============================] - 1s 2ms/step - loss: 0.0632 - accuracy: 0.9834 - val_loss: 0.1107 - val_accuracy: 0.9673\n",
            "Epoch 103/200\n",
            "375/375 [==============================] - 1s 2ms/step - loss: 0.0625 - accuracy: 0.9832 - val_loss: 0.1107 - val_accuracy: 0.9671\n",
            "Epoch 104/200\n",
            "375/375 [==============================] - 1s 2ms/step - loss: 0.0619 - accuracy: 0.9837 - val_loss: 0.1103 - val_accuracy: 0.9668\n",
            "Epoch 105/200\n",
            "375/375 [==============================] - 1s 2ms/step - loss: 0.0614 - accuracy: 0.9838 - val_loss: 0.1106 - val_accuracy: 0.9676\n",
            "Epoch 106/200\n",
            "375/375 [==============================] - 1s 2ms/step - loss: 0.0608 - accuracy: 0.9836 - val_loss: 0.1091 - val_accuracy: 0.9674\n",
            "Epoch 107/200\n",
            "375/375 [==============================] - 1s 2ms/step - loss: 0.0601 - accuracy: 0.9842 - val_loss: 0.1092 - val_accuracy: 0.9678\n",
            "Epoch 108/200\n",
            "375/375 [==============================] - 1s 2ms/step - loss: 0.0595 - accuracy: 0.9843 - val_loss: 0.1089 - val_accuracy: 0.9690\n",
            "Epoch 109/200\n",
            "375/375 [==============================] - 1s 2ms/step - loss: 0.0589 - accuracy: 0.9843 - val_loss: 0.1083 - val_accuracy: 0.9682\n",
            "Epoch 110/200\n",
            "375/375 [==============================] - 1s 2ms/step - loss: 0.0584 - accuracy: 0.9846 - val_loss: 0.1082 - val_accuracy: 0.9675\n",
            "Epoch 111/200\n",
            "375/375 [==============================] - 1s 2ms/step - loss: 0.0577 - accuracy: 0.9848 - val_loss: 0.1079 - val_accuracy: 0.9681\n",
            "Epoch 112/200\n",
            "375/375 [==============================] - 1s 2ms/step - loss: 0.0571 - accuracy: 0.9850 - val_loss: 0.1087 - val_accuracy: 0.9683\n",
            "Epoch 113/200\n",
            "375/375 [==============================] - 1s 2ms/step - loss: 0.0566 - accuracy: 0.9852 - val_loss: 0.1081 - val_accuracy: 0.9681\n",
            "Epoch 114/200\n",
            "375/375 [==============================] - 1s 2ms/step - loss: 0.0560 - accuracy: 0.9854 - val_loss: 0.1074 - val_accuracy: 0.9678\n",
            "Epoch 115/200\n",
            "375/375 [==============================] - 1s 2ms/step - loss: 0.0555 - accuracy: 0.9855 - val_loss: 0.1083 - val_accuracy: 0.9678\n",
            "Epoch 116/200\n",
            "375/375 [==============================] - 1s 2ms/step - loss: 0.0548 - accuracy: 0.9856 - val_loss: 0.1064 - val_accuracy: 0.9681\n",
            "Epoch 117/200\n",
            "375/375 [==============================] - 1s 2ms/step - loss: 0.0544 - accuracy: 0.9857 - val_loss: 0.1074 - val_accuracy: 0.9683\n",
            "Epoch 118/200\n",
            "375/375 [==============================] - 1s 2ms/step - loss: 0.0538 - accuracy: 0.9858 - val_loss: 0.1063 - val_accuracy: 0.9683\n",
            "Epoch 119/200\n",
            "375/375 [==============================] - 1s 2ms/step - loss: 0.0531 - accuracy: 0.9860 - val_loss: 0.1074 - val_accuracy: 0.9682\n",
            "Epoch 120/200\n",
            "375/375 [==============================] - 1s 2ms/step - loss: 0.0527 - accuracy: 0.9865 - val_loss: 0.1063 - val_accuracy: 0.9683\n",
            "Epoch 121/200\n",
            "375/375 [==============================] - 1s 2ms/step - loss: 0.0521 - accuracy: 0.9865 - val_loss: 0.1081 - val_accuracy: 0.9681\n",
            "Epoch 122/200\n",
            "375/375 [==============================] - 1s 2ms/step - loss: 0.0518 - accuracy: 0.9869 - val_loss: 0.1065 - val_accuracy: 0.9679\n",
            "Epoch 123/200\n",
            "375/375 [==============================] - 1s 2ms/step - loss: 0.0510 - accuracy: 0.9867 - val_loss: 0.1073 - val_accuracy: 0.9678\n",
            "Epoch 124/200\n",
            "375/375 [==============================] - 1s 2ms/step - loss: 0.0507 - accuracy: 0.9869 - val_loss: 0.1078 - val_accuracy: 0.9682\n",
            "Epoch 125/200\n",
            "375/375 [==============================] - 1s 2ms/step - loss: 0.0502 - accuracy: 0.9871 - val_loss: 0.1050 - val_accuracy: 0.9686\n",
            "Epoch 126/200\n",
            "375/375 [==============================] - 1s 2ms/step - loss: 0.0497 - accuracy: 0.9875 - val_loss: 0.1055 - val_accuracy: 0.9685\n",
            "Epoch 127/200\n",
            "375/375 [==============================] - 1s 2ms/step - loss: 0.0491 - accuracy: 0.9877 - val_loss: 0.1063 - val_accuracy: 0.9682\n",
            "Epoch 128/200\n",
            "375/375 [==============================] - 1s 3ms/step - loss: 0.0488 - accuracy: 0.9879 - val_loss: 0.1052 - val_accuracy: 0.9685\n",
            "Epoch 129/200\n",
            "375/375 [==============================] - 1s 2ms/step - loss: 0.0483 - accuracy: 0.9878 - val_loss: 0.1056 - val_accuracy: 0.9686\n",
            "Epoch 130/200\n",
            "375/375 [==============================] - 1s 2ms/step - loss: 0.0477 - accuracy: 0.9879 - val_loss: 0.1055 - val_accuracy: 0.9687\n",
            "Epoch 131/200\n",
            "375/375 [==============================] - 1s 2ms/step - loss: 0.0473 - accuracy: 0.9878 - val_loss: 0.1053 - val_accuracy: 0.9683\n",
            "Epoch 132/200\n",
            "375/375 [==============================] - 1s 2ms/step - loss: 0.0469 - accuracy: 0.9880 - val_loss: 0.1055 - val_accuracy: 0.9683\n",
            "Epoch 133/200\n",
            "375/375 [==============================] - 1s 2ms/step - loss: 0.0463 - accuracy: 0.9882 - val_loss: 0.1048 - val_accuracy: 0.9688\n",
            "Epoch 134/200\n",
            "375/375 [==============================] - 1s 2ms/step - loss: 0.0457 - accuracy: 0.9885 - val_loss: 0.1054 - val_accuracy: 0.9687\n",
            "Epoch 135/200\n",
            "375/375 [==============================] - 1s 2ms/step - loss: 0.0456 - accuracy: 0.9886 - val_loss: 0.1051 - val_accuracy: 0.9682\n",
            "Epoch 136/200\n",
            "375/375 [==============================] - 1s 2ms/step - loss: 0.0451 - accuracy: 0.9885 - val_loss: 0.1045 - val_accuracy: 0.9694\n",
            "Epoch 137/200\n",
            "375/375 [==============================] - 1s 2ms/step - loss: 0.0447 - accuracy: 0.9889 - val_loss: 0.1043 - val_accuracy: 0.9692\n",
            "Epoch 138/200\n",
            "375/375 [==============================] - 1s 2ms/step - loss: 0.0442 - accuracy: 0.9891 - val_loss: 0.1047 - val_accuracy: 0.9687\n",
            "Epoch 139/200\n",
            "375/375 [==============================] - 1s 3ms/step - loss: 0.0436 - accuracy: 0.9892 - val_loss: 0.1047 - val_accuracy: 0.9688\n",
            "Epoch 140/200\n",
            "375/375 [==============================] - 1s 2ms/step - loss: 0.0434 - accuracy: 0.9891 - val_loss: 0.1043 - val_accuracy: 0.9693\n",
            "Epoch 141/200\n",
            "375/375 [==============================] - 1s 2ms/step - loss: 0.0430 - accuracy: 0.9893 - val_loss: 0.1043 - val_accuracy: 0.9689\n",
            "Epoch 142/200\n",
            "375/375 [==============================] - 1s 2ms/step - loss: 0.0425 - accuracy: 0.9895 - val_loss: 0.1048 - val_accuracy: 0.9688\n",
            "Epoch 143/200\n",
            "375/375 [==============================] - 1s 2ms/step - loss: 0.0420 - accuracy: 0.9895 - val_loss: 0.1048 - val_accuracy: 0.9694\n",
            "Epoch 144/200\n",
            "375/375 [==============================] - 1s 2ms/step - loss: 0.0417 - accuracy: 0.9896 - val_loss: 0.1042 - val_accuracy: 0.9688\n",
            "Epoch 145/200\n",
            "375/375 [==============================] - 1s 2ms/step - loss: 0.0413 - accuracy: 0.9901 - val_loss: 0.1038 - val_accuracy: 0.9697\n",
            "Epoch 146/200\n",
            "375/375 [==============================] - 1s 2ms/step - loss: 0.0410 - accuracy: 0.9896 - val_loss: 0.1039 - val_accuracy: 0.9695\n",
            "Epoch 147/200\n",
            "375/375 [==============================] - 1s 2ms/step - loss: 0.0404 - accuracy: 0.9901 - val_loss: 0.1044 - val_accuracy: 0.9691\n",
            "Epoch 148/200\n",
            "375/375 [==============================] - 1s 2ms/step - loss: 0.0401 - accuracy: 0.9901 - val_loss: 0.1041 - val_accuracy: 0.9693\n",
            "Epoch 149/200\n",
            "375/375 [==============================] - 1s 2ms/step - loss: 0.0396 - accuracy: 0.9902 - val_loss: 0.1035 - val_accuracy: 0.9699\n",
            "Epoch 150/200\n",
            "375/375 [==============================] - 1s 2ms/step - loss: 0.0393 - accuracy: 0.9904 - val_loss: 0.1051 - val_accuracy: 0.9693\n",
            "Epoch 151/200\n",
            "375/375 [==============================] - 1s 2ms/step - loss: 0.0391 - accuracy: 0.9908 - val_loss: 0.1045 - val_accuracy: 0.9693\n",
            "Epoch 152/200\n",
            "375/375 [==============================] - 1s 2ms/step - loss: 0.0387 - accuracy: 0.9904 - val_loss: 0.1043 - val_accuracy: 0.9692\n",
            "Epoch 153/200\n",
            "375/375 [==============================] - 1s 2ms/step - loss: 0.0383 - accuracy: 0.9905 - val_loss: 0.1043 - val_accuracy: 0.9693\n",
            "Epoch 154/200\n",
            "375/375 [==============================] - 1s 2ms/step - loss: 0.0379 - accuracy: 0.9912 - val_loss: 0.1038 - val_accuracy: 0.9697\n",
            "Epoch 155/200\n",
            "375/375 [==============================] - 1s 2ms/step - loss: 0.0375 - accuracy: 0.9911 - val_loss: 0.1038 - val_accuracy: 0.9694\n",
            "Epoch 156/200\n",
            "375/375 [==============================] - 1s 2ms/step - loss: 0.0371 - accuracy: 0.9909 - val_loss: 0.1048 - val_accuracy: 0.9685\n",
            "Epoch 157/200\n",
            "375/375 [==============================] - 1s 2ms/step - loss: 0.0369 - accuracy: 0.9911 - val_loss: 0.1038 - val_accuracy: 0.9696\n",
            "Epoch 158/200\n",
            "375/375 [==============================] - 1s 2ms/step - loss: 0.0365 - accuracy: 0.9911 - val_loss: 0.1034 - val_accuracy: 0.9697\n",
            "Epoch 159/200\n",
            "375/375 [==============================] - 1s 2ms/step - loss: 0.0360 - accuracy: 0.9913 - val_loss: 0.1039 - val_accuracy: 0.9695\n",
            "Epoch 160/200\n",
            "375/375 [==============================] - 1s 2ms/step - loss: 0.0359 - accuracy: 0.9917 - val_loss: 0.1033 - val_accuracy: 0.9702\n",
            "Epoch 161/200\n",
            "375/375 [==============================] - 1s 2ms/step - loss: 0.0355 - accuracy: 0.9919 - val_loss: 0.1032 - val_accuracy: 0.9699\n",
            "Epoch 162/200\n",
            "375/375 [==============================] - 1s 2ms/step - loss: 0.0352 - accuracy: 0.9917 - val_loss: 0.1035 - val_accuracy: 0.9695\n",
            "Epoch 163/200\n",
            "375/375 [==============================] - 1s 2ms/step - loss: 0.0348 - accuracy: 0.9919 - val_loss: 0.1040 - val_accuracy: 0.9693\n",
            "Epoch 164/200\n",
            "375/375 [==============================] - 1s 2ms/step - loss: 0.0346 - accuracy: 0.9919 - val_loss: 0.1037 - val_accuracy: 0.9696\n",
            "Epoch 165/200\n",
            "375/375 [==============================] - 1s 2ms/step - loss: 0.0342 - accuracy: 0.9921 - val_loss: 0.1042 - val_accuracy: 0.9695\n",
            "Epoch 166/200\n",
            "375/375 [==============================] - 1s 2ms/step - loss: 0.0339 - accuracy: 0.9922 - val_loss: 0.1037 - val_accuracy: 0.9694\n",
            "Epoch 167/200\n",
            "375/375 [==============================] - 1s 2ms/step - loss: 0.0336 - accuracy: 0.9924 - val_loss: 0.1046 - val_accuracy: 0.9697\n",
            "Epoch 168/200\n",
            "375/375 [==============================] - 1s 2ms/step - loss: 0.0334 - accuracy: 0.9923 - val_loss: 0.1034 - val_accuracy: 0.9693\n",
            "Epoch 169/200\n",
            "375/375 [==============================] - 1s 2ms/step - loss: 0.0330 - accuracy: 0.9926 - val_loss: 0.1041 - val_accuracy: 0.9693\n",
            "Epoch 170/200\n",
            "375/375 [==============================] - 1s 2ms/step - loss: 0.0327 - accuracy: 0.9925 - val_loss: 0.1039 - val_accuracy: 0.9693\n",
            "Epoch 171/200\n",
            "375/375 [==============================] - 1s 2ms/step - loss: 0.0324 - accuracy: 0.9927 - val_loss: 0.1032 - val_accuracy: 0.9699\n",
            "Epoch 172/200\n",
            "375/375 [==============================] - 1s 2ms/step - loss: 0.0321 - accuracy: 0.9931 - val_loss: 0.1042 - val_accuracy: 0.9693\n",
            "Epoch 173/200\n",
            "375/375 [==============================] - 1s 2ms/step - loss: 0.0316 - accuracy: 0.9932 - val_loss: 0.1045 - val_accuracy: 0.9696\n",
            "Epoch 174/200\n",
            "375/375 [==============================] - 1s 2ms/step - loss: 0.0314 - accuracy: 0.9931 - val_loss: 0.1040 - val_accuracy: 0.9701\n",
            "Epoch 175/200\n",
            "375/375 [==============================] - 1s 2ms/step - loss: 0.0312 - accuracy: 0.9931 - val_loss: 0.1037 - val_accuracy: 0.9697\n",
            "Epoch 176/200\n",
            "375/375 [==============================] - 1s 2ms/step - loss: 0.0309 - accuracy: 0.9933 - val_loss: 0.1045 - val_accuracy: 0.9690\n",
            "Epoch 177/200\n",
            "375/375 [==============================] - 1s 2ms/step - loss: 0.0306 - accuracy: 0.9932 - val_loss: 0.1037 - val_accuracy: 0.9698\n",
            "Epoch 178/200\n",
            "375/375 [==============================] - 1s 2ms/step - loss: 0.0304 - accuracy: 0.9934 - val_loss: 0.1047 - val_accuracy: 0.9692\n",
            "Epoch 179/200\n",
            "375/375 [==============================] - 1s 2ms/step - loss: 0.0301 - accuracy: 0.9938 - val_loss: 0.1037 - val_accuracy: 0.9697\n",
            "Epoch 180/200\n",
            "375/375 [==============================] - 1s 2ms/step - loss: 0.0298 - accuracy: 0.9934 - val_loss: 0.1037 - val_accuracy: 0.9695\n",
            "Epoch 181/200\n",
            "375/375 [==============================] - 1s 2ms/step - loss: 0.0295 - accuracy: 0.9939 - val_loss: 0.1040 - val_accuracy: 0.9697\n",
            "Epoch 182/200\n",
            "375/375 [==============================] - 1s 2ms/step - loss: 0.0292 - accuracy: 0.9938 - val_loss: 0.1040 - val_accuracy: 0.9697\n",
            "Epoch 183/200\n",
            "375/375 [==============================] - 1s 2ms/step - loss: 0.0289 - accuracy: 0.9938 - val_loss: 0.1040 - val_accuracy: 0.9697\n",
            "Epoch 184/200\n",
            "375/375 [==============================] - 1s 2ms/step - loss: 0.0287 - accuracy: 0.9941 - val_loss: 0.1052 - val_accuracy: 0.9688\n",
            "Epoch 185/200\n",
            "375/375 [==============================] - 1s 2ms/step - loss: 0.0285 - accuracy: 0.9941 - val_loss: 0.1042 - val_accuracy: 0.9699\n",
            "Epoch 186/200\n",
            "375/375 [==============================] - 1s 2ms/step - loss: 0.0283 - accuracy: 0.9939 - val_loss: 0.1052 - val_accuracy: 0.9690\n",
            "Epoch 187/200\n",
            "375/375 [==============================] - 1s 2ms/step - loss: 0.0280 - accuracy: 0.9945 - val_loss: 0.1039 - val_accuracy: 0.9696\n",
            "Epoch 188/200\n",
            "375/375 [==============================] - 1s 2ms/step - loss: 0.0277 - accuracy: 0.9946 - val_loss: 0.1043 - val_accuracy: 0.9701\n",
            "Epoch 189/200\n",
            "375/375 [==============================] - 1s 2ms/step - loss: 0.0274 - accuracy: 0.9946 - val_loss: 0.1052 - val_accuracy: 0.9694\n",
            "Epoch 190/200\n",
            "375/375 [==============================] - 1s 2ms/step - loss: 0.0272 - accuracy: 0.9944 - val_loss: 0.1046 - val_accuracy: 0.9694\n",
            "Epoch 191/200\n",
            "375/375 [==============================] - 1s 2ms/step - loss: 0.0270 - accuracy: 0.9943 - val_loss: 0.1044 - val_accuracy: 0.9697\n",
            "Epoch 192/200\n",
            "375/375 [==============================] - 1s 2ms/step - loss: 0.0267 - accuracy: 0.9948 - val_loss: 0.1049 - val_accuracy: 0.9693\n",
            "Epoch 193/200\n",
            "375/375 [==============================] - 1s 2ms/step - loss: 0.0265 - accuracy: 0.9947 - val_loss: 0.1057 - val_accuracy: 0.9695\n",
            "Epoch 194/200\n",
            "375/375 [==============================] - 1s 2ms/step - loss: 0.0262 - accuracy: 0.9952 - val_loss: 0.1053 - val_accuracy: 0.9695\n",
            "Epoch 195/200\n",
            "375/375 [==============================] - 1s 2ms/step - loss: 0.0260 - accuracy: 0.9950 - val_loss: 0.1048 - val_accuracy: 0.9696\n",
            "Epoch 196/200\n",
            "375/375 [==============================] - 1s 2ms/step - loss: 0.0259 - accuracy: 0.9950 - val_loss: 0.1053 - val_accuracy: 0.9698\n",
            "Epoch 197/200\n",
            "375/375 [==============================] - 1s 2ms/step - loss: 0.0256 - accuracy: 0.9953 - val_loss: 0.1047 - val_accuracy: 0.9700\n",
            "Epoch 198/200\n",
            "375/375 [==============================] - 1s 2ms/step - loss: 0.0253 - accuracy: 0.9952 - val_loss: 0.1047 - val_accuracy: 0.9690\n",
            "Epoch 199/200\n",
            "375/375 [==============================] - 1s 2ms/step - loss: 0.0252 - accuracy: 0.9955 - val_loss: 0.1052 - val_accuracy: 0.9698\n",
            "Epoch 200/200\n",
            "375/375 [==============================] - 1s 2ms/step - loss: 0.0249 - accuracy: 0.9952 - val_loss: 0.1044 - val_accuracy: 0.9703\n"
          ],
          "name": "stdout"
        },
        {
          "output_type": "execute_result",
          "data": {
            "text/plain": [
              "<tensorflow.python.keras.callbacks.History at 0x7f42be9f9710>"
            ]
          },
          "metadata": {
            "tags": []
          },
          "execution_count": 64
        }
      ]
    },
    {
      "cell_type": "code",
      "metadata": {
        "id": "pOAXm-TuLTrO",
        "colab_type": "code",
        "colab": {
          "base_uri": "https://localhost:8080/",
          "height": 52
        },
        "outputId": "f5c50bd4-544b-4cd9-ff88-330229121c1a"
      },
      "source": [
        "#evaluate the model\n",
        "test_loss, test_acc = model.evaluate(X_test, Y_test)\n",
        "print('Test accuracy:', test_acc)\n",
        "\n",
        "# making prediction\n",
        "predictions = model.predict(X_test)"
      ],
      "execution_count": 65,
      "outputs": [
        {
          "output_type": "stream",
          "text": [
            "313/313 [==============================] - 0s 878us/step - loss: 0.0922 - accuracy: 0.9734\n",
            "Test accuracy: 0.9733999967575073\n"
          ],
          "name": "stdout"
        }
      ]
    }
  ]
}