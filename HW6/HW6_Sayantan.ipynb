{
  "nbformat": 4,
  "nbformat_minor": 0,
  "metadata": {
    "kernelspec": {
      "display_name": "Python 3",
      "language": "python",
      "name": "python3"
    },
    "language_info": {
      "codemirror_mode": {
        "name": "ipython",
        "version": 3
      },
      "file_extension": ".py",
      "mimetype": "text/x-python",
      "name": "python",
      "nbconvert_exporter": "python",
      "pygments_lexer": "ipython3",
      "version": "3.6.1"
    },
    "colab": {
      "name": "HW6_Sayantan.ipynb",
      "provenance": [],
      "collapsed_sections": [],
      "include_colab_link": true
    }
  },
  "cells": [
    {
      "cell_type": "markdown",
      "metadata": {
        "id": "view-in-github",
        "colab_type": "text"
      },
      "source": [
        "<a href=\"https://colab.research.google.com/github/montimaj/Deep-Learning-SE-6213/blob/master/HW6/HW6_Sayantan.ipynb\" target=\"_parent\"><img src=\"https://colab.research.google.com/assets/colab-badge.svg\" alt=\"Open In Colab\"/></a>"
      ]
    },
    {
      "cell_type": "markdown",
      "metadata": {
        "id": "XTKmvtz4SMZO"
      },
      "source": [
        "# SYS ENG 6213 - Deep Learning and Advanced Neural Networks "
      ]
    },
    {
      "cell_type": "code",
      "metadata": {
        "id": "cBEKev1Cgt3H",
        "outputId": "1a4a34d7-1e16-4047-9313-f894c54ca12e",
        "colab": {
          "base_uri": "https://localhost:8080/",
          "height": 35
        }
      },
      "source": [
        "from google.colab import drive\n",
        "drive.mount('/content/drive')"
      ],
      "execution_count": 1,
      "outputs": [
        {
          "output_type": "stream",
          "text": [
            "Mounted at /content/drive\n"
          ],
          "name": "stdout"
        }
      ]
    },
    {
      "cell_type": "code",
      "metadata": {
        "id": "JHWdanILg7vW",
        "outputId": "1ca73bd7-04a1-4942-d1a4-4b5295d00c93",
        "colab": {
          "base_uri": "https://localhost:8080/",
          "height": 70
        }
      },
      "source": [
        "%cd 'drive/My Drive/SysEng 6213 Fall 2020 Sayantan Majumdar /HW6'\n",
        "!ls"
      ],
      "execution_count": 2,
      "outputs": [
        {
          "output_type": "stream",
          "text": [
            "/content/drive/.shortcut-targets-by-id/1xpWpUfn0NqGtbgAP_303jr6QW5RKzJPR/SysEng 6213 Fall 2020 Sayantan Majumdar /HW6\n",
            "adagrad.png  HW#6.ipynb  MNIST_data  __pycache__  sgd_m.png  utils.py\n",
            "adam.png     layers.py\t n_model.py  rms.png\t  sgd.png\n"
          ],
          "name": "stdout"
        }
      ]
    },
    {
      "cell_type": "markdown",
      "metadata": {
        "id": "G0X6xNBTSMZP"
      },
      "source": [
        "### Homework#6: Optimization Methods"
      ]
    },
    {
      "cell_type": "markdown",
      "metadata": {
        "id": "gPjeAE6zSMZQ"
      },
      "source": [
        "So far you used stochastic gradient descent (SGD) to train the two layered neural network. The algorithms is given below: \n"
      ]
    },
    {
      "cell_type": "markdown",
      "metadata": {
        "id": "gGnJiXCBSMZQ"
      },
      "source": [
        "<img src=\"sgd.png\" alt=\"Drawing\" style=\"width: 600px;\"/>"
      ]
    },
    {
      "cell_type": "markdown",
      "metadata": {
        "id": "6pjfhpRqSMZR"
      },
      "source": [
        "The update rule is given as $\\theta = \\theta - \\epsilon * g$ where $\\theta$ is the layer weights, $\\epsilon$ is learning rate and $g$ is gradient for $\\theta$. However, there are few problems with SGD like: \n",
        "1. local minima or saddle points\n",
        "2. Jitter and slow progress towards global minima (very common for high dimensional architectures)\n",
        "3. Noisy (since we use mini batches during training, the graients may not always provie the correct information)\n",
        "\n",
        "In this homework you will explore other optimization methods that can overcome the limitations of SGD.\n",
        "\n",
        "Note: We did not implement correct regularization values as it is not the main focus for the assignmet.\n"
      ]
    },
    {
      "cell_type": "markdown",
      "metadata": {
        "id": "pgLTJoXESMZR"
      },
      "source": [
        "### Demo for SGD"
      ]
    },
    {
      "cell_type": "code",
      "metadata": {
        "id": "K6LTgkC6SMZS"
      },
      "source": [
        "# Import the functions\n",
        "from layers import *\n",
        "from utils import *\n",
        "# Set up the packages\n",
        "import numpy as np\n",
        "import matplotlib.pyplot as plt\n",
        "import matplotlib as mpl\n",
        "import pickle"
      ],
      "execution_count": 3,
      "outputs": []
    },
    {
      "cell_type": "code",
      "metadata": {
        "id": "xyfAbVa3SMZU",
        "outputId": "8cd557b6-d244-4e03-8a20-bcaa192c27cb",
        "colab": {
          "base_uri": "https://localhost:8080/",
          "height": 100
        }
      },
      "source": [
        "# Load the training data\n",
        "inputs, labels = load_images_with_labels()\n",
        "\n",
        "# View first 8 examples\n",
        "fig, ax = plt.subplots(1,8)\n",
        "labl = []\n",
        "for i in range(8):\n",
        "    ax[i].imshow(inputs[i], cmap=mpl.cm.Greys)\n",
        "    ax[i].set_title(labels[i])\n",
        "plt.show()"
      ],
      "execution_count": 4,
      "outputs": [
        {
          "output_type": "display_data",
          "data": {
            "image/png": "[encoded data removed]",
            "text/plain": [
              "<Figure size 432x288 with 8 Axes>"
            ]
          },
          "metadata": {
            "tags": [],
            "needs_background": "light"
          }
        }
      ]
    },
    {
      "cell_type": "code",
      "metadata": {
        "id": "YzShaNnsSMZX"
      },
      "source": [
        "# Pre-processing the data\n",
        "train=inputs.reshape(60000,784) # reshape the inputs shape from (60000,28,28) to (60000,784)\n",
        "train = np.float32(train) # change the datatype to float\n",
        "train /= np.max(train,axis=1).reshape(-1,1) # Normalize the data between 0 and 1\n",
        "\n",
        "# Now we separate the inputs into training and validation\n",
        "train_ = train[0:50000,:] # We use first 50000 images for training\n",
        "tr_labels = labels[0:50000]\n",
        "val = train[50000:60000,:] # We use the last 10000 images for validation\n",
        "val_labels = labels[50000:60000]\n",
        "data = {'train':train_,'tr_targets':tr_labels,'val':val,'tr_val':val_labels}\n",
        "\n"
      ],
      "execution_count": 5,
      "outputs": []
    },
    {
      "cell_type": "code",
      "metadata": {
        "id": "wvfKAQelSMZZ",
        "outputId": "7e1a951a-62dc-4930-ef2a-ff88e2489c79",
        "colab": {
          "base_uri": "https://localhost:8080/",
          "height": 1000
        }
      },
      "source": [
        "# Initialize two_layered_NN instance\n",
        "from n_model import n_layered_NN\n",
        "model = n_layered_NN(data,regularization_type = 'dropout',n=2,hidden_layer_sizes=[100,100])\n",
        "# Train the two layered neural network\n",
        "_,loss_history,train_acc_history,val_acc_history=model.train()"
      ],
      "execution_count": 6,
      "outputs": [
        {
          "output_type": "stream",
          "text": [
            "***************************************************************\n",
            "|                  Model Specifications:                      |\n",
            "***************************************************************\n",
            "input dimensions         :(50000, 784)\n",
            "output dimensions        :10\n",
            "number of hidden layers  :2\n",
            "hidden layer dimensions  :[100, 100]\n",
            "learning rate            :0.01\n",
            "batch size               :50\n",
            "number of epochs         :70\n",
            "---------------------------------------------------------------\n",
            "regularization type      :dropout\n",
            "dropout keep probability :0.8\n",
            "---------------------------------------------------------------\n",
            "optimization type        :SGD\n",
            "---------------------------------------------------------------\n",
            "Epoch 0/70\n",
            "Train accuracy: 0.817 Validation accuracy: 0.8311\n",
            "Epoch 1/70\n",
            "Train accuracy: 0.85796 Validation accuracy: 0.8676\n",
            "Epoch 2/70\n",
            "Train accuracy: 0.87624 Validation accuracy: 0.8866\n",
            "Epoch 3/70\n",
            "Train accuracy: 0.88776 Validation accuracy: 0.8949\n",
            "Epoch 4/70\n",
            "Train accuracy: 0.89696 Validation accuracy: 0.9044\n",
            "Epoch 5/70\n",
            "Train accuracy: 0.9028 Validation accuracy: 0.9088\n",
            "Epoch 6/70\n",
            "Train accuracy: 0.90784 Validation accuracy: 0.9147\n",
            "Epoch 7/70\n",
            "Train accuracy: 0.91294 Validation accuracy: 0.9198\n",
            "Epoch 8/70\n",
            "Train accuracy: 0.91738 Validation accuracy: 0.9228\n",
            "Epoch 9/70\n",
            "Train accuracy: 0.91994 Validation accuracy: 0.9241\n",
            "Epoch 10/70\n",
            "Train accuracy: 0.92322 Validation accuracy: 0.928\n",
            "Epoch 11/70\n",
            "Train accuracy: 0.92534 Validation accuracy: 0.9304\n",
            "Epoch 12/70\n",
            "Train accuracy: 0.92796 Validation accuracy: 0.9309\n",
            "Epoch 13/70\n",
            "Train accuracy: 0.92994 Validation accuracy: 0.9339\n",
            "Epoch 14/70\n",
            "Train accuracy: 0.93088 Validation accuracy: 0.9346\n",
            "Epoch 15/70\n",
            "Train accuracy: 0.93378 Validation accuracy: 0.9372\n",
            "Epoch 16/70\n",
            "Train accuracy: 0.93482 Validation accuracy: 0.9385\n",
            "Epoch 17/70\n",
            "Train accuracy: 0.93646 Validation accuracy: 0.9402\n",
            "Epoch 18/70\n",
            "Train accuracy: 0.9379 Validation accuracy: 0.9417\n",
            "Epoch 19/70\n",
            "Train accuracy: 0.93888 Validation accuracy: 0.942\n",
            "Epoch 20/70\n",
            "Train accuracy: 0.93962 Validation accuracy: 0.9426\n",
            "Epoch 21/70\n",
            "Train accuracy: 0.94192 Validation accuracy: 0.9437\n",
            "Epoch 22/70\n",
            "Train accuracy: 0.94284 Validation accuracy: 0.945\n",
            "Epoch 23/70\n",
            "Train accuracy: 0.944 Validation accuracy: 0.9454\n",
            "Epoch 24/70\n",
            "Train accuracy: 0.94504 Validation accuracy: 0.9458\n",
            "Epoch 25/70\n",
            "Train accuracy: 0.94512 Validation accuracy: 0.9457\n",
            "Epoch 26/70\n",
            "Train accuracy: 0.94648 Validation accuracy: 0.9481\n",
            "Epoch 27/70\n",
            "Train accuracy: 0.94714 Validation accuracy: 0.9477\n",
            "Epoch 28/70\n",
            "Train accuracy: 0.94802 Validation accuracy: 0.9488\n",
            "Epoch 29/70\n",
            "Train accuracy: 0.94934 Validation accuracy: 0.9492\n",
            "Epoch 30/70\n",
            "Train accuracy: 0.94934 Validation accuracy: 0.9507\n",
            "Epoch 31/70\n",
            "Train accuracy: 0.94978 Validation accuracy: 0.9509\n",
            "Epoch 32/70\n",
            "Train accuracy: 0.9502 Validation accuracy: 0.9509\n",
            "Epoch 33/70\n",
            "Train accuracy: 0.95112 Validation accuracy: 0.9518\n",
            "Epoch 34/70\n",
            "Train accuracy: 0.95158 Validation accuracy: 0.952\n",
            "Epoch 35/70\n",
            "Train accuracy: 0.9525 Validation accuracy: 0.9526\n",
            "Epoch 36/70\n",
            "Train accuracy: 0.95292 Validation accuracy: 0.9534\n",
            "Epoch 37/70\n",
            "Train accuracy: 0.9534 Validation accuracy: 0.9536\n",
            "Epoch 38/70\n",
            "Train accuracy: 0.95384 Validation accuracy: 0.9541\n",
            "Epoch 39/70\n",
            "Train accuracy: 0.95472 Validation accuracy: 0.9556\n",
            "Epoch 40/70\n",
            "Train accuracy: 0.95498 Validation accuracy: 0.955\n",
            "Epoch 41/70\n",
            "Train accuracy: 0.95566 Validation accuracy: 0.9555\n",
            "Epoch 42/70\n",
            "Train accuracy: 0.95648 Validation accuracy: 0.9561\n",
            "Epoch 43/70\n",
            "Train accuracy: 0.95618 Validation accuracy: 0.9551\n",
            "Epoch 44/70\n",
            "Train accuracy: 0.95774 Validation accuracy: 0.9564\n",
            "Epoch 45/70\n",
            "Train accuracy: 0.95766 Validation accuracy: 0.9571\n",
            "Epoch 46/70\n",
            "Train accuracy: 0.95812 Validation accuracy: 0.9565\n",
            "Epoch 47/70\n",
            "Train accuracy: 0.95828 Validation accuracy: 0.9579\n",
            "Epoch 48/70\n",
            "Train accuracy: 0.9588 Validation accuracy: 0.9578\n",
            "Epoch 49/70\n",
            "Train accuracy: 0.95928 Validation accuracy: 0.9581\n",
            "Epoch 50/70\n",
            "Train accuracy: 0.96 Validation accuracy: 0.9592\n",
            "Epoch 51/70\n",
            "Train accuracy: 0.96014 Validation accuracy: 0.9582\n",
            "Epoch 52/70\n",
            "Train accuracy: 0.96042 Validation accuracy: 0.9594\n",
            "Epoch 53/70\n",
            "Train accuracy: 0.96138 Validation accuracy: 0.9595\n",
            "Epoch 54/70\n",
            "Train accuracy: 0.96138 Validation accuracy: 0.961\n",
            "Epoch 55/70\n",
            "Train accuracy: 0.96144 Validation accuracy: 0.9601\n",
            "Epoch 56/70\n",
            "Train accuracy: 0.96182 Validation accuracy: 0.9597\n",
            "Epoch 57/70\n",
            "Train accuracy: 0.96268 Validation accuracy: 0.9613\n",
            "Epoch 58/70\n",
            "Train accuracy: 0.9624 Validation accuracy: 0.9608\n",
            "Epoch 59/70\n",
            "Train accuracy: 0.9633 Validation accuracy: 0.9612\n",
            "Epoch 60/70\n",
            "Train accuracy: 0.96292 Validation accuracy: 0.9613\n",
            "Epoch 61/70\n",
            "Train accuracy: 0.96322 Validation accuracy: 0.9609\n",
            "Epoch 62/70\n",
            "Train accuracy: 0.96402 Validation accuracy: 0.9614\n",
            "Epoch 63/70\n",
            "Train accuracy: 0.96432 Validation accuracy: 0.9617\n",
            "Epoch 64/70\n",
            "Train accuracy: 0.9646 Validation accuracy: 0.9607\n",
            "Epoch 65/70\n",
            "Train accuracy: 0.96518 Validation accuracy: 0.9628\n",
            "Epoch 66/70\n",
            "Train accuracy: 0.96532 Validation accuracy: 0.962\n",
            "Epoch 67/70\n",
            "Train accuracy: 0.96564 Validation accuracy: 0.9626\n",
            "Epoch 68/70\n",
            "Train accuracy: 0.96594 Validation accuracy: 0.9632\n",
            "Epoch 69/70\n",
            "Train accuracy: 0.96574 Validation accuracy: 0.9622\n"
          ],
          "name": "stdout"
        }
      ]
    },
    {
      "cell_type": "code",
      "metadata": {
        "id": "yWd9UVTgSMZb",
        "outputId": "74587df8-1d68-4f0f-cffb-bbc8f1f5daaf",
        "colab": {
          "base_uri": "https://localhost:8080/",
          "height": 52
        }
      },
      "source": [
        "# print best accuracies\n",
        "print('Best accuracy on training data: '+str(np.max(train_acc_history)))\n",
        "print('Best accuracy on test data :'+str(np.max(val_acc_history)))\n",
        "\n",
        "sgd = {'cost':loss_history,'tr_Acc':train_acc_history,'val_acc':val_acc_history}\n",
        "pickle_out = open(\"sgd.pickle\",\"wb\")\n",
        "pickle.dump(sgd, pickle_out)\n",
        "pickle_out.close()"
      ],
      "execution_count": 7,
      "outputs": [
        {
          "output_type": "stream",
          "text": [
            "Best accuracy on training data: 0.96594\n",
            "Best accuracy on test data :0.9632\n"
          ],
          "name": "stdout"
        }
      ]
    },
    {
      "cell_type": "code",
      "metadata": {
        "id": "h04PAAjrSMZd",
        "outputId": "d24cf6e6-1db0-4aa0-c070-863d65d75f70",
        "colab": {
          "base_uri": "https://localhost:8080/",
          "height": 295
        }
      },
      "source": [
        "# Plot the accuracy curves\n",
        "plt.plot(np.subtract(1,train_acc_history),'g--',label='Training')\n",
        "plt.plot(np.subtract(1,val_acc_history),'r--',label='Validation')\n",
        "plt.legend()\n",
        "plt.xlabel('epoch')\n",
        "plt.ylabel('% error')\n",
        "plt.title('Error Curves using SGD')\n",
        "plt.show()"
      ],
      "execution_count": 8,
      "outputs": [
        {
          "output_type": "display_data",
          "data": {
            "image/png": "[encoded data removed]",
            "text/plain": [
              "<Figure size 432x288 with 1 Axes>"
            ]
          },
          "metadata": {
            "tags": [],
            "needs_background": "light"
          }
        }
      ]
    },
    {
      "cell_type": "markdown",
      "metadata": {
        "id": "y9tBt1BRSMZg"
      },
      "source": [
        " ####  ------------------------------------------------------------------------- END OF DEMO -------------------------------------------------------------------------------"
      ]
    },
    {
      "cell_type": "markdown",
      "metadata": {
        "id": "qCKPfP0NSMZg"
      },
      "source": [
        " ### 1. SGD with Momentum "
      ]
    },
    {
      "cell_type": "markdown",
      "metadata": {
        "id": "vfSyXN_bSMZg"
      },
      "source": [
        "This approach uses a term called velocity which accumulates the gradient elements. This makes the algorithm converge faster and solves the problems in SGD. The $\\alpha$ takes of role of friction and usually has a high value like 0.9. It helps to decay the velocity in each iteration. \n",
        "\n",
        "Advantages:\n",
        "- Prevents getting stuck in local minima because of the momentum.\n",
        "- Jitter is minimized as momentum reduces the step size in unnecessary direction and accelarates towards the global minima.\n",
        "\n",
        "Disadvantages:\n",
        "- The disadvantage with this approach is that, it may overshoot the global minima because of the momentum built up during training.\n",
        "\n",
        "Implement the SGD with momentum in layers.py file and run the below code."
      ]
    },
    {
      "cell_type": "markdown",
      "metadata": {
        "id": "VvdWEIKlSMZh"
      },
      "source": [
        "<img src=\"sgd_m.png\" alt=\"Drawing\" style=\"width: 600px;\"/>"
      ]
    },
    {
      "cell_type": "code",
      "metadata": {
        "id": "7m47w99bSMZh",
        "outputId": "d142a802-cd33-4da2-9859-24e8777363a8",
        "colab": {
          "base_uri": "https://localhost:8080/",
          "height": 1000
        }
      },
      "source": [
        "# Initialize two_layered_NN instance\n",
        "from n_model import n_layered_NN\n",
        "model = n_layered_NN(data,regularization_type = 'dropout',update_rule = 'SGD_with_momentum',n=2,hidden_layer_sizes=[100,100])\n",
        "# Train the two layered neural network\n",
        "_,loss_history,train_acc_history,val_acc_history=model.train()"
      ],
      "execution_count": 9,
      "outputs": [
        {
          "output_type": "stream",
          "text": [
            "***************************************************************\n",
            "|                  Model Specifications:                      |\n",
            "***************************************************************\n",
            "input dimensions         :(50000, 784)\n",
            "output dimensions        :10\n",
            "number of hidden layers  :2\n",
            "hidden layer dimensions  :[100, 100]\n",
            "learning rate            :0.01\n",
            "batch size               :50\n",
            "number of epochs         :70\n",
            "---------------------------------------------------------------\n",
            "regularization type      :dropout\n",
            "dropout keep probability :0.8\n",
            "---------------------------------------------------------------\n",
            "optimization type        :SGD_with_momentum\n",
            "---------------------------------------------------------------\n",
            "Epoch 0/70\n",
            "Train accuracy: 0.90314 Validation accuracy: 0.9098\n",
            "Epoch 1/70\n",
            "Train accuracy: 0.92814 Validation accuracy: 0.931\n",
            "Epoch 2/70\n",
            "Train accuracy: 0.94012 Validation accuracy: 0.9399\n",
            "Epoch 3/70\n",
            "Train accuracy: 0.94808 Validation accuracy: 0.9461\n",
            "Epoch 4/70\n",
            "Train accuracy: 0.9529 Validation accuracy: 0.9494\n",
            "Epoch 5/70\n",
            "Train accuracy: 0.95726 Validation accuracy: 0.9514\n",
            "Epoch 6/70\n",
            "Train accuracy: 0.96258 Validation accuracy: 0.956\n",
            "Epoch 7/70\n",
            "Train accuracy: 0.96294 Validation accuracy: 0.9562\n",
            "Epoch 8/70\n",
            "Train accuracy: 0.96728 Validation accuracy: 0.96\n",
            "Epoch 9/70\n",
            "Train accuracy: 0.9695 Validation accuracy: 0.9595\n",
            "Epoch 10/70\n",
            "Train accuracy: 0.9711 Validation accuracy: 0.9609\n",
            "Epoch 11/70\n",
            "Train accuracy: 0.97286 Validation accuracy: 0.9634\n",
            "Epoch 12/70\n",
            "Train accuracy: 0.97528 Validation accuracy: 0.9632\n",
            "Epoch 13/70\n",
            "Train accuracy: 0.97584 Validation accuracy: 0.9654\n",
            "Epoch 14/70\n",
            "Train accuracy: 0.97434 Validation accuracy: 0.9638\n",
            "Epoch 15/70\n",
            "Train accuracy: 0.97752 Validation accuracy: 0.9649\n",
            "Epoch 16/70\n",
            "Train accuracy: 0.97916 Validation accuracy: 0.9665\n",
            "Epoch 17/70\n",
            "Train accuracy: 0.9795 Validation accuracy: 0.9679\n",
            "Epoch 18/70\n",
            "Train accuracy: 0.9802 Validation accuracy: 0.9667\n",
            "Epoch 19/70\n",
            "Train accuracy: 0.98152 Validation accuracy: 0.968\n",
            "Epoch 20/70\n",
            "Train accuracy: 0.98214 Validation accuracy: 0.9706\n",
            "Epoch 21/70\n",
            "Train accuracy: 0.98342 Validation accuracy: 0.9696\n",
            "Epoch 22/70\n",
            "Train accuracy: 0.98378 Validation accuracy: 0.9702\n",
            "Epoch 23/70\n",
            "Train accuracy: 0.98466 Validation accuracy: 0.9705\n",
            "Epoch 24/70\n",
            "Train accuracy: 0.98562 Validation accuracy: 0.9718\n",
            "Epoch 25/70\n",
            "Train accuracy: 0.98572 Validation accuracy: 0.9713\n",
            "Epoch 26/70\n",
            "Train accuracy: 0.98622 Validation accuracy: 0.972\n",
            "Epoch 27/70\n",
            "Train accuracy: 0.9876 Validation accuracy: 0.9719\n",
            "Epoch 28/70\n",
            "Train accuracy: 0.98768 Validation accuracy: 0.9719\n",
            "Epoch 29/70\n",
            "Train accuracy: 0.98802 Validation accuracy: 0.9719\n",
            "Epoch 30/70\n",
            "Train accuracy: 0.98788 Validation accuracy: 0.9729\n",
            "Epoch 31/70\n",
            "Train accuracy: 0.98858 Validation accuracy: 0.9729\n",
            "Epoch 32/70\n",
            "Train accuracy: 0.98956 Validation accuracy: 0.9731\n",
            "Epoch 33/70\n",
            "Train accuracy: 0.98942 Validation accuracy: 0.9728\n",
            "Epoch 34/70\n",
            "Train accuracy: 0.99018 Validation accuracy: 0.9733\n",
            "Epoch 35/70\n",
            "Train accuracy: 0.98996 Validation accuracy: 0.9727\n",
            "Epoch 36/70\n",
            "Train accuracy: 0.99054 Validation accuracy: 0.9726\n",
            "Epoch 37/70\n",
            "Train accuracy: 0.99078 Validation accuracy: 0.9735\n",
            "Epoch 38/70\n",
            "Train accuracy: 0.9909 Validation accuracy: 0.9727\n",
            "Epoch 39/70\n",
            "Train accuracy: 0.99116 Validation accuracy: 0.9736\n",
            "Epoch 40/70\n",
            "Train accuracy: 0.99164 Validation accuracy: 0.9739\n",
            "Epoch 41/70\n",
            "Train accuracy: 0.99176 Validation accuracy: 0.9732\n",
            "Epoch 42/70\n",
            "Train accuracy: 0.99212 Validation accuracy: 0.9745\n",
            "Epoch 43/70\n",
            "Train accuracy: 0.99254 Validation accuracy: 0.9755\n",
            "Epoch 44/70\n",
            "Train accuracy: 0.99236 Validation accuracy: 0.9751\n",
            "Epoch 45/70\n",
            "Train accuracy: 0.993 Validation accuracy: 0.9761\n",
            "Epoch 46/70\n",
            "Train accuracy: 0.99294 Validation accuracy: 0.9743\n",
            "Epoch 47/70\n",
            "Train accuracy: 0.99322 Validation accuracy: 0.9744\n",
            "Epoch 48/70\n",
            "Train accuracy: 0.99366 Validation accuracy: 0.9751\n",
            "Epoch 49/70\n",
            "Train accuracy: 0.99314 Validation accuracy: 0.9755\n",
            "Epoch 50/70\n",
            "Train accuracy: 0.99386 Validation accuracy: 0.9746\n",
            "Epoch 51/70\n",
            "Train accuracy: 0.994 Validation accuracy: 0.9752\n",
            "Epoch 52/70\n",
            "Train accuracy: 0.99444 Validation accuracy: 0.975\n",
            "Epoch 53/70\n",
            "Train accuracy: 0.99478 Validation accuracy: 0.9749\n",
            "Epoch 54/70\n",
            "Train accuracy: 0.99446 Validation accuracy: 0.975\n",
            "Epoch 55/70\n",
            "Train accuracy: 0.99472 Validation accuracy: 0.9756\n",
            "Epoch 56/70\n",
            "Train accuracy: 0.99548 Validation accuracy: 0.9761\n",
            "Epoch 57/70\n",
            "Train accuracy: 0.99522 Validation accuracy: 0.9755\n",
            "Epoch 58/70\n",
            "Train accuracy: 0.99482 Validation accuracy: 0.9756\n",
            "Epoch 59/70\n",
            "Train accuracy: 0.99506 Validation accuracy: 0.9754\n",
            "Epoch 60/70\n",
            "Train accuracy: 0.99562 Validation accuracy: 0.9769\n",
            "Epoch 61/70\n",
            "Train accuracy: 0.99518 Validation accuracy: 0.9762\n",
            "Epoch 62/70\n",
            "Train accuracy: 0.99608 Validation accuracy: 0.9767\n",
            "Epoch 63/70\n",
            "Train accuracy: 0.99598 Validation accuracy: 0.9757\n",
            "Epoch 64/70\n",
            "Train accuracy: 0.99606 Validation accuracy: 0.9775\n",
            "Epoch 65/70\n",
            "Train accuracy: 0.99596 Validation accuracy: 0.9758\n",
            "Epoch 66/70\n",
            "Train accuracy: 0.99592 Validation accuracy: 0.9774\n",
            "Epoch 67/70\n",
            "Train accuracy: 0.99608 Validation accuracy: 0.9773\n",
            "Epoch 68/70\n",
            "Train accuracy: 0.99666 Validation accuracy: 0.9758\n",
            "Epoch 69/70\n",
            "Train accuracy: 0.9966 Validation accuracy: 0.9768\n"
          ],
          "name": "stdout"
        }
      ]
    },
    {
      "cell_type": "code",
      "metadata": {
        "id": "9Ae907DnSMZm",
        "outputId": "9a755d1b-a923-488f-82e4-630745364e81",
        "colab": {
          "base_uri": "https://localhost:8080/",
          "height": 52
        }
      },
      "source": [
        "# print best accuracies\n",
        "print('Best accuracy on training data: '+str(np.max(train_acc_history)))\n",
        "print('Best accuracy on test data :'+str(np.max(val_acc_history)))\n",
        "sgd_m = {'cost':loss_history,'tr_Acc':train_acc_history,'val_acc':val_acc_history}\n",
        "pickle_out = open(\"sgd_m.pickle\",\"wb\")\n",
        "pickle.dump(sgd_m, pickle_out)\n",
        "pickle_out.close()"
      ],
      "execution_count": 10,
      "outputs": [
        {
          "output_type": "stream",
          "text": [
            "Best accuracy on training data: 0.99666\n",
            "Best accuracy on test data :0.9775\n"
          ],
          "name": "stdout"
        }
      ]
    },
    {
      "cell_type": "code",
      "metadata": {
        "id": "zK3t--JuSMZo",
        "outputId": "befeb417-3823-44d0-9f8e-c13f9d8fb6f8",
        "colab": {
          "base_uri": "https://localhost:8080/",
          "height": 295
        }
      },
      "source": [
        "# Plot the accuracy curves\n",
        "plt.plot(np.subtract(1,train_acc_history),'g--',label='Training')\n",
        "plt.plot(np.subtract(1,val_acc_history),'r--',label='Validation')\n",
        "plt.legend()\n",
        "plt.xlabel('epoch')\n",
        "plt.ylabel('% error')\n",
        "plt.title('Error Curves for SGD with momentum')\n",
        "plt.show()"
      ],
      "execution_count": 11,
      "outputs": [
        {
          "output_type": "display_data",
          "data": {
            "image/png": "[encoded data removed]",
            "text/plain": [
              "<Figure size 432x288 with 1 Axes>"
            ]
          },
          "metadata": {
            "tags": [],
            "needs_background": "light"
          }
        }
      ]
    },
    {
      "cell_type": "markdown",
      "metadata": {
        "id": "-IxYhX4pSMZq"
      },
      "source": [
        "### 2. Adagrad"
      ]
    },
    {
      "cell_type": "markdown",
      "metadata": {
        "id": "MgI70jBkSMZq"
      },
      "source": [
        "In adagrad, instead of accumulating velocity, we accumulate squared gradient.\n",
        "\n",
        "The parameters with the largest partial derivative of the loss have a correspondingly rapid decrease in their learning rate, while parameters with small partial derivatives have a relatively small decrease in their learning rate. The net eﬀect is greater progress in the more gently sloped directions of parameter space.\n",
        "\n",
        "Advantage:\n",
        "\n",
        "- It performs better than SGD, but unlike SGD with momentum, it adjusts its path without overshooting at global minima.\n",
        "\n",
        "Disadvantage:\n",
        "\n",
        "- The accumulation of squared gradients from the beginning oftraining can result in a premature and excessive decrease in the eﬀective learning rate. This issue is addressed in rmsprop."
      ]
    },
    {
      "cell_type": "markdown",
      "metadata": {
        "id": "Kjg3h0D-SMZq"
      },
      "source": [
        "Implement adagrad in layers.py file and run the below code."
      ]
    },
    {
      "cell_type": "markdown",
      "metadata": {
        "id": "gH_wi6o9SMZr"
      },
      "source": [
        "<img src=\"adagrad.png\" alt=\"Drawing\" style=\"width: 600px;\"/>"
      ]
    },
    {
      "cell_type": "markdown",
      "metadata": {
        "id": "u9P8CEpOSMZr"
      },
      "source": [
        "The $\\delta$ in the denominator is to prvent the divide by zero cases and therefore has a very small value like $1e^-8$"
      ]
    },
    {
      "cell_type": "code",
      "metadata": {
        "id": "rdSEByJOSMZr",
        "outputId": "091e3079-7edf-4929-9d24-8329bdefd509",
        "colab": {
          "base_uri": "https://localhost:8080/",
          "height": 1000
        }
      },
      "source": [
        "# Initialize two_layered_NN instance\n",
        "from n_model import n_layered_NN\n",
        "model = n_layered_NN(data,regularization_type = 'dropout',update_rule = 'adagrad',n=2,hidden_layer_sizes=[100,100])\n",
        "# Train the two layered neural network\n",
        "_,loss_history,train_acc_history,val_acc_history=model.train()"
      ],
      "execution_count": 12,
      "outputs": [
        {
          "output_type": "stream",
          "text": [
            "***************************************************************\n",
            "|                  Model Specifications:                      |\n",
            "***************************************************************\n",
            "input dimensions         :(50000, 784)\n",
            "output dimensions        :10\n",
            "number of hidden layers  :2\n",
            "hidden layer dimensions  :[100, 100]\n",
            "learning rate            :0.01\n",
            "batch size               :50\n",
            "number of epochs         :70\n",
            "---------------------------------------------------------------\n",
            "regularization type      :dropout\n",
            "dropout keep probability :0.8\n",
            "---------------------------------------------------------------\n",
            "optimization type        :adagrad\n",
            "---------------------------------------------------------------\n",
            "Epoch 0/70\n",
            "Train accuracy: 0.86582 Validation accuracy: 0.8718\n",
            "Epoch 1/70\n",
            "Train accuracy: 0.88882 Validation accuracy: 0.8958\n",
            "Epoch 2/70\n",
            "Train accuracy: 0.90206 Validation accuracy: 0.9085\n",
            "Epoch 3/70\n",
            "Train accuracy: 0.91038 Validation accuracy: 0.9162\n",
            "Epoch 4/70\n",
            "Train accuracy: 0.91656 Validation accuracy: 0.9217\n",
            "Epoch 5/70\n",
            "Train accuracy: 0.9211 Validation accuracy: 0.9264\n",
            "Epoch 6/70\n",
            "Train accuracy: 0.92494 Validation accuracy: 0.9291\n",
            "Epoch 7/70\n",
            "Train accuracy: 0.92812 Validation accuracy: 0.9311\n",
            "Epoch 8/70\n",
            "Train accuracy: 0.93106 Validation accuracy: 0.9334\n",
            "Epoch 9/70\n",
            "Train accuracy: 0.93368 Validation accuracy: 0.9352\n",
            "Epoch 10/70\n",
            "Train accuracy: 0.93536 Validation accuracy: 0.9358\n",
            "Epoch 11/70\n",
            "Train accuracy: 0.93766 Validation accuracy: 0.9387\n",
            "Epoch 12/70\n",
            "Train accuracy: 0.93832 Validation accuracy: 0.9393\n",
            "Epoch 13/70\n",
            "Train accuracy: 0.9403 Validation accuracy: 0.9416\n",
            "Epoch 14/70\n",
            "Train accuracy: 0.9416 Validation accuracy: 0.9422\n",
            "Epoch 15/70\n",
            "Train accuracy: 0.94328 Validation accuracy: 0.943\n",
            "Epoch 16/70\n",
            "Train accuracy: 0.94484 Validation accuracy: 0.9448\n",
            "Epoch 17/70\n",
            "Train accuracy: 0.94558 Validation accuracy: 0.9454\n",
            "Epoch 18/70\n",
            "Train accuracy: 0.94682 Validation accuracy: 0.9458\n",
            "Epoch 19/70\n",
            "Train accuracy: 0.9477 Validation accuracy: 0.947\n",
            "Epoch 20/70\n",
            "Train accuracy: 0.9484 Validation accuracy: 0.9475\n",
            "Epoch 21/70\n",
            "Train accuracy: 0.9494 Validation accuracy: 0.9479\n",
            "Epoch 22/70\n",
            "Train accuracy: 0.95024 Validation accuracy: 0.949\n",
            "Epoch 23/70\n",
            "Train accuracy: 0.95078 Validation accuracy: 0.9496\n",
            "Epoch 24/70\n",
            "Train accuracy: 0.95224 Validation accuracy: 0.9487\n",
            "Epoch 25/70\n",
            "Train accuracy: 0.95328 Validation accuracy: 0.9502\n",
            "Epoch 26/70\n",
            "Train accuracy: 0.95378 Validation accuracy: 0.9506\n",
            "Epoch 27/70\n",
            "Train accuracy: 0.95402 Validation accuracy: 0.951\n",
            "Epoch 28/70\n",
            "Train accuracy: 0.9544 Validation accuracy: 0.9513\n",
            "Epoch 29/70\n",
            "Train accuracy: 0.95538 Validation accuracy: 0.9523\n",
            "Epoch 30/70\n",
            "Train accuracy: 0.95572 Validation accuracy: 0.9524\n",
            "Epoch 31/70\n",
            "Train accuracy: 0.95628 Validation accuracy: 0.9516\n",
            "Epoch 32/70\n",
            "Train accuracy: 0.95698 Validation accuracy: 0.9526\n",
            "Epoch 33/70\n",
            "Train accuracy: 0.95736 Validation accuracy: 0.9526\n",
            "Epoch 34/70\n",
            "Train accuracy: 0.95804 Validation accuracy: 0.9538\n",
            "Epoch 35/70\n",
            "Train accuracy: 0.95864 Validation accuracy: 0.9539\n",
            "Epoch 36/70\n",
            "Train accuracy: 0.959 Validation accuracy: 0.954\n",
            "Epoch 37/70\n",
            "Train accuracy: 0.9592 Validation accuracy: 0.9541\n",
            "Epoch 38/70\n",
            "Train accuracy: 0.95962 Validation accuracy: 0.9551\n",
            "Epoch 39/70\n",
            "Train accuracy: 0.96074 Validation accuracy: 0.955\n",
            "Epoch 40/70\n",
            "Train accuracy: 0.96132 Validation accuracy: 0.9551\n",
            "Epoch 41/70\n",
            "Train accuracy: 0.961 Validation accuracy: 0.9559\n",
            "Epoch 42/70\n",
            "Train accuracy: 0.96152 Validation accuracy: 0.956\n",
            "Epoch 43/70\n",
            "Train accuracy: 0.96202 Validation accuracy: 0.9561\n",
            "Epoch 44/70\n",
            "Train accuracy: 0.96238 Validation accuracy: 0.9567\n",
            "Epoch 45/70\n",
            "Train accuracy: 0.96266 Validation accuracy: 0.957\n",
            "Epoch 46/70\n",
            "Train accuracy: 0.96314 Validation accuracy: 0.957\n",
            "Epoch 47/70\n",
            "Train accuracy: 0.96336 Validation accuracy: 0.9569\n",
            "Epoch 48/70\n",
            "Train accuracy: 0.9641 Validation accuracy: 0.9574\n",
            "Epoch 49/70\n",
            "Train accuracy: 0.96458 Validation accuracy: 0.9571\n",
            "Epoch 50/70\n",
            "Train accuracy: 0.96514 Validation accuracy: 0.9571\n",
            "Epoch 51/70\n",
            "Train accuracy: 0.96546 Validation accuracy: 0.9575\n",
            "Epoch 52/70\n",
            "Train accuracy: 0.9656 Validation accuracy: 0.9582\n",
            "Epoch 53/70\n",
            "Train accuracy: 0.96608 Validation accuracy: 0.9582\n",
            "Epoch 54/70\n",
            "Train accuracy: 0.9664 Validation accuracy: 0.9579\n",
            "Epoch 55/70\n",
            "Train accuracy: 0.96648 Validation accuracy: 0.958\n",
            "Epoch 56/70\n",
            "Train accuracy: 0.96658 Validation accuracy: 0.9582\n",
            "Epoch 57/70\n",
            "Train accuracy: 0.9668 Validation accuracy: 0.9589\n",
            "Epoch 58/70\n",
            "Train accuracy: 0.96726 Validation accuracy: 0.9593\n",
            "Epoch 59/70\n",
            "Train accuracy: 0.9675 Validation accuracy: 0.96\n",
            "Epoch 60/70\n",
            "Train accuracy: 0.96788 Validation accuracy: 0.9596\n",
            "Epoch 61/70\n",
            "Train accuracy: 0.96824 Validation accuracy: 0.9597\n",
            "Epoch 62/70\n",
            "Train accuracy: 0.96838 Validation accuracy: 0.9599\n",
            "Epoch 63/70\n",
            "Train accuracy: 0.96872 Validation accuracy: 0.96\n",
            "Epoch 64/70\n",
            "Train accuracy: 0.96884 Validation accuracy: 0.9603\n",
            "Epoch 65/70\n",
            "Train accuracy: 0.96958 Validation accuracy: 0.96\n",
            "Epoch 66/70\n",
            "Train accuracy: 0.9695 Validation accuracy: 0.9601\n",
            "Epoch 67/70\n",
            "Train accuracy: 0.9694 Validation accuracy: 0.9601\n",
            "Epoch 68/70\n",
            "Train accuracy: 0.96988 Validation accuracy: 0.961\n",
            "Epoch 69/70\n",
            "Train accuracy: 0.9699 Validation accuracy: 0.9602\n"
          ],
          "name": "stdout"
        }
      ]
    },
    {
      "cell_type": "code",
      "metadata": {
        "id": "RrAY8TQ8SMZt",
        "outputId": "96f9bb14-1064-4232-c1db-b35b2d8730f6",
        "colab": {
          "base_uri": "https://localhost:8080/",
          "height": 52
        }
      },
      "source": [
        "# print best accuracies\n",
        "print('Best accuracy on training data: '+str(np.max(train_acc_history)))\n",
        "print('Best accuracy on test data :'+str(np.max(val_acc_history)))\n",
        "adagrad = {'cost':loss_history,'tr_Acc':train_acc_history,'val_acc':val_acc_history}\n",
        "pickle_out = open(\"adagrad.pickle\",\"wb\")\n",
        "pickle.dump(adagrad, pickle_out)\n",
        "pickle_out.close()"
      ],
      "execution_count": 13,
      "outputs": [
        {
          "output_type": "stream",
          "text": [
            "Best accuracy on training data: 0.9699\n",
            "Best accuracy on test data :0.961\n"
          ],
          "name": "stdout"
        }
      ]
    },
    {
      "cell_type": "code",
      "metadata": {
        "id": "aJ7mSeXmSMZw",
        "outputId": "66a72569-0cb7-44ce-f750-61cd5b0a54fc",
        "colab": {
          "base_uri": "https://localhost:8080/",
          "height": 295
        }
      },
      "source": [
        "# Plot the accuracy curves\n",
        "plt.plot(np.subtract(1,train_acc_history),'g--',label='Training')\n",
        "plt.plot(np.subtract(1,val_acc_history),'r--',label='Validation')\n",
        "plt.legend()\n",
        "plt.xlabel('epoch')\n",
        "plt.ylabel('% error')\n",
        "plt.title('Error Curves for AdaGrad')\n",
        "plt.show()"
      ],
      "execution_count": 14,
      "outputs": [
        {
          "output_type": "display_data",
          "data": {
            "image/png": "[encoded data removed]",
            "text/plain": [
              "<Figure size 432x288 with 1 Axes>"
            ]
          },
          "metadata": {
            "tags": [],
            "needs_background": "light"
          }
        }
      ]
    },
    {
      "cell_type": "markdown",
      "metadata": {
        "id": "8SOIPB_cSMZy"
      },
      "source": [
        "### 3. RMSProp"
      ]
    },
    {
      "cell_type": "markdown",
      "metadata": {
        "id": "g5XByDMpSMZy"
      },
      "source": [
        "RMSProp shrinks the learning rate according to the entire history of the squared gradient and may have made the learning rate too small before arriving at global minima. RMSProp uses an exponentially decaying average to discard history from the extreme past so that it can converge rapidly after ﬁnding a global minima, as if it were an instance of the AdaGrad algorithm initialized within that minima."
      ]
    },
    {
      "cell_type": "markdown",
      "metadata": {
        "id": "d8qRLFMOSMZy"
      },
      "source": [
        "Implement the rmsprop in layers.py file and run the below code."
      ]
    },
    {
      "cell_type": "markdown",
      "metadata": {
        "id": "wmp63JlZSMZz"
      },
      "source": [
        "<img src=\"rms.png\" alt=\"Drawing\" style=\"width: 600px;\"/>"
      ]
    },
    {
      "cell_type": "markdown",
      "metadata": {
        "id": "hkCvS2cESMZz"
      },
      "source": [
        "The $\\rho$ is similar to friction and usually has a large value such as 0.99. The $\\delta$ in this case is also to prevent the divide by zero error."
      ]
    },
    {
      "cell_type": "code",
      "metadata": {
        "id": "y5eVLKOlSMZz",
        "outputId": "541a37e7-8ca3-4397-a6cf-489e4379e02c",
        "colab": {
          "base_uri": "https://localhost:8080/",
          "height": 1000
        }
      },
      "source": [
        "# Initialize two_layered_NN instance\n",
        "from n_model import n_layered_NN\n",
        "model = n_layered_NN(data,regularization_type = 'dropout',update_rule = 'rmsprop',n=2,hidden_layer_sizes=[100,100])\n",
        "# Train the two layered neural network\n",
        "_,loss_history,train_acc_history,val_acc_history=model.train()"
      ],
      "execution_count": 15,
      "outputs": [
        {
          "output_type": "stream",
          "text": [
            "***************************************************************\n",
            "|                  Model Specifications:                      |\n",
            "***************************************************************\n",
            "input dimensions         :(50000, 784)\n",
            "output dimensions        :10\n",
            "number of hidden layers  :2\n",
            "hidden layer dimensions  :[100, 100]\n",
            "learning rate            :0.01\n",
            "batch size               :50\n",
            "number of epochs         :70\n",
            "---------------------------------------------------------------\n",
            "regularization type      :dropout\n",
            "dropout keep probability :0.8\n",
            "---------------------------------------------------------------\n",
            "optimization type        :rmsprop\n",
            "---------------------------------------------------------------\n",
            "Epoch 0/70\n",
            "Train accuracy: 0.93472 Validation accuracy: 0.9367\n",
            "Epoch 1/70\n",
            "Train accuracy: 0.93848 Validation accuracy: 0.9407\n",
            "Epoch 2/70\n",
            "Train accuracy: 0.95524 Validation accuracy: 0.9548\n",
            "Epoch 3/70\n",
            "Train accuracy: 0.94842 Validation accuracy: 0.9474\n",
            "Epoch 4/70\n",
            "Train accuracy: 0.95182 Validation accuracy: 0.9508\n",
            "Epoch 5/70\n",
            "Train accuracy: 0.96028 Validation accuracy: 0.9554\n",
            "Epoch 6/70\n",
            "Train accuracy: 0.95752 Validation accuracy: 0.9526\n",
            "Epoch 7/70\n",
            "Train accuracy: 0.965 Validation accuracy: 0.9613\n",
            "Epoch 8/70\n",
            "Train accuracy: 0.96208 Validation accuracy: 0.9573\n",
            "Epoch 9/70\n",
            "Train accuracy: 0.96702 Validation accuracy: 0.9613\n",
            "Epoch 10/70\n",
            "Train accuracy: 0.96794 Validation accuracy: 0.9593\n",
            "Epoch 11/70\n",
            "Train accuracy: 0.96776 Validation accuracy: 0.9611\n",
            "Epoch 12/70\n",
            "Train accuracy: 0.96774 Validation accuracy: 0.9617\n",
            "Epoch 13/70\n",
            "Train accuracy: 0.96908 Validation accuracy: 0.9615\n",
            "Epoch 14/70\n",
            "Train accuracy: 0.96956 Validation accuracy: 0.9591\n",
            "Epoch 15/70\n",
            "Train accuracy: 0.96946 Validation accuracy: 0.9618\n",
            "Epoch 16/70\n",
            "Train accuracy: 0.96514 Validation accuracy: 0.9559\n",
            "Epoch 17/70\n",
            "Train accuracy: 0.9696 Validation accuracy: 0.9594\n",
            "Epoch 18/70\n",
            "Train accuracy: 0.9687 Validation accuracy: 0.9619\n",
            "Epoch 19/70\n",
            "Train accuracy: 0.96588 Validation accuracy: 0.9569\n",
            "Epoch 20/70\n",
            "Train accuracy: 0.969 Validation accuracy: 0.9574\n",
            "Epoch 21/70\n",
            "Train accuracy: 0.96884 Validation accuracy: 0.9613\n",
            "Epoch 22/70\n",
            "Train accuracy: 0.96884 Validation accuracy: 0.9575\n",
            "Epoch 23/70\n",
            "Train accuracy: 0.97178 Validation accuracy: 0.9607\n",
            "Epoch 24/70\n",
            "Train accuracy: 0.96958 Validation accuracy: 0.9582\n",
            "Epoch 25/70\n",
            "Train accuracy: 0.97462 Validation accuracy: 0.9637\n",
            "Epoch 26/70\n",
            "Train accuracy: 0.97076 Validation accuracy: 0.9618\n",
            "Epoch 27/70\n",
            "Train accuracy: 0.97488 Validation accuracy: 0.9622\n",
            "Epoch 28/70\n",
            "Train accuracy: 0.97238 Validation accuracy: 0.963\n",
            "Epoch 29/70\n",
            "Train accuracy: 0.97014 Validation accuracy: 0.9588\n",
            "Epoch 30/70\n",
            "Train accuracy: 0.97236 Validation accuracy: 0.9633\n",
            "Epoch 31/70\n",
            "Train accuracy: 0.97452 Validation accuracy: 0.9629\n",
            "Epoch 32/70\n",
            "Train accuracy: 0.97022 Validation accuracy: 0.9613\n",
            "Epoch 33/70\n",
            "Train accuracy: 0.97236 Validation accuracy: 0.9602\n",
            "Epoch 34/70\n",
            "Train accuracy: 0.97494 Validation accuracy: 0.963\n",
            "Epoch 35/70\n",
            "Train accuracy: 0.97418 Validation accuracy: 0.9613\n",
            "Epoch 36/70\n",
            "Train accuracy: 0.97338 Validation accuracy: 0.9614\n",
            "Epoch 37/70\n",
            "Train accuracy: 0.97192 Validation accuracy: 0.9595\n",
            "Epoch 38/70\n",
            "Train accuracy: 0.97758 Validation accuracy: 0.9634\n",
            "Epoch 39/70\n",
            "Train accuracy: 0.9748 Validation accuracy: 0.9611\n",
            "Epoch 40/70\n",
            "Train accuracy: 0.9748 Validation accuracy: 0.961\n",
            "Epoch 41/70\n",
            "Train accuracy: 0.97512 Validation accuracy: 0.9614\n",
            "Epoch 42/70\n",
            "Train accuracy: 0.9766 Validation accuracy: 0.9604\n",
            "Epoch 43/70\n",
            "Train accuracy: 0.97834 Validation accuracy: 0.9635\n",
            "Epoch 44/70\n",
            "Train accuracy: 0.97866 Validation accuracy: 0.9618\n",
            "Epoch 45/70\n",
            "Train accuracy: 0.97588 Validation accuracy: 0.9629\n",
            "Epoch 46/70\n",
            "Train accuracy: 0.97868 Validation accuracy: 0.9641\n",
            "Epoch 47/70\n",
            "Train accuracy: 0.97764 Validation accuracy: 0.9619\n",
            "Epoch 48/70\n",
            "Train accuracy: 0.9772 Validation accuracy: 0.9618\n",
            "Epoch 49/70\n",
            "Train accuracy: 0.97426 Validation accuracy: 0.9585\n",
            "Epoch 50/70\n",
            "Train accuracy: 0.9775 Validation accuracy: 0.9612\n",
            "Epoch 51/70\n",
            "Train accuracy: 0.97372 Validation accuracy: 0.9611\n",
            "Epoch 52/70\n",
            "Train accuracy: 0.97106 Validation accuracy: 0.954\n",
            "Epoch 53/70\n",
            "Train accuracy: 0.97798 Validation accuracy: 0.9628\n",
            "Epoch 54/70\n",
            "Train accuracy: 0.9768 Validation accuracy: 0.9603\n",
            "Epoch 55/70\n",
            "Train accuracy: 0.97826 Validation accuracy: 0.9645\n",
            "Epoch 56/70\n",
            "Train accuracy: 0.97864 Validation accuracy: 0.9605\n",
            "Epoch 57/70\n",
            "Train accuracy: 0.97846 Validation accuracy: 0.9603\n",
            "Epoch 58/70\n",
            "Train accuracy: 0.97874 Validation accuracy: 0.961\n",
            "Epoch 59/70\n",
            "Train accuracy: 0.97388 Validation accuracy: 0.9592\n",
            "Epoch 60/70\n",
            "Train accuracy: 0.97848 Validation accuracy: 0.9603\n",
            "Epoch 61/70\n",
            "Train accuracy: 0.97662 Validation accuracy: 0.9591\n",
            "Epoch 62/70\n",
            "Train accuracy: 0.97628 Validation accuracy: 0.9588\n",
            "Epoch 63/70\n",
            "Train accuracy: 0.97844 Validation accuracy: 0.9621\n",
            "Epoch 64/70\n",
            "Train accuracy: 0.97628 Validation accuracy: 0.9585\n",
            "Epoch 65/70\n",
            "Train accuracy: 0.97732 Validation accuracy: 0.961\n",
            "Epoch 66/70\n",
            "Train accuracy: 0.97956 Validation accuracy: 0.9619\n",
            "Epoch 67/70\n",
            "Train accuracy: 0.97746 Validation accuracy: 0.9599\n",
            "Epoch 68/70\n",
            "Train accuracy: 0.97756 Validation accuracy: 0.9612\n",
            "Epoch 69/70\n",
            "Train accuracy: 0.98016 Validation accuracy: 0.9616\n"
          ],
          "name": "stdout"
        }
      ]
    },
    {
      "cell_type": "code",
      "metadata": {
        "id": "z4E_xpZESMZ1",
        "outputId": "ffe7f07f-f356-4c7d-9bdb-b871667ccb00",
        "colab": {
          "base_uri": "https://localhost:8080/",
          "height": 52
        }
      },
      "source": [
        "# print best accuracies\n",
        "print('Best accuracy on training data: '+str(np.max(train_acc_history)))\n",
        "print('Best accuracy on test data :'+str(np.max(val_acc_history)))\n",
        "rmsprop = {'cost':loss_history,'tr_Acc':train_acc_history,'val_acc':val_acc_history}\n",
        "pickle_out = open(\"rmsprop.pickle\",\"wb\")\n",
        "pickle.dump(rmsprop, pickle_out)\n",
        "pickle_out.close()"
      ],
      "execution_count": 16,
      "outputs": [
        {
          "output_type": "stream",
          "text": [
            "Best accuracy on training data: 0.98016\n",
            "Best accuracy on test data :0.9645\n"
          ],
          "name": "stdout"
        }
      ]
    },
    {
      "cell_type": "code",
      "metadata": {
        "id": "wqKyazgBSMZ3",
        "outputId": "db8b445e-bee7-47d0-d23c-a7c2e4d9d389",
        "colab": {
          "base_uri": "https://localhost:8080/",
          "height": 295
        }
      },
      "source": [
        "# Plot the accuracy curves\n",
        "plt.plot(np.subtract(1,train_acc_history),'g--',label='Training')\n",
        "plt.plot(np.subtract(1,val_acc_history),'r--',label='Validation')\n",
        "plt.legend()\n",
        "plt.xlabel('epoch')\n",
        "plt.ylabel('% error')\n",
        "plt.title('Error Curves for RMSProp')\n",
        "plt.show()"
      ],
      "execution_count": 17,
      "outputs": [
        {
          "output_type": "display_data",
          "data": {
            "image/png": "[encoded data removed]",
            "text/plain": [
              "<Figure size 432x288 with 1 Axes>"
            ]
          },
          "metadata": {
            "tags": [],
            "needs_background": "light"
          }
        }
      ]
    },
    {
      "cell_type": "markdown",
      "metadata": {
        "id": "LIgEw6k3SMZ5"
      },
      "source": [
        "### 4. ADAM (adaptive moments)"
      ]
    },
    {
      "cell_type": "markdown",
      "metadata": {
        "id": "FHy7P5hkSMZ5"
      },
      "source": [
        "The ADAM is a combination of both momentum and rmsprop. \n",
        "\n",
        "- In Adam, the first moment is similar to momentum and second moment is similar to rmsprop. \n",
        "- Adam includes bias corrections to the estimates of both the ﬁrst-order moments and the second-order moments to account for their initialization at the origin i.e. avoid large steps during initial conditions."
      ]
    },
    {
      "cell_type": "markdown",
      "metadata": {
        "id": "VUYVKCEpSMZ6"
      },
      "source": [
        "<img src=\"adam.png\" alt=\"Drawing\" style=\"width: 600px;\"/>"
      ]
    },
    {
      "cell_type": "code",
      "metadata": {
        "id": "JEr30Pa8SMZ6",
        "outputId": "38d300f6-5027-4723-d1fd-bbcafc54fadd",
        "colab": {
          "base_uri": "https://localhost:8080/",
          "height": 1000
        }
      },
      "source": [
        "# Initialize two_layered_NN instance\n",
        "from n_model import n_layered_NN\n",
        "model = n_layered_NN(data,regularization_type = 'dropout',update_rule = 'adam',n=2,hidden_layer_sizes=[100,100])\n",
        "# Train the two layered neural network\n",
        "_,loss_history,train_acc_history,val_acc_history=model.train()"
      ],
      "execution_count": 18,
      "outputs": [
        {
          "output_type": "stream",
          "text": [
            "***************************************************************\n",
            "|                  Model Specifications:                      |\n",
            "***************************************************************\n",
            "input dimensions         :(50000, 784)\n",
            "output dimensions        :10\n",
            "number of hidden layers  :2\n",
            "hidden layer dimensions  :[100, 100]\n",
            "learning rate            :0.01\n",
            "batch size               :50\n",
            "number of epochs         :70\n",
            "---------------------------------------------------------------\n",
            "regularization type      :dropout\n",
            "dropout keep probability :0.8\n",
            "---------------------------------------------------------------\n",
            "optimization type        :adam\n",
            "---------------------------------------------------------------\n",
            "Epoch 0/70\n",
            "Train accuracy: 0.94058 Validation accuracy: 0.9408\n",
            "Epoch 1/70\n",
            "Train accuracy: 0.94988 Validation accuracy: 0.9513\n",
            "Epoch 2/70\n",
            "Train accuracy: 0.95578 Validation accuracy: 0.9542\n",
            "Epoch 3/70\n",
            "Train accuracy: 0.95572 Validation accuracy: 0.955\n",
            "Epoch 4/70\n",
            "Train accuracy: 0.96214 Validation accuracy: 0.9574\n",
            "Epoch 5/70\n",
            "Train accuracy: 0.9562 Validation accuracy: 0.956\n",
            "Epoch 6/70\n",
            "Train accuracy: 0.95852 Validation accuracy: 0.9547\n",
            "Epoch 7/70\n",
            "Train accuracy: 0.96468 Validation accuracy: 0.9601\n",
            "Epoch 8/70\n",
            "Train accuracy: 0.96116 Validation accuracy: 0.9547\n",
            "Epoch 9/70\n",
            "Train accuracy: 0.96276 Validation accuracy: 0.9579\n",
            "Epoch 10/70\n",
            "Train accuracy: 0.96114 Validation accuracy: 0.956\n",
            "Epoch 11/70\n",
            "Train accuracy: 0.97052 Validation accuracy: 0.9637\n",
            "Epoch 12/70\n",
            "Train accuracy: 0.966 Validation accuracy: 0.9589\n",
            "Epoch 13/70\n",
            "Train accuracy: 0.96904 Validation accuracy: 0.9601\n",
            "Epoch 14/70\n",
            "Train accuracy: 0.96914 Validation accuracy: 0.9585\n",
            "Epoch 15/70\n",
            "Train accuracy: 0.96218 Validation accuracy: 0.9558\n",
            "Epoch 16/70\n",
            "Train accuracy: 0.97158 Validation accuracy: 0.961\n",
            "Epoch 17/70\n",
            "Train accuracy: 0.9723 Validation accuracy: 0.963\n",
            "Epoch 18/70\n",
            "Train accuracy: 0.97106 Validation accuracy: 0.9591\n",
            "Epoch 19/70\n",
            "Train accuracy: 0.96732 Validation accuracy: 0.9607\n",
            "Epoch 20/70\n",
            "Train accuracy: 0.97348 Validation accuracy: 0.9639\n",
            "Epoch 21/70\n",
            "Train accuracy: 0.97294 Validation accuracy: 0.9639\n",
            "Epoch 22/70\n",
            "Train accuracy: 0.9776 Validation accuracy: 0.9644\n",
            "Epoch 23/70\n",
            "Train accuracy: 0.9713 Validation accuracy: 0.9613\n",
            "Epoch 24/70\n",
            "Train accuracy: 0.97476 Validation accuracy: 0.9625\n",
            "Epoch 25/70\n",
            "Train accuracy: 0.97208 Validation accuracy: 0.9624\n",
            "Epoch 26/70\n",
            "Train accuracy: 0.97516 Validation accuracy: 0.9652\n",
            "Epoch 27/70\n",
            "Train accuracy: 0.97034 Validation accuracy: 0.9602\n",
            "Epoch 28/70\n",
            "Train accuracy: 0.97382 Validation accuracy: 0.965\n",
            "Epoch 29/70\n",
            "Train accuracy: 0.97506 Validation accuracy: 0.9648\n",
            "Epoch 30/70\n",
            "Train accuracy: 0.97616 Validation accuracy: 0.9636\n",
            "Epoch 31/70\n",
            "Train accuracy: 0.97278 Validation accuracy: 0.9626\n",
            "Epoch 32/70\n",
            "Train accuracy: 0.97752 Validation accuracy: 0.9663\n",
            "Epoch 33/70\n",
            "Train accuracy: 0.97376 Validation accuracy: 0.9618\n",
            "Epoch 34/70\n",
            "Train accuracy: 0.97762 Validation accuracy: 0.9645\n",
            "Epoch 35/70\n",
            "Train accuracy: 0.97602 Validation accuracy: 0.9636\n",
            "Epoch 36/70\n",
            "Train accuracy: 0.97824 Validation accuracy: 0.9672\n",
            "Epoch 37/70\n",
            "Train accuracy: 0.97362 Validation accuracy: 0.9618\n",
            "Epoch 38/70\n",
            "Train accuracy: 0.97534 Validation accuracy: 0.9632\n",
            "Epoch 39/70\n",
            "Train accuracy: 0.97564 Validation accuracy: 0.9603\n",
            "Epoch 40/70\n",
            "Train accuracy: 0.9805 Validation accuracy: 0.9669\n",
            "Epoch 41/70\n",
            "Train accuracy: 0.98016 Validation accuracy: 0.9654\n",
            "Epoch 42/70\n",
            "Train accuracy: 0.97566 Validation accuracy: 0.9639\n",
            "Epoch 43/70\n",
            "Train accuracy: 0.97908 Validation accuracy: 0.9657\n",
            "Epoch 44/70\n",
            "Train accuracy: 0.97626 Validation accuracy: 0.9619\n",
            "Epoch 45/70\n",
            "Train accuracy: 0.97588 Validation accuracy: 0.9628\n",
            "Epoch 46/70\n",
            "Train accuracy: 0.97622 Validation accuracy: 0.9631\n",
            "Epoch 47/70\n",
            "Train accuracy: 0.97722 Validation accuracy: 0.9634\n",
            "Epoch 48/70\n",
            "Train accuracy: 0.98046 Validation accuracy: 0.9652\n",
            "Epoch 49/70\n",
            "Train accuracy: 0.9796 Validation accuracy: 0.9639\n",
            "Epoch 50/70\n",
            "Train accuracy: 0.97806 Validation accuracy: 0.9661\n",
            "Epoch 51/70\n",
            "Train accuracy: 0.98056 Validation accuracy: 0.9649\n",
            "Epoch 52/70\n",
            "Train accuracy: 0.97508 Validation accuracy: 0.9602\n",
            "Epoch 53/70\n",
            "Train accuracy: 0.97902 Validation accuracy: 0.965\n",
            "Epoch 54/70\n",
            "Train accuracy: 0.9798 Validation accuracy: 0.9649\n",
            "Epoch 55/70\n",
            "Train accuracy: 0.9806 Validation accuracy: 0.9656\n",
            "Epoch 56/70\n",
            "Train accuracy: 0.97918 Validation accuracy: 0.9626\n",
            "Epoch 57/70\n",
            "Train accuracy: 0.98146 Validation accuracy: 0.9654\n",
            "Epoch 58/70\n",
            "Train accuracy: 0.97906 Validation accuracy: 0.9655\n",
            "Epoch 59/70\n",
            "Train accuracy: 0.98116 Validation accuracy: 0.9633\n",
            "Epoch 60/70\n",
            "Train accuracy: 0.98054 Validation accuracy: 0.9658\n",
            "Epoch 61/70\n",
            "Train accuracy: 0.97924 Validation accuracy: 0.9638\n",
            "Epoch 62/70\n",
            "Train accuracy: 0.9791 Validation accuracy: 0.9625\n",
            "Epoch 63/70\n",
            "Train accuracy: 0.97208 Validation accuracy: 0.9572\n",
            "Epoch 64/70\n",
            "Train accuracy: 0.97908 Validation accuracy: 0.9632\n",
            "Epoch 65/70\n",
            "Train accuracy: 0.98044 Validation accuracy: 0.9644\n",
            "Epoch 66/70\n",
            "Train accuracy: 0.9813 Validation accuracy: 0.9674\n",
            "Epoch 67/70\n",
            "Train accuracy: 0.98212 Validation accuracy: 0.9664\n",
            "Epoch 68/70\n",
            "Train accuracy: 0.9821 Validation accuracy: 0.9649\n",
            "Epoch 69/70\n",
            "Train accuracy: 0.97866 Validation accuracy: 0.9617\n"
          ],
          "name": "stdout"
        }
      ]
    },
    {
      "cell_type": "code",
      "metadata": {
        "id": "7TGLVMwcSMZ8",
        "outputId": "27937a98-da34-4fb8-d320-2b303a029a3b",
        "colab": {
          "base_uri": "https://localhost:8080/",
          "height": 52
        }
      },
      "source": [
        "# print best accuracies\n",
        "print('Best accuracy on training data: '+str(np.max(train_acc_history)))\n",
        "print('Best accuracy on test data :'+str(np.max(val_acc_history)))\n",
        "\n",
        "adam = {'cost':loss_history,'tr_Acc':train_acc_history,'val_acc':val_acc_history}\n",
        "pickle_out = open(\"adam.pickle\",\"wb\")\n",
        "pickle.dump(adam, pickle_out)\n",
        "pickle_out.close()"
      ],
      "execution_count": 19,
      "outputs": [
        {
          "output_type": "stream",
          "text": [
            "Best accuracy on training data: 0.98212\n",
            "Best accuracy on test data :0.9674\n"
          ],
          "name": "stdout"
        }
      ]
    },
    {
      "cell_type": "code",
      "metadata": {
        "id": "4uqMhCngSMZ-",
        "outputId": "badc9dbf-1a0c-4759-d469-b0f4413b27ce",
        "colab": {
          "base_uri": "https://localhost:8080/",
          "height": 295
        }
      },
      "source": [
        "# Plot the accuracy curves\n",
        "plt.plot(np.subtract(1,train_acc_history),'g--',label='Training')\n",
        "plt.plot(np.subtract(1,val_acc_history),'r--',label='Validation')\n",
        "plt.legend()\n",
        "plt.xlabel('epoch')\n",
        "plt.ylabel('% error')\n",
        "plt.title('Error Curves for ADAM')\n",
        "plt.show()"
      ],
      "execution_count": 20,
      "outputs": [
        {
          "output_type": "display_data",
          "data": {
            "image/png": "[encoded data removed]",
            "text/plain": [
              "<Figure size 432x288 with 1 Axes>"
            ]
          },
          "metadata": {
            "tags": [],
            "needs_background": "light"
          }
        }
      ]
    },
    {
      "cell_type": "markdown",
      "metadata": {
        "id": "ZtaqFYZqSMaA"
      },
      "source": [
        "### Plot to compare results"
      ]
    },
    {
      "cell_type": "code",
      "metadata": {
        "id": "5OqNEQ5FSMaA"
      },
      "source": [
        "pickle_in = open(\"sgd.pickle\",\"rb\")\n",
        "sgd = pickle.load(pickle_in)\n",
        "pickle_in.close()\n",
        "pickle_in = open(\"sgd_m.pickle\",\"rb\")\n",
        "sgd_m = pickle.load(pickle_in)\n",
        "pickle_in.close()\n",
        "pickle_in = open(\"rmsprop.pickle\",\"rb\")\n",
        "rmsprop = pickle.load(pickle_in)\n",
        "pickle_in.close()\n",
        "pickle_in = open(\"adagrad.pickle\",\"rb\")\n",
        "adagrad = pickle.load(pickle_in)\n",
        "pickle_in.close()\n",
        "pickle_in = open(\"adam.pickle\",\"rb\")\n",
        "adam = pickle.load(pickle_in)\n",
        "pickle_in.close()"
      ],
      "execution_count": 21,
      "outputs": []
    },
    {
      "cell_type": "code",
      "metadata": {
        "id": "hz4BCI6nSMaD",
        "outputId": "01dee558-7c94-448e-aed9-0ba2285b7274",
        "colab": {
          "base_uri": "https://localhost:8080/",
          "height": 295
        }
      },
      "source": [
        "plt.plot(np.subtract(1,sgd['val_acc']),'c--',label='sgd')\n",
        "plt.plot(np.subtract(1,sgd_m['val_acc']),'r--',label='sgd with momentum')\n",
        "plt.plot(np.subtract(1,rmsprop['val_acc']),'b--',label='RMSProp')\n",
        "plt.plot(np.subtract(1,adagrad['val_acc']),'m--',label='adagrad')\n",
        "plt.plot(np.subtract(1,adam['val_acc']),'g--',label='adam')\n",
        "plt.legend()\n",
        "plt.xlabel('epoch')\n",
        "plt.ylabel('% error')\n",
        "plt.title('Error Curves for different Optimizations')\n",
        "plt.show()"
      ],
      "execution_count": 22,
      "outputs": [
        {
          "output_type": "display_data",
          "data": {
            "image/png": "[encoded data removed]",
            "text/plain": [
              "<Figure size 432x288 with 1 Axes>"
            ]
          },
          "metadata": {
            "tags": [],
            "needs_background": "light"
          }
        }
      ]
    },
    {
      "cell_type": "markdown",
      "metadata": {
        "id": "tWmKxy4wSMaF"
      },
      "source": [
        "From the plots, you should observe: \n",
        "1. sgd converges very slowly.\n",
        "2. sgd_with_momentum converges the fastest because of the momentum.\n",
        "3. RMSProp, adagrad and ADAM converges efiiciently."
      ]
    },
    {
      "cell_type": "code",
      "metadata": {
        "id": "AIduBqWbSMaF"
      },
      "source": [
        ""
      ],
      "execution_count": null,
      "outputs": []
    }
  ]
}