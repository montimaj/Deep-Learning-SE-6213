{
 "cells": [
  {
   "cell_type": "markdown",
   "metadata": {},
   "source": [
    "# SYS ENG 6213 - Deep Learning and Advanced Neural Networks "
   ]
  },
  {
   "cell_type": "markdown",
   "metadata": {},
   "source": [
    "### Homework#2 Exploring the advantages of regularization"
   ]
  },
  {
   "cell_type": "markdown",
   "metadata": {},
   "source": [
    "In machine learning, a well trained model performs equally good on test data as it did on training data. However, test data is not usually available during training which makes it difficult to understand how the model is performing. For example, we may get an accuracy of 99% for some model on training data but when it is deployed on real unseen data, it may not give the same performance. For this reason, we separate the available training data into training and validation data. \n"
   ]
  },
  {
   "cell_type": "markdown",
   "metadata": {},
   "source": [
    "In order to create above mentioned situation, let us limit the training data to only 50000 samples for MNIST dataset while keeping the validation to 10000 samples. Run the code given in the demo and observe how the model performs."
   ]
  },
  {
   "cell_type": "markdown",
   "metadata": {},
   "source": [
    "__In this assignment, you will work only with layers.py file. We provided the model.py file which contains a wrapper funtion to create $n$-layered neural network.__\n",
    "\n"
   ]
  },
  {
   "cell_type": "markdown",
   "metadata": {},
   "source": [
    "### 1. Demo"
   ]
  },
  {
   "cell_type": "markdown",
   "metadata": {},
   "source": [
    "Run the below code to observe how the model performs when there is no regularization."
   ]
  },
  {
   "cell_type": "code",
   "execution_count": 1,
   "metadata": {},
   "outputs": [],
   "source": [
    "# Import the functions\n",
    "from layers import *\n",
    "from utils import *\n",
    "# Set up the packages\n",
    "import numpy as np\n",
    "import matplotlib.pyplot as plt\n",
    "import matplotlib as mpl\n"
   ]
  },
  {
   "cell_type": "code",
   "execution_count": 2,
   "metadata": {},
   "outputs": [
    {
     "data": {
      "image/png": "[encoded data removed]",
      "text/plain": [
       "<matplotlib.figure.Figure at 0x7f180ab56780>"
      ]
     },
     "metadata": {},
     "output_type": "display_data"
    }
   ],
   "source": [
    "# Load the training data\n",
    "inputs, labels = load_images_with_labels()\n",
    "\n",
    "# View first 8 examples\n",
    "fig, ax = plt.subplots(1,8)\n",
    "labl = []\n",
    "for i in range(8):\n",
    "    ax[i].imshow(inputs[i], cmap=mpl.cm.Greys)\n",
    "    ax[i].set_title(labels[i])\n",
    "plt.show()"
   ]
  },
  {
   "cell_type": "code",
   "execution_count": 3,
   "metadata": {},
   "outputs": [],
   "source": [
    "# Pre-processing the data\n",
    "train=inputs.reshape(60000,784) # reshape the inputs shape from (60000,28,28) to (60000,784)\n",
    "train = np.float32(train) # change the datatype to float\n",
    "train /= np.max(train,axis=1).reshape(-1,1) # Normalize the data between 0 and 1\n",
    "\n",
    "# Now we separate the inputs into training and validation\n",
    "train_ = train[0:50000,:] # We use first 50000 images for training\n",
    "tr_labels = labels[0:50000]\n",
    "val = train[50000:60000,:] # We use the last 10000 images for validation\n",
    "val_labels = labels[50000:60000]\n",
    "data = {'train':train_,'tr_targets':tr_labels,'val':val,'tr_val':val_labels}\n"
   ]
  },
  {
   "cell_type": "code",
   "execution_count": 4,
   "metadata": {},
   "outputs": [],
   "source": [
    "# Initialize two_layered_NN instance\n",
    "from n_model import n_layered_NN\n",
    "model = n_layered_NN(data,reg=0)"
   ]
  },
  {
   "cell_type": "code",
   "execution_count": 5,
   "metadata": {},
   "outputs": [
    {
     "name": "stdout",
     "output_type": "stream",
     "text": [
      "***************************************************************\n",
      "|                  Model Specifications:                      |\n",
      "***************************************************************\n",
      "input dimensions         :(50000, 784)\n",
      "output dimensions        :10\n",
      "number of hidden layers  :2\n",
      "hidden layer dimensions  :[100, 100]\n",
      "learning rate            :0.01\n",
      "batch size               :50\n",
      "number of epochs         :70\n",
      "---------------------------------------------------------------\n",
      "regularization type      :None\n",
      "---------------------------------------------------------------\n",
      "Epoch 0/70\n",
      "Train accuracy: 0.84054 Validation accuracy: 0.8484\n",
      "Epoch 1/70\n",
      "Train accuracy: 0.88022 Validation accuracy: 0.8855\n",
      "Epoch 2/70\n",
      "Train accuracy: 0.8965 Validation accuracy: 0.9048\n",
      "Epoch 3/70\n",
      "Train accuracy: 0.90768 Validation accuracy: 0.91\n",
      "Epoch 4/70\n",
      "Train accuracy: 0.9162 Validation accuracy: 0.9166\n",
      "Epoch 5/70\n",
      "Train accuracy: 0.91868 Validation accuracy: 0.92\n",
      "Epoch 6/70\n",
      "Train accuracy: 0.92756 Validation accuracy: 0.9264\n",
      "Epoch 7/70\n",
      "Train accuracy: 0.93096 Validation accuracy: 0.9271\n",
      "Epoch 8/70\n",
      "Train accuracy: 0.93238 Validation accuracy: 0.9294\n",
      "Epoch 9/70\n",
      "Train accuracy: 0.93886 Validation accuracy: 0.9325\n",
      "Epoch 10/70\n",
      "Train accuracy: 0.94044 Validation accuracy: 0.9347\n",
      "Epoch 11/70\n",
      "Train accuracy: 0.94338 Validation accuracy: 0.9367\n",
      "Epoch 12/70\n",
      "Train accuracy: 0.9464 Validation accuracy: 0.9382\n",
      "Epoch 13/70\n",
      "Train accuracy: 0.94864 Validation accuracy: 0.9388\n",
      "Epoch 14/70\n",
      "Train accuracy: 0.9493 Validation accuracy: 0.941\n",
      "Epoch 15/70\n",
      "Train accuracy: 0.95282 Validation accuracy: 0.9431\n",
      "Epoch 16/70\n",
      "Train accuracy: 0.95294 Validation accuracy: 0.9429\n",
      "Epoch 17/70\n",
      "Train accuracy: 0.95598 Validation accuracy: 0.9438\n",
      "Epoch 18/70\n",
      "Train accuracy: 0.95588 Validation accuracy: 0.9457\n",
      "Epoch 19/70\n",
      "Train accuracy: 0.95644 Validation accuracy: 0.9461\n",
      "Epoch 20/70\n",
      "Train accuracy: 0.95934 Validation accuracy: 0.9456\n",
      "Epoch 21/70\n",
      "Train accuracy: 0.96204 Validation accuracy: 0.9487\n",
      "Epoch 22/70\n",
      "Train accuracy: 0.96266 Validation accuracy: 0.9485\n",
      "Epoch 23/70\n",
      "Train accuracy: 0.96384 Validation accuracy: 0.9499\n",
      "Epoch 24/70\n",
      "Train accuracy: 0.96362 Validation accuracy: 0.9482\n",
      "Epoch 25/70\n",
      "Train accuracy: 0.964 Validation accuracy: 0.9469\n",
      "Epoch 26/70\n",
      "Train accuracy: 0.96732 Validation accuracy: 0.9507\n",
      "Epoch 27/70\n",
      "Train accuracy: 0.96628 Validation accuracy: 0.9501\n",
      "Epoch 28/70\n",
      "Train accuracy: 0.96814 Validation accuracy: 0.9522\n",
      "Epoch 29/70\n",
      "Train accuracy: 0.9685 Validation accuracy: 0.9513\n",
      "Epoch 30/70\n",
      "Train accuracy: 0.96972 Validation accuracy: 0.9529\n",
      "Epoch 31/70\n",
      "Train accuracy: 0.97102 Validation accuracy: 0.9536\n",
      "Epoch 32/70\n",
      "Train accuracy: 0.9701 Validation accuracy: 0.9531\n",
      "Epoch 33/70\n",
      "Train accuracy: 0.97188 Validation accuracy: 0.9524\n",
      "Epoch 34/70\n",
      "Train accuracy: 0.97062 Validation accuracy: 0.9532\n",
      "Epoch 35/70\n",
      "Train accuracy: 0.9723 Validation accuracy: 0.9524\n",
      "Epoch 36/70\n",
      "Train accuracy: 0.97408 Validation accuracy: 0.9549\n",
      "Epoch 37/70\n",
      "Train accuracy: 0.9736 Validation accuracy: 0.9552\n",
      "Epoch 38/70\n",
      "Train accuracy: 0.97294 Validation accuracy: 0.9551\n",
      "Epoch 39/70\n",
      "Train accuracy: 0.9747 Validation accuracy: 0.9528\n",
      "Epoch 40/70\n",
      "Train accuracy: 0.9769 Validation accuracy: 0.954\n",
      "Epoch 41/70\n",
      "Train accuracy: 0.97722 Validation accuracy: 0.9547\n",
      "Epoch 42/70\n",
      "Train accuracy: 0.97758 Validation accuracy: 0.9557\n",
      "Epoch 43/70\n",
      "Train accuracy: 0.97826 Validation accuracy: 0.9559\n",
      "Epoch 44/70\n",
      "Train accuracy: 0.97866 Validation accuracy: 0.9548\n",
      "Epoch 45/70\n",
      "Train accuracy: 0.97938 Validation accuracy: 0.9577\n",
      "Epoch 46/70\n",
      "Train accuracy: 0.9785 Validation accuracy: 0.9542\n",
      "Epoch 47/70\n",
      "Train accuracy: 0.97938 Validation accuracy: 0.9553\n",
      "Epoch 48/70\n",
      "Train accuracy: 0.9805 Validation accuracy: 0.9571\n",
      "Epoch 49/70\n",
      "Train accuracy: 0.97998 Validation accuracy: 0.9563\n",
      "Epoch 50/70\n",
      "Train accuracy: 0.98152 Validation accuracy: 0.9563\n",
      "Epoch 51/70\n",
      "Train accuracy: 0.98248 Validation accuracy: 0.9559\n",
      "Epoch 52/70\n",
      "Train accuracy: 0.98284 Validation accuracy: 0.9573\n",
      "Epoch 53/70\n",
      "Train accuracy: 0.98276 Validation accuracy: 0.9575\n",
      "Epoch 54/70\n",
      "Train accuracy: 0.98438 Validation accuracy: 0.9572\n",
      "Epoch 55/70\n",
      "Train accuracy: 0.98374 Validation accuracy: 0.957\n",
      "Epoch 56/70\n",
      "Train accuracy: 0.98458 Validation accuracy: 0.9584\n",
      "Epoch 57/70\n",
      "Train accuracy: 0.98354 Validation accuracy: 0.9564\n",
      "Epoch 58/70\n",
      "Train accuracy: 0.98536 Validation accuracy: 0.9586\n",
      "Epoch 59/70\n",
      "Train accuracy: 0.985 Validation accuracy: 0.9599\n",
      "Epoch 60/70\n",
      "Train accuracy: 0.98498 Validation accuracy: 0.958\n",
      "Epoch 61/70\n",
      "Train accuracy: 0.98634 Validation accuracy: 0.9592\n",
      "Epoch 62/70\n",
      "Train accuracy: 0.98598 Validation accuracy: 0.9575\n",
      "Epoch 63/70\n",
      "Train accuracy: 0.98564 Validation accuracy: 0.9583\n",
      "Epoch 64/70\n",
      "Train accuracy: 0.98708 Validation accuracy: 0.9592\n",
      "Epoch 65/70\n",
      "Train accuracy: 0.98716 Validation accuracy: 0.959\n",
      "Epoch 66/70\n",
      "Train accuracy: 0.98732 Validation accuracy: 0.9579\n",
      "Epoch 67/70\n",
      "Train accuracy: 0.9872 Validation accuracy: 0.9596\n",
      "Epoch 68/70\n",
      "Train accuracy: 0.98886 Validation accuracy: 0.9599\n",
      "Epoch 69/70\n",
      "Train accuracy: 0.989 Validation accuracy: 0.9588\n"
     ]
    }
   ],
   "source": [
    "# Train the two layered neural network\n",
    "_,_,train_acc_history,val_acc_history=model.train()"
   ]
  },
  {
   "cell_type": "code",
   "execution_count": 6,
   "metadata": {},
   "outputs": [
    {
     "name": "stdout",
     "output_type": "stream",
     "text": [
      "Best accuracy on training data: 0.989\n",
      "Best accuracy on test data :0.9599\n"
     ]
    }
   ],
   "source": [
    "# print best accuracies\n",
    "print('Best accuracy on training data: '+str(np.max(train_acc_history)))\n",
    "print('Best accuracy on test data :'+str(np.max(val_acc_history)))"
   ]
  },
  {
   "cell_type": "code",
   "execution_count": 7,
   "metadata": {},
   "outputs": [
    {
     "data": {
      "image/png": "[encoded data removed]",
      "text/plain": [
       "<matplotlib.figure.Figure at 0x7f17feba0e48>"
      ]
     },
     "metadata": {},
     "output_type": "display_data"
    }
   ],
   "source": [
    "# Plot the accuracy curves\n",
    "plt.plot(np.subtract(1,train_acc_history),'g--',label='Training')\n",
    "plt.plot(np.subtract(1,val_acc_history),'r--',label='Validation')\n",
    "plt.legend()\n",
    "plt.xlabel('epoch')\n",
    "plt.ylabel('% error')\n",
    "plt.title('Error Curves without regularization')\n",
    "plt.show()"
   ]
  },
  {
   "cell_type": "markdown",
   "metadata": {},
   "source": [
    "From the above graphs, you will observe that during training, the accuracy on training data reached $\\sim$ 98-100% while the validation accuracy only reached $\\sim$ 95-97%. This is an example of over-fitting as the trained model performs very well on training data but cannot perform equally on new unseen data(like validation/test). An ideal model should have the training,validation and test accuracy almost similar. In order to get such a model, we use regularization. "
   ]
  },
  {
   "cell_type": "markdown",
   "metadata": {},
   "source": [
    " ####  ------------------------------------------------------------------------- END OF DEMO -------------------------------------------------------------------------------"
   ]
  },
  {
   "cell_type": "markdown",
   "metadata": {},
   "source": [
    "### 2. $L2$ Regularization"
   ]
  },
  {
   "cell_type": "markdown",
   "metadata": {},
   "source": [
    "To reduce over fitting shown in the above demo, you will now implement the $L2$ regularization and observe how the model performs."
   ]
  },
  {
   "cell_type": "code",
   "execution_count": null,
   "metadata": {},
   "outputs": [],
   "source": [
    "# Reset to remove all the clear all variables\n",
    "%reset"
   ]
  },
  {
   "cell_type": "markdown",
   "metadata": {},
   "source": [
    "Below is a paper to better understand $L2$:\n",
    "    \n",
    "https://papers.nips.cc/paper/563-a-simple-weight-decay-can-improve-generalization.pdf"
   ]
  },
  {
   "cell_type": "markdown",
   "metadata": {},
   "source": [
    "__Implementation__"
   ]
  },
  {
   "cell_type": "markdown",
   "metadata": {},
   "source": [
    "Open the layers.py file an update the code for following functions:\n",
    "1. loss\n",
    "2. backward_step\n",
    "\n",
    "You will have to implement L2 regularization in both functions using the equations given below:"
   ]
  },
  {
   "cell_type": "markdown",
   "metadata": {},
   "source": [
    "1. If $L$ is loss calculated using normal loss function, then the loss with regularization \n",
    "__$L = L + \\frac{reg*(\\sum_{n=1}^{N} {w_n^2})}{N}$__\n",
    "2. If __$\\delta_n$__ is the gradient of wegtht __$w_n$__, then by adding regularization, the values will be __$\\delta_n = \\delta_n + reg * w_n$__"
   ]
  },
  {
   "cell_type": "code",
   "execution_count": null,
   "metadata": {},
   "outputs": [],
   "source": [
    "# Import the functions\n",
    "from layers import *\n",
    "from utils import *\n",
    "# Set up the packages\n",
    "import numpy as np\n",
    "import matplotlib.pyplot as plt\n",
    "import matplotlib as mpl"
   ]
  },
  {
   "cell_type": "code",
   "execution_count": null,
   "metadata": {},
   "outputs": [],
   "source": [
    "# Load the training data\n",
    "inputs, labels = load_images_with_labels()\n",
    "\n",
    "# View first 8 examples\n",
    "fig, ax = plt.subplots(1,8)\n",
    "labl = []\n",
    "for i in range(8):\n",
    "    ax[i].imshow(inputs[i], cmap=mpl.cm.Greys)\n",
    "    ax[i].set_title(labels[i])\n",
    "plt.show()"
   ]
  },
  {
   "cell_type": "code",
   "execution_count": null,
   "metadata": {},
   "outputs": [],
   "source": [
    "# Pre-processing the data\n",
    "train=inputs.reshape(60000,784) # reshape the inputs shape from (60000,28,28) to (60000,784)\n",
    "train = np.float32(train) # change the datatype to float\n",
    "train /= np.max(train,axis=1).reshape(-1,1) # Normalize the data between 0 and 1\n",
    "\n",
    "# Now we separate the inputs into training and validation\n",
    "train_ = train[0:50000,:] # We use first 50000 images for training\n",
    "tr_labels = labels[0:50000]\n",
    "val = train[50000:60000,:] # We use the last 10000 images for validation\n",
    "val_labels = labels[50000:60000]\n",
    "data = {'train':train_,'tr_targets':tr_labels,'val':val,'tr_val':val_labels}"
   ]
  },
  {
   "cell_type": "code",
   "execution_count": null,
   "metadata": {},
   "outputs": [],
   "source": [
    "# Initialize two_layered_NN instance\n",
    "from n_model import n_layered_NN\n",
    "model = n_layered_NN(data,regularization_type='L2',learning_rate=0.01,reg=0.01)"
   ]
  },
  {
   "cell_type": "code",
   "execution_count": null,
   "metadata": {},
   "outputs": [],
   "source": [
    "# Train the two layered neural network\n",
    "_,_,train_acc_history,val_acc_history=model.train()"
   ]
  },
  {
   "cell_type": "code",
   "execution_count": null,
   "metadata": {},
   "outputs": [],
   "source": [
    "# print best accuracies\n",
    "print('Best accuracy on training data: '+str(np.max(train_acc_history)))\n",
    "print('Best accuracy on test data :'+str(np.max(val_acc_history)))"
   ]
  },
  {
   "cell_type": "code",
   "execution_count": null,
   "metadata": {},
   "outputs": [],
   "source": [
    "# Plot the accuracy curves\n",
    "plt.plot(np.subtract(1,train_acc_history),'g--',label='Training')\n",
    "plt.plot(np.subtract(1,val_acc_history),'r--',label='Validation')\n",
    "plt.legend()\n",
    "plt.xlabel('epoch')\n",
    "plt.ylabel('% error')\n",
    "plt.title('Error Curves with L2 regularization')\n",
    "plt.show()"
   ]
  },
  {
   "cell_type": "markdown",
   "metadata": {},
   "source": [
    "By implementing the $L2$ regularization, you should get the final training accuracy $\\sim$ 95-96% and validation accuracy $\\sim$ 95-96%. "
   ]
  },
  {
   "cell_type": "markdown",
   "metadata": {},
   "source": [
    "### 3. Dropout "
   ]
  },
  {
   "cell_type": "code",
   "execution_count": null,
   "metadata": {},
   "outputs": [],
   "source": [
    "%reset"
   ]
  },
  {
   "cell_type": "markdown",
   "metadata": {},
   "source": [
    "Dropout is a regularization technique developed by Nitish Srivastava in 2014. The idea is to randomly drop units (hidden neurons) during training. This introduces noise in the model and prevents it from co-adapting to the training data too much. \n"
   ]
  },
  {
   "cell_type": "markdown",
   "metadata": {},
   "source": [
    "![Dropout](dropout_img.png)"
   ]
  },
  {
   "cell_type": "markdown",
   "metadata": {},
   "source": [
    "The image is taken from original dropout paper: \n",
    "https://arxiv.org/pdf/1502.03167.pdf . You can also read from the paper to get better idea on dropout.\n",
    "\n"
   ]
  },
  {
   "cell_type": "markdown",
   "metadata": {},
   "source": [
    "Now complete the following functions in layers.py\n",
    "1. dropout_forward  \n",
    "2. dropout_backward "
   ]
  },
  {
   "cell_type": "markdown",
   "metadata": {},
   "source": [
    "Note: \n",
    "1. Dropout is used only during training since it aims to generalize the model weights. \n",
    "2. The $p$ = 0.8 in the code is the keep probability i.e. each neuron has a probability of 0.8 to participate in an iteration during training.\n"
   ]
  },
  {
   "cell_type": "code",
   "execution_count": null,
   "metadata": {},
   "outputs": [],
   "source": [
    "# Import the functions\n",
    "from layers import *\n",
    "from utils import *\n",
    "# Set up the packages\n",
    "import numpy as np\n",
    "import matplotlib.pyplot as plt\n",
    "import matplotlib as mpl"
   ]
  },
  {
   "cell_type": "code",
   "execution_count": null,
   "metadata": {},
   "outputs": [],
   "source": [
    "# Load the training data\n",
    "inputs, labels = load_images_with_labels()\n",
    "\n",
    "# View first 8 examples\n",
    "fig, ax = plt.subplots(1,8)\n",
    "labl = []\n",
    "for i in range(8):\n",
    "    ax[i].imshow(inputs[i], cmap=mpl.cm.Greys)\n",
    "    ax[i].set_title(labels[i])\n",
    "plt.show()"
   ]
  },
  {
   "cell_type": "code",
   "execution_count": null,
   "metadata": {},
   "outputs": [],
   "source": [
    "# Pre-processing the data\n",
    "train=inputs.reshape(60000,784) # reshape the inputs shape from (60000,28,28) to (60000,784)\n",
    "train = np.float32(train) # change the datatype to float\n",
    "train /= np.max(train,axis=1).reshape(-1,1) # Normalize the data between 0 and 1\n",
    "\n",
    "# Now we separate the inputs into training and validation\n",
    "train_ = train[0:50000,:] # We use first 50000 images for training\n",
    "tr_labels = labels[0:50000]\n",
    "val = train[50000:60000,:] # We use the last 10000 images for validation\n",
    "val_labels = labels[50000:60000]\n",
    "data = {'train':train_,'tr_targets':tr_labels,'val':val,'tr_val':val_labels}"
   ]
  },
  {
   "cell_type": "code",
   "execution_count": null,
   "metadata": {},
   "outputs": [],
   "source": [
    "# Initialize two_layered_NN instance\n",
    "from n_model import n_layered_NN\n",
    "model = n_layered_NN(data,regularization_type='dropout',learning_rate=0.01)"
   ]
  },
  {
   "cell_type": "code",
   "execution_count": null,
   "metadata": {},
   "outputs": [],
   "source": [
    "# Train the two layered neural network\n",
    "_,_,train_acc_history,val_acc_history=model.train()"
   ]
  },
  {
   "cell_type": "code",
   "execution_count": null,
   "metadata": {},
   "outputs": [],
   "source": [
    "# print best accuracies\n",
    "print('Best accuracy on training data: '+str(np.max(train_acc_history)))\n",
    "print('Best accuracy on test data :'+str(np.max(val_acc_history)))"
   ]
  },
  {
   "cell_type": "code",
   "execution_count": null,
   "metadata": {},
   "outputs": [],
   "source": [
    "# Plot the accuracy curves\n",
    "plt.plot(np.subtract(1,train_acc_history),'g--',label='Training')\n",
    "plt.plot(np.subtract(1,val_acc_history),'r--',label='Validation')\n",
    "plt.legend()\n",
    "plt.xlabel('epoch')\n",
    "plt.ylabel('% error')\n",
    "plt.title('Error Curves with dropout')\n",
    "plt.show()"
   ]
  },
  {
   "cell_type": "markdown",
   "metadata": {},
   "source": [
    "You should get similar performance as that of $L2$ regularization"
   ]
  },
  {
   "cell_type": "code",
   "execution_count": null,
   "metadata": {},
   "outputs": [],
   "source": []
  }
 ],
 "metadata": {
  "kernelspec": {
   "display_name": "Python 3",
   "language": "python",
   "name": "python3"
  },
  "language_info": {
   "codemirror_mode": {
    "name": "ipython",
    "version": 3
   },
   "file_extension": ".py",
   "mimetype": "text/x-python",
   "name": "python",
   "nbconvert_exporter": "python",
   "pygments_lexer": "ipython3",
   "version": "3.6.4"
  }
 },
 "nbformat": 4,
 "nbformat_minor": 2
}
