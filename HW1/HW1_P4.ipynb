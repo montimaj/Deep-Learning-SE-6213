{
  "nbformat": 4,
  "nbformat_minor": 0,
  "metadata": {
    "colab": {
      "name": "HW1_P4.ipynb",
      "provenance": [],
      "collapsed_sections": []
    },
    "kernelspec": {
      "name": "python3",
      "display_name": "Python 3"
    }
  },
  "cells": [
    {
      "cell_type": "code",
      "metadata": {
        "id": "twn0zFQfl-Pi",
        "colab_type": "code",
        "colab": {}
      },
      "source": [
        ""
      ],
      "execution_count": null,
      "outputs": []
    },
    {
      "cell_type": "markdown",
      "metadata": {
        "id": "WGCedylMl-3T",
        "colab_type": "text"
      },
      "source": [
        "The following datasets will be used in my project: \n",
        "\n",
        "(a)\tMOD16: https://lpdaac.usgs.gov/products/mod16a2v006/\n",
        "\n",
        "(b)\tGRACE: https://grace.jpl.nasa.gov/data-analysis-tool/\n",
        "\n",
        "(c)\tUSDA-NASS: https://nassgeodata.gmu.edu/CropScape/\n",
        "\n",
        "(d)\tPRISM: http://www.prism.oregonstate.edu/\n",
        "\n",
        "(e)\tKansas Groundwater Database: http://hercules.kgs.ku.edu/geohydro/wimas/\n",
        "\n",
        "(f)\tArizona Groundwater and other data: https://infoshare.azwater.gov/docushare/dsweb/View/Collection-72 \n",
        "\n",
        "\n",
        "The first two datasets cover the entire world and must be pre-processed to fit the Kansas and Arizona regions having different climatic conditions. Also, datasets 3 and 4 are for the continental US and need to be pre-processed. Essentially, my research involves using ML/DL methods to predict and forecast groundwater extraction which is aimed towards helping water managers in addressing water security issues. The entire spatio-temporal data consisting of these six datasets span from 2002-2019.  \n",
        "\n",
        "**N.B:**\n",
        "\n",
        "The following files have been submitted on Canvas:\n",
        "\n",
        "(a)\tHW1_P1: Problem 1\n",
        "\n",
        "(b)\tHW1_P2: Problem 2\n",
        "\n",
        "(c)\tHW1_P3_1: Problem 3 with 64, 64, 10 units\n",
        "\n",
        "(d)\tHW1_P3_2: Problem 3 with 10, 10, 10 units\n",
        "\n",
        "(e) HW1_P4: Problem 4\n"
      ]
    },
    {
      "cell_type": "markdown",
      "metadata": {
        "id": "d6gqtjc_mLWr",
        "colab_type": "text"
      },
      "source": [
        ""
      ]
    }
  ]
}