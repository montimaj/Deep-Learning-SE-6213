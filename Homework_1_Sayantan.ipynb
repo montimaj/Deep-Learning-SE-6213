{
  "nbformat": 4,
  "nbformat_minor": 0,
  "metadata": {
    "colab": {
      "name": "Homework 1_Sayantan.ipynb",
      "provenance": [],
      "collapsed_sections": [],
      "include_colab_link": true
    },
    "kernelspec": {
      "name": "python3",
      "display_name": "Python 3"
    }
  },
  "cells": [
    {
      "cell_type": "markdown",
      "metadata": {
        "id": "view-in-github",
        "colab_type": "text"
      },
      "source": [
        "<a href=\"https://colab.research.google.com/github/montimaj/Deep-Learning-SE-6213/blob/master/Homework_1_Sayantan.ipynb\" target=\"_parent\"><img src=\"https://colab.research.google.com/assets/colab-badge.svg\" alt=\"Open In Colab\"/></a>"
      ]
    },
    {
      "cell_type": "markdown",
      "metadata": {
        "id": "hxquXacey-jC",
        "colab_type": "text"
      },
      "source": [
        ""
      ]
    },
    {
      "cell_type": "code",
      "metadata": {
        "id": "w5q7ZTR-7P8r",
        "colab_type": "code",
        "colab": {}
      },
      "source": [
        ""
      ],
      "execution_count": null,
      "outputs": []
    },
    {
      "cell_type": "markdown",
      "metadata": {
        "id": "_fOWczMGzCEe",
        "colab_type": "text"
      },
      "source": [
        ""
      ]
    },
    {
      "cell_type": "code",
      "metadata": {
        "id": "uTcPTAlXzD-A",
        "colab_type": "code",
        "colab": {}
      },
      "source": [
        "import tensorflow as tf\n",
        "import numpy as np\n",
        "from  tensorflow import keras"
      ],
      "execution_count": 1,
      "outputs": []
    },
    {
      "cell_type": "code",
      "metadata": {
        "id": "8ixJrEaozj7d",
        "colab_type": "code",
        "colab": {}
      },
      "source": [
        "# choosing a random seed for reproducibility\n",
        "np.random.seed(1234) # used for different seeds, 0, 42, 32768, and 1234"
      ],
      "execution_count": 24,
      "outputs": []
    },
    {
      "cell_type": "code",
      "metadata": {
        "id": "wJbVaFGkzrx5",
        "colab_type": "code",
        "colab": {}
      },
      "source": [
        "# network and training \n",
        "EPOCHS = 200\n",
        "BATCH_SIZE = 128\n",
        "VERBOSE = 1\n",
        "NB_CLASSES = 10 #number of outputs =  Number of digits\n",
        "N_HIDDEN = 128\n",
        "VALIDATION_SPLIT = 0.2 # How much data is reserved for validation"
      ],
      "execution_count": 25,
      "outputs": []
    },
    {
      "cell_type": "code",
      "metadata": {
        "id": "cQ6OvRr7zsK7",
        "colab_type": "code",
        "colab": {
          "base_uri": "https://localhost:8080/",
          "height": 52
        },
        "outputId": "72ca15da-3fa4-4b16-e717-922bf700666b"
      },
      "source": [
        "# loading MNIST dataset\n",
        "# verify the split between train and test is 60,000 and 10,000 respectively one -hot is automatically applied\n",
        "mnist = keras.datasets.mnist\n",
        "(X_train, Y_train), (X_test, Y_test) = mnist.load_data()\n",
        "print(X_train.shape[0], 'train samples')\n",
        "print(X_test.shape[0], ' test samples')\n",
        "      \n",
        "     \n",
        "    \n",
        "\n"
      ],
      "execution_count": 26,
      "outputs": [
        {
          "output_type": "stream",
          "text": [
            "60000 train samples\n",
            "10000  test samples\n"
          ],
          "name": "stdout"
        }
      ]
    },
    {
      "cell_type": "code",
      "metadata": {
        "id": "v9Iut5MDoA-K",
        "colab_type": "code",
        "colab": {}
      },
      "source": [
        "RESHAPED=784\n",
        "X_train = X_train.reshape(60000, RESHAPED)\n",
        "X_test = X_test.reshape(10000, RESHAPED)\n",
        "X_train = X_train.astype('float32')\n",
        "X_test = X_test.astype('float32')"
      ],
      "execution_count": 27,
      "outputs": []
    },
    {
      "cell_type": "code",
      "metadata": {
        "id": "lbMsbMWpFFwX",
        "colab_type": "code",
        "colab": {
          "base_uri": "https://localhost:8080/",
          "height": 52
        },
        "outputId": "916a759b-7a6c-404b-8443-d90d674654af"
      },
      "source": [
        "#normalize in [0,1]\n",
        "X_train, X_test = X_train / 255.0, X_test / 255.0\n",
        "print(X_train.shape[0], 'train samples')\n",
        "print(X_test.shape[0], 'test samples')"
      ],
      "execution_count": 28,
      "outputs": [
        {
          "output_type": "stream",
          "text": [
            "60000 train samples\n",
            "10000 test samples\n"
          ],
          "name": "stdout"
        }
      ]
    },
    {
      "cell_type": "code",
      "metadata": {
        "id": "9QBkl36uF7PM",
        "colab_type": "code",
        "colab": {}
      },
      "source": [
        "#one-hot\n",
        "Y_train = tf.keras.utils.to_categorical(Y_train, NB_CLASSES)\n",
        "Y_test = tf.keras.utils.to_categorical(Y_test, NB_CLASSES)"
      ],
      "execution_count": 29,
      "outputs": []
    },
    {
      "cell_type": "code",
      "metadata": {
        "id": "Tql6UBJsG3eJ",
        "colab_type": "code",
        "colab": {
          "base_uri": "https://localhost:8080/",
          "height": 193
        },
        "outputId": "c27ff392-e558-49bc-d4c0-c7b33610cbf3"
      },
      "source": [
        "#build the model\n",
        "model = tf.keras.models.Sequential()\n",
        "model.add(keras.layers.Dense(NB_CLASSES,\n",
        "   \t\tinput_shape=(RESHAPED,),\n",
        "   \t\tname='dense_layer', \n",
        "   \t\tactivation='softmax'))\n",
        "\n",
        "# summary of the model\n",
        "model.summary()"
      ],
      "execution_count": 30,
      "outputs": [
        {
          "output_type": "stream",
          "text": [
            "Model: \"sequential_2\"\n",
            "_________________________________________________________________\n",
            "Layer (type)                 Output Shape              Param #   \n",
            "=================================================================\n",
            "dense_layer (Dense)          (None, 10)                7850      \n",
            "=================================================================\n",
            "Total params: 7,850\n",
            "Trainable params: 7,850\n",
            "Non-trainable params: 0\n",
            "_________________________________________________________________\n"
          ],
          "name": "stdout"
        }
      ]
    },
    {
      "cell_type": "code",
      "metadata": {
        "id": "mKyDv0_aHd8k",
        "colab_type": "code",
        "colab": {}
      },
      "source": [
        "# compiling the model\n",
        "model.compile(optimizer='SGD', \n",
        "              loss='categorical_crossentropy',\n",
        "              metrics=['accuracy'])"
      ],
      "execution_count": 31,
      "outputs": []
    },
    {
      "cell_type": "code",
      "metadata": {
        "id": "CDPjwMRaIBTn",
        "colab_type": "code",
        "colab": {
          "base_uri": "https://localhost:8080/",
          "height": 1000
        },
        "outputId": "916c0cfa-1d63-4f8e-f23e-c0e842732333"
      },
      "source": [
        "#training the model\n",
        "model.fit(X_train, Y_train,\n",
        "\t\tbatch_size=BATCH_SIZE, epochs=EPOCHS,\n",
        "\t\tverbose=VERBOSE, validation_split=VALIDATION_SPLIT)"
      ],
      "execution_count": 32,
      "outputs": [
        {
          "output_type": "stream",
          "text": [
            "Epoch 1/200\n",
            "375/375 [==============================] - 1s 2ms/step - loss: 1.3621 - accuracy: 0.6823 - val_loss: 0.8933 - val_accuracy: 0.8268\n",
            "Epoch 2/200\n",
            "375/375 [==============================] - 1s 2ms/step - loss: 0.7929 - accuracy: 0.8268 - val_loss: 0.6589 - val_accuracy: 0.8566\n",
            "Epoch 3/200\n",
            "375/375 [==============================] - 1s 2ms/step - loss: 0.6449 - accuracy: 0.8494 - val_loss: 0.5637 - val_accuracy: 0.8701\n",
            "Epoch 4/200\n",
            "375/375 [==============================] - 1s 2ms/step - loss: 0.5729 - accuracy: 0.8607 - val_loss: 0.5106 - val_accuracy: 0.8773\n",
            "Epoch 5/200\n",
            "375/375 [==============================] - 1s 2ms/step - loss: 0.5288 - accuracy: 0.8677 - val_loss: 0.4763 - val_accuracy: 0.8829\n",
            "Epoch 6/200\n",
            "375/375 [==============================] - 1s 2ms/step - loss: 0.4985 - accuracy: 0.8731 - val_loss: 0.4519 - val_accuracy: 0.8871\n",
            "Epoch 7/200\n",
            "375/375 [==============================] - 1s 2ms/step - loss: 0.4760 - accuracy: 0.8765 - val_loss: 0.4337 - val_accuracy: 0.8911\n",
            "Epoch 8/200\n",
            "375/375 [==============================] - 1s 2ms/step - loss: 0.4586 - accuracy: 0.8801 - val_loss: 0.4197 - val_accuracy: 0.8931\n",
            "Epoch 9/200\n",
            "375/375 [==============================] - 1s 2ms/step - loss: 0.4446 - accuracy: 0.8822 - val_loss: 0.4079 - val_accuracy: 0.8955\n",
            "Epoch 10/200\n",
            "375/375 [==============================] - 1s 2ms/step - loss: 0.4329 - accuracy: 0.8853 - val_loss: 0.3983 - val_accuracy: 0.8967\n",
            "Epoch 11/200\n",
            "375/375 [==============================] - 1s 2ms/step - loss: 0.4230 - accuracy: 0.8865 - val_loss: 0.3901 - val_accuracy: 0.8974\n",
            "Epoch 12/200\n",
            "375/375 [==============================] - 1s 2ms/step - loss: 0.4145 - accuracy: 0.8882 - val_loss: 0.3830 - val_accuracy: 0.8997\n",
            "Epoch 13/200\n",
            "375/375 [==============================] - 1s 2ms/step - loss: 0.4071 - accuracy: 0.8895 - val_loss: 0.3771 - val_accuracy: 0.8997\n",
            "Epoch 14/200\n",
            "375/375 [==============================] - 1s 2ms/step - loss: 0.4006 - accuracy: 0.8912 - val_loss: 0.3716 - val_accuracy: 0.9014\n",
            "Epoch 15/200\n",
            "375/375 [==============================] - 1s 2ms/step - loss: 0.3947 - accuracy: 0.8925 - val_loss: 0.3667 - val_accuracy: 0.9018\n",
            "Epoch 16/200\n",
            "375/375 [==============================] - 1s 2ms/step - loss: 0.3895 - accuracy: 0.8936 - val_loss: 0.3625 - val_accuracy: 0.9036\n",
            "Epoch 17/200\n",
            "375/375 [==============================] - 1s 2ms/step - loss: 0.3848 - accuracy: 0.8945 - val_loss: 0.3586 - val_accuracy: 0.9042\n",
            "Epoch 18/200\n",
            "375/375 [==============================] - 1s 2ms/step - loss: 0.3804 - accuracy: 0.8955 - val_loss: 0.3550 - val_accuracy: 0.9039\n",
            "Epoch 19/200\n",
            "375/375 [==============================] - 1s 2ms/step - loss: 0.3764 - accuracy: 0.8966 - val_loss: 0.3517 - val_accuracy: 0.9053\n",
            "Epoch 20/200\n",
            "375/375 [==============================] - 1s 2ms/step - loss: 0.3728 - accuracy: 0.8976 - val_loss: 0.3487 - val_accuracy: 0.9051\n",
            "Epoch 21/200\n",
            "375/375 [==============================] - 1s 2ms/step - loss: 0.3694 - accuracy: 0.8984 - val_loss: 0.3460 - val_accuracy: 0.9057\n",
            "Epoch 22/200\n",
            "375/375 [==============================] - 1s 2ms/step - loss: 0.3663 - accuracy: 0.8993 - val_loss: 0.3434 - val_accuracy: 0.9058\n",
            "Epoch 23/200\n",
            "375/375 [==============================] - 1s 2ms/step - loss: 0.3633 - accuracy: 0.8997 - val_loss: 0.3410 - val_accuracy: 0.9066\n",
            "Epoch 24/200\n",
            "375/375 [==============================] - 1s 2ms/step - loss: 0.3606 - accuracy: 0.9003 - val_loss: 0.3388 - val_accuracy: 0.9070\n",
            "Epoch 25/200\n",
            "375/375 [==============================] - 1s 2ms/step - loss: 0.3580 - accuracy: 0.9012 - val_loss: 0.3368 - val_accuracy: 0.9078\n",
            "Epoch 26/200\n",
            "375/375 [==============================] - 1s 2ms/step - loss: 0.3556 - accuracy: 0.9017 - val_loss: 0.3346 - val_accuracy: 0.9078\n",
            "Epoch 27/200\n",
            "375/375 [==============================] - 1s 2ms/step - loss: 0.3533 - accuracy: 0.9023 - val_loss: 0.3329 - val_accuracy: 0.9079\n",
            "Epoch 28/200\n",
            "375/375 [==============================] - 1s 2ms/step - loss: 0.3512 - accuracy: 0.9029 - val_loss: 0.3311 - val_accuracy: 0.9087\n",
            "Epoch 29/200\n",
            "375/375 [==============================] - 1s 2ms/step - loss: 0.3491 - accuracy: 0.9032 - val_loss: 0.3295 - val_accuracy: 0.9097\n",
            "Epoch 30/200\n",
            "375/375 [==============================] - 1s 2ms/step - loss: 0.3472 - accuracy: 0.9032 - val_loss: 0.3280 - val_accuracy: 0.9099\n",
            "Epoch 31/200\n",
            "375/375 [==============================] - 1s 2ms/step - loss: 0.3453 - accuracy: 0.9040 - val_loss: 0.3263 - val_accuracy: 0.9106\n",
            "Epoch 32/200\n",
            "375/375 [==============================] - 1s 2ms/step - loss: 0.3435 - accuracy: 0.9047 - val_loss: 0.3250 - val_accuracy: 0.9105\n",
            "Epoch 33/200\n",
            "375/375 [==============================] - 1s 2ms/step - loss: 0.3419 - accuracy: 0.9047 - val_loss: 0.3237 - val_accuracy: 0.9113\n",
            "Epoch 34/200\n",
            "375/375 [==============================] - 1s 2ms/step - loss: 0.3403 - accuracy: 0.9054 - val_loss: 0.3223 - val_accuracy: 0.9113\n",
            "Epoch 35/200\n",
            "375/375 [==============================] - 1s 2ms/step - loss: 0.3387 - accuracy: 0.9058 - val_loss: 0.3210 - val_accuracy: 0.9120\n",
            "Epoch 36/200\n",
            "375/375 [==============================] - 1s 2ms/step - loss: 0.3373 - accuracy: 0.9068 - val_loss: 0.3200 - val_accuracy: 0.9117\n",
            "Epoch 37/200\n",
            "375/375 [==============================] - 1s 2ms/step - loss: 0.3359 - accuracy: 0.9069 - val_loss: 0.3187 - val_accuracy: 0.9122\n",
            "Epoch 38/200\n",
            "375/375 [==============================] - 1s 2ms/step - loss: 0.3345 - accuracy: 0.9073 - val_loss: 0.3177 - val_accuracy: 0.9123\n",
            "Epoch 39/200\n",
            "375/375 [==============================] - 1s 2ms/step - loss: 0.3332 - accuracy: 0.9072 - val_loss: 0.3167 - val_accuracy: 0.9124\n",
            "Epoch 40/200\n",
            "375/375 [==============================] - 1s 2ms/step - loss: 0.3320 - accuracy: 0.9079 - val_loss: 0.3157 - val_accuracy: 0.9129\n",
            "Epoch 41/200\n",
            "375/375 [==============================] - 1s 2ms/step - loss: 0.3308 - accuracy: 0.9084 - val_loss: 0.3147 - val_accuracy: 0.9130\n",
            "Epoch 42/200\n",
            "375/375 [==============================] - 1s 2ms/step - loss: 0.3296 - accuracy: 0.9088 - val_loss: 0.3138 - val_accuracy: 0.9131\n",
            "Epoch 43/200\n",
            "375/375 [==============================] - 1s 2ms/step - loss: 0.3285 - accuracy: 0.9088 - val_loss: 0.3129 - val_accuracy: 0.9137\n",
            "Epoch 44/200\n",
            "375/375 [==============================] - 1s 2ms/step - loss: 0.3274 - accuracy: 0.9090 - val_loss: 0.3120 - val_accuracy: 0.9137\n",
            "Epoch 45/200\n",
            "375/375 [==============================] - 1s 2ms/step - loss: 0.3263 - accuracy: 0.9094 - val_loss: 0.3113 - val_accuracy: 0.9139\n",
            "Epoch 46/200\n",
            "375/375 [==============================] - 1s 2ms/step - loss: 0.3253 - accuracy: 0.9098 - val_loss: 0.3105 - val_accuracy: 0.9144\n",
            "Epoch 47/200\n",
            "375/375 [==============================] - 1s 2ms/step - loss: 0.3243 - accuracy: 0.9101 - val_loss: 0.3097 - val_accuracy: 0.9145\n",
            "Epoch 48/200\n",
            "375/375 [==============================] - 1s 2ms/step - loss: 0.3234 - accuracy: 0.9103 - val_loss: 0.3090 - val_accuracy: 0.9149\n",
            "Epoch 49/200\n",
            "375/375 [==============================] - 1s 2ms/step - loss: 0.3225 - accuracy: 0.9104 - val_loss: 0.3082 - val_accuracy: 0.9147\n",
            "Epoch 50/200\n",
            "375/375 [==============================] - 1s 2ms/step - loss: 0.3216 - accuracy: 0.9106 - val_loss: 0.3076 - val_accuracy: 0.9150\n",
            "Epoch 51/200\n",
            "375/375 [==============================] - 1s 2ms/step - loss: 0.3207 - accuracy: 0.9109 - val_loss: 0.3068 - val_accuracy: 0.9155\n",
            "Epoch 52/200\n",
            "375/375 [==============================] - 1s 2ms/step - loss: 0.3199 - accuracy: 0.9109 - val_loss: 0.3062 - val_accuracy: 0.9155\n",
            "Epoch 53/200\n",
            "375/375 [==============================] - 1s 2ms/step - loss: 0.3190 - accuracy: 0.9117 - val_loss: 0.3056 - val_accuracy: 0.9156\n",
            "Epoch 54/200\n",
            "375/375 [==============================] - 1s 2ms/step - loss: 0.3182 - accuracy: 0.9114 - val_loss: 0.3049 - val_accuracy: 0.9154\n",
            "Epoch 55/200\n",
            "375/375 [==============================] - 1s 2ms/step - loss: 0.3175 - accuracy: 0.9118 - val_loss: 0.3043 - val_accuracy: 0.9154\n",
            "Epoch 56/200\n",
            "375/375 [==============================] - 1s 2ms/step - loss: 0.3167 - accuracy: 0.9124 - val_loss: 0.3038 - val_accuracy: 0.9154\n",
            "Epoch 57/200\n",
            "375/375 [==============================] - 1s 2ms/step - loss: 0.3159 - accuracy: 0.9122 - val_loss: 0.3033 - val_accuracy: 0.9153\n",
            "Epoch 58/200\n",
            "375/375 [==============================] - 1s 2ms/step - loss: 0.3153 - accuracy: 0.9129 - val_loss: 0.3027 - val_accuracy: 0.9161\n",
            "Epoch 59/200\n",
            "375/375 [==============================] - 1s 2ms/step - loss: 0.3146 - accuracy: 0.9126 - val_loss: 0.3021 - val_accuracy: 0.9158\n",
            "Epoch 60/200\n",
            "375/375 [==============================] - 1s 2ms/step - loss: 0.3139 - accuracy: 0.9134 - val_loss: 0.3017 - val_accuracy: 0.9161\n",
            "Epoch 61/200\n",
            "375/375 [==============================] - 1s 2ms/step - loss: 0.3132 - accuracy: 0.9130 - val_loss: 0.3011 - val_accuracy: 0.9162\n",
            "Epoch 62/200\n",
            "375/375 [==============================] - 1s 2ms/step - loss: 0.3125 - accuracy: 0.9136 - val_loss: 0.3006 - val_accuracy: 0.9164\n",
            "Epoch 63/200\n",
            "375/375 [==============================] - 1s 2ms/step - loss: 0.3119 - accuracy: 0.9136 - val_loss: 0.3001 - val_accuracy: 0.9162\n",
            "Epoch 64/200\n",
            "375/375 [==============================] - 1s 2ms/step - loss: 0.3113 - accuracy: 0.9137 - val_loss: 0.2997 - val_accuracy: 0.9169\n",
            "Epoch 65/200\n",
            "375/375 [==============================] - 1s 2ms/step - loss: 0.3107 - accuracy: 0.9135 - val_loss: 0.2991 - val_accuracy: 0.9171\n",
            "Epoch 66/200\n",
            "375/375 [==============================] - 1s 2ms/step - loss: 0.3101 - accuracy: 0.9140 - val_loss: 0.2987 - val_accuracy: 0.9170\n",
            "Epoch 67/200\n",
            "375/375 [==============================] - 1s 2ms/step - loss: 0.3095 - accuracy: 0.9142 - val_loss: 0.2984 - val_accuracy: 0.9168\n",
            "Epoch 68/200\n",
            "375/375 [==============================] - 1s 2ms/step - loss: 0.3090 - accuracy: 0.9146 - val_loss: 0.2979 - val_accuracy: 0.9170\n",
            "Epoch 69/200\n",
            "375/375 [==============================] - 1s 2ms/step - loss: 0.3084 - accuracy: 0.9146 - val_loss: 0.2975 - val_accuracy: 0.9169\n",
            "Epoch 70/200\n",
            "375/375 [==============================] - 1s 2ms/step - loss: 0.3078 - accuracy: 0.9148 - val_loss: 0.2971 - val_accuracy: 0.9171\n",
            "Epoch 71/200\n",
            "375/375 [==============================] - 1s 2ms/step - loss: 0.3073 - accuracy: 0.9147 - val_loss: 0.2968 - val_accuracy: 0.9174\n",
            "Epoch 72/200\n",
            "375/375 [==============================] - 1s 2ms/step - loss: 0.3068 - accuracy: 0.9149 - val_loss: 0.2963 - val_accuracy: 0.9177\n",
            "Epoch 73/200\n",
            "375/375 [==============================] - 1s 2ms/step - loss: 0.3063 - accuracy: 0.9151 - val_loss: 0.2960 - val_accuracy: 0.9172\n",
            "Epoch 74/200\n",
            "375/375 [==============================] - 1s 2ms/step - loss: 0.3058 - accuracy: 0.9154 - val_loss: 0.2956 - val_accuracy: 0.9172\n",
            "Epoch 75/200\n",
            "375/375 [==============================] - 1s 2ms/step - loss: 0.3053 - accuracy: 0.9155 - val_loss: 0.2952 - val_accuracy: 0.9175\n",
            "Epoch 76/200\n",
            "375/375 [==============================] - 1s 2ms/step - loss: 0.3048 - accuracy: 0.9153 - val_loss: 0.2948 - val_accuracy: 0.9180\n",
            "Epoch 77/200\n",
            "375/375 [==============================] - 1s 2ms/step - loss: 0.3044 - accuracy: 0.9155 - val_loss: 0.2945 - val_accuracy: 0.9178\n",
            "Epoch 78/200\n",
            "375/375 [==============================] - 1s 2ms/step - loss: 0.3039 - accuracy: 0.9156 - val_loss: 0.2941 - val_accuracy: 0.9180\n",
            "Epoch 79/200\n",
            "375/375 [==============================] - 1s 2ms/step - loss: 0.3034 - accuracy: 0.9160 - val_loss: 0.2938 - val_accuracy: 0.9180\n",
            "Epoch 80/200\n",
            "375/375 [==============================] - 1s 2ms/step - loss: 0.3030 - accuracy: 0.9159 - val_loss: 0.2935 - val_accuracy: 0.9177\n",
            "Epoch 81/200\n",
            "375/375 [==============================] - 1s 2ms/step - loss: 0.3025 - accuracy: 0.9160 - val_loss: 0.2932 - val_accuracy: 0.9177\n",
            "Epoch 82/200\n",
            "375/375 [==============================] - 1s 2ms/step - loss: 0.3021 - accuracy: 0.9163 - val_loss: 0.2928 - val_accuracy: 0.9181\n",
            "Epoch 83/200\n",
            "375/375 [==============================] - 1s 2ms/step - loss: 0.3017 - accuracy: 0.9164 - val_loss: 0.2925 - val_accuracy: 0.9182\n",
            "Epoch 84/200\n",
            "375/375 [==============================] - 1s 2ms/step - loss: 0.3013 - accuracy: 0.9162 - val_loss: 0.2922 - val_accuracy: 0.9180\n",
            "Epoch 85/200\n",
            "375/375 [==============================] - 1s 2ms/step - loss: 0.3009 - accuracy: 0.9164 - val_loss: 0.2919 - val_accuracy: 0.9183\n",
            "Epoch 86/200\n",
            "375/375 [==============================] - 1s 2ms/step - loss: 0.3005 - accuracy: 0.9165 - val_loss: 0.2916 - val_accuracy: 0.9187\n",
            "Epoch 87/200\n",
            "375/375 [==============================] - 1s 2ms/step - loss: 0.3001 - accuracy: 0.9167 - val_loss: 0.2913 - val_accuracy: 0.9187\n",
            "Epoch 88/200\n",
            "375/375 [==============================] - 1s 2ms/step - loss: 0.2997 - accuracy: 0.9169 - val_loss: 0.2911 - val_accuracy: 0.9188\n",
            "Epoch 89/200\n",
            "375/375 [==============================] - 1s 2ms/step - loss: 0.2993 - accuracy: 0.9168 - val_loss: 0.2909 - val_accuracy: 0.9186\n",
            "Epoch 90/200\n",
            "375/375 [==============================] - 1s 2ms/step - loss: 0.2989 - accuracy: 0.9166 - val_loss: 0.2906 - val_accuracy: 0.9193\n",
            "Epoch 91/200\n",
            "375/375 [==============================] - 1s 2ms/step - loss: 0.2986 - accuracy: 0.9172 - val_loss: 0.2903 - val_accuracy: 0.9189\n",
            "Epoch 92/200\n",
            "375/375 [==============================] - 1s 2ms/step - loss: 0.2982 - accuracy: 0.9171 - val_loss: 0.2899 - val_accuracy: 0.9189\n",
            "Epoch 93/200\n",
            "375/375 [==============================] - 1s 2ms/step - loss: 0.2979 - accuracy: 0.9172 - val_loss: 0.2897 - val_accuracy: 0.9189\n",
            "Epoch 94/200\n",
            "375/375 [==============================] - 1s 2ms/step - loss: 0.2975 - accuracy: 0.9171 - val_loss: 0.2895 - val_accuracy: 0.9194\n",
            "Epoch 95/200\n",
            "375/375 [==============================] - 1s 2ms/step - loss: 0.2971 - accuracy: 0.9174 - val_loss: 0.2892 - val_accuracy: 0.9189\n",
            "Epoch 96/200\n",
            "375/375 [==============================] - 1s 2ms/step - loss: 0.2968 - accuracy: 0.9174 - val_loss: 0.2890 - val_accuracy: 0.9194\n",
            "Epoch 97/200\n",
            "375/375 [==============================] - 1s 2ms/step - loss: 0.2965 - accuracy: 0.9176 - val_loss: 0.2888 - val_accuracy: 0.9197\n",
            "Epoch 98/200\n",
            "375/375 [==============================] - 1s 2ms/step - loss: 0.2961 - accuracy: 0.9173 - val_loss: 0.2886 - val_accuracy: 0.9193\n",
            "Epoch 99/200\n",
            "375/375 [==============================] - 1s 2ms/step - loss: 0.2958 - accuracy: 0.9175 - val_loss: 0.2883 - val_accuracy: 0.9194\n",
            "Epoch 100/200\n",
            "375/375 [==============================] - 1s 2ms/step - loss: 0.2955 - accuracy: 0.9178 - val_loss: 0.2881 - val_accuracy: 0.9196\n",
            "Epoch 101/200\n",
            "375/375 [==============================] - 1s 2ms/step - loss: 0.2951 - accuracy: 0.9177 - val_loss: 0.2879 - val_accuracy: 0.9195\n",
            "Epoch 102/200\n",
            "375/375 [==============================] - 1s 2ms/step - loss: 0.2948 - accuracy: 0.9179 - val_loss: 0.2876 - val_accuracy: 0.9192\n",
            "Epoch 103/200\n",
            "375/375 [==============================] - 1s 2ms/step - loss: 0.2945 - accuracy: 0.9182 - val_loss: 0.2875 - val_accuracy: 0.9196\n",
            "Epoch 104/200\n",
            "375/375 [==============================] - 1s 2ms/step - loss: 0.2942 - accuracy: 0.9179 - val_loss: 0.2872 - val_accuracy: 0.9196\n",
            "Epoch 105/200\n",
            "375/375 [==============================] - 1s 2ms/step - loss: 0.2939 - accuracy: 0.9182 - val_loss: 0.2870 - val_accuracy: 0.9202\n",
            "Epoch 106/200\n",
            "375/375 [==============================] - 1s 2ms/step - loss: 0.2936 - accuracy: 0.9181 - val_loss: 0.2868 - val_accuracy: 0.9199\n",
            "Epoch 107/200\n",
            "375/375 [==============================] - 1s 2ms/step - loss: 0.2933 - accuracy: 0.9184 - val_loss: 0.2866 - val_accuracy: 0.9200\n",
            "Epoch 108/200\n",
            "375/375 [==============================] - 1s 2ms/step - loss: 0.2931 - accuracy: 0.9184 - val_loss: 0.2864 - val_accuracy: 0.9197\n",
            "Epoch 109/200\n",
            "375/375 [==============================] - 1s 2ms/step - loss: 0.2928 - accuracy: 0.9184 - val_loss: 0.2862 - val_accuracy: 0.9201\n",
            "Epoch 110/200\n",
            "375/375 [==============================] - 1s 2ms/step - loss: 0.2925 - accuracy: 0.9186 - val_loss: 0.2860 - val_accuracy: 0.9201\n",
            "Epoch 111/200\n",
            "375/375 [==============================] - 1s 2ms/step - loss: 0.2922 - accuracy: 0.9187 - val_loss: 0.2858 - val_accuracy: 0.9202\n",
            "Epoch 112/200\n",
            "375/375 [==============================] - 1s 2ms/step - loss: 0.2919 - accuracy: 0.9189 - val_loss: 0.2856 - val_accuracy: 0.9199\n",
            "Epoch 113/200\n",
            "375/375 [==============================] - 1s 2ms/step - loss: 0.2917 - accuracy: 0.9186 - val_loss: 0.2854 - val_accuracy: 0.9200\n",
            "Epoch 114/200\n",
            "375/375 [==============================] - 1s 2ms/step - loss: 0.2914 - accuracy: 0.9189 - val_loss: 0.2852 - val_accuracy: 0.9201\n",
            "Epoch 115/200\n",
            "375/375 [==============================] - 1s 2ms/step - loss: 0.2911 - accuracy: 0.9186 - val_loss: 0.2851 - val_accuracy: 0.9200\n",
            "Epoch 116/200\n",
            "375/375 [==============================] - 1s 2ms/step - loss: 0.2909 - accuracy: 0.9190 - val_loss: 0.2849 - val_accuracy: 0.9199\n",
            "Epoch 117/200\n",
            "375/375 [==============================] - 1s 2ms/step - loss: 0.2906 - accuracy: 0.9188 - val_loss: 0.2848 - val_accuracy: 0.9203\n",
            "Epoch 118/200\n",
            "375/375 [==============================] - 1s 2ms/step - loss: 0.2903 - accuracy: 0.9189 - val_loss: 0.2846 - val_accuracy: 0.9204\n",
            "Epoch 119/200\n",
            "375/375 [==============================] - 1s 2ms/step - loss: 0.2901 - accuracy: 0.9191 - val_loss: 0.2845 - val_accuracy: 0.9204\n",
            "Epoch 120/200\n",
            "375/375 [==============================] - 1s 2ms/step - loss: 0.2899 - accuracy: 0.9191 - val_loss: 0.2841 - val_accuracy: 0.9204\n",
            "Epoch 121/200\n",
            "375/375 [==============================] - 1s 2ms/step - loss: 0.2896 - accuracy: 0.9193 - val_loss: 0.2840 - val_accuracy: 0.9203\n",
            "Epoch 122/200\n",
            "375/375 [==============================] - 1s 2ms/step - loss: 0.2894 - accuracy: 0.9192 - val_loss: 0.2839 - val_accuracy: 0.9206\n",
            "Epoch 123/200\n",
            "375/375 [==============================] - 1s 2ms/step - loss: 0.2892 - accuracy: 0.9193 - val_loss: 0.2837 - val_accuracy: 0.9205\n",
            "Epoch 124/200\n",
            "375/375 [==============================] - 1s 2ms/step - loss: 0.2889 - accuracy: 0.9193 - val_loss: 0.2835 - val_accuracy: 0.9208\n",
            "Epoch 125/200\n",
            "375/375 [==============================] - 1s 2ms/step - loss: 0.2887 - accuracy: 0.9197 - val_loss: 0.2834 - val_accuracy: 0.9205\n",
            "Epoch 126/200\n",
            "375/375 [==============================] - 1s 2ms/step - loss: 0.2884 - accuracy: 0.9197 - val_loss: 0.2834 - val_accuracy: 0.9206\n",
            "Epoch 127/200\n",
            "375/375 [==============================] - 1s 2ms/step - loss: 0.2882 - accuracy: 0.9197 - val_loss: 0.2831 - val_accuracy: 0.9204\n",
            "Epoch 128/200\n",
            "375/375 [==============================] - 1s 2ms/step - loss: 0.2880 - accuracy: 0.9200 - val_loss: 0.2829 - val_accuracy: 0.9206\n",
            "Epoch 129/200\n",
            "375/375 [==============================] - 1s 2ms/step - loss: 0.2877 - accuracy: 0.9197 - val_loss: 0.2828 - val_accuracy: 0.9208\n",
            "Epoch 130/200\n",
            "375/375 [==============================] - 1s 2ms/step - loss: 0.2875 - accuracy: 0.9200 - val_loss: 0.2828 - val_accuracy: 0.9204\n",
            "Epoch 131/200\n",
            "375/375 [==============================] - 1s 2ms/step - loss: 0.2873 - accuracy: 0.9197 - val_loss: 0.2825 - val_accuracy: 0.9206\n",
            "Epoch 132/200\n",
            "375/375 [==============================] - 1s 2ms/step - loss: 0.2871 - accuracy: 0.9202 - val_loss: 0.2824 - val_accuracy: 0.9204\n",
            "Epoch 133/200\n",
            "375/375 [==============================] - 1s 2ms/step - loss: 0.2869 - accuracy: 0.9198 - val_loss: 0.2822 - val_accuracy: 0.9201\n",
            "Epoch 134/200\n",
            "375/375 [==============================] - 1s 2ms/step - loss: 0.2867 - accuracy: 0.9197 - val_loss: 0.2821 - val_accuracy: 0.9209\n",
            "Epoch 135/200\n",
            "375/375 [==============================] - 1s 2ms/step - loss: 0.2865 - accuracy: 0.9202 - val_loss: 0.2819 - val_accuracy: 0.9206\n",
            "Epoch 136/200\n",
            "375/375 [==============================] - 1s 2ms/step - loss: 0.2862 - accuracy: 0.9201 - val_loss: 0.2818 - val_accuracy: 0.9207\n",
            "Epoch 137/200\n",
            "375/375 [==============================] - 1s 2ms/step - loss: 0.2860 - accuracy: 0.9203 - val_loss: 0.2817 - val_accuracy: 0.9208\n",
            "Epoch 138/200\n",
            "375/375 [==============================] - 1s 2ms/step - loss: 0.2858 - accuracy: 0.9202 - val_loss: 0.2816 - val_accuracy: 0.9207\n",
            "Epoch 139/200\n",
            "375/375 [==============================] - 1s 2ms/step - loss: 0.2856 - accuracy: 0.9202 - val_loss: 0.2814 - val_accuracy: 0.9209\n",
            "Epoch 140/200\n",
            "375/375 [==============================] - 1s 2ms/step - loss: 0.2854 - accuracy: 0.9202 - val_loss: 0.2813 - val_accuracy: 0.9207\n",
            "Epoch 141/200\n",
            "375/375 [==============================] - 1s 2ms/step - loss: 0.2852 - accuracy: 0.9203 - val_loss: 0.2812 - val_accuracy: 0.9206\n",
            "Epoch 142/200\n",
            "375/375 [==============================] - 1s 2ms/step - loss: 0.2851 - accuracy: 0.9205 - val_loss: 0.2810 - val_accuracy: 0.9207\n",
            "Epoch 143/200\n",
            "375/375 [==============================] - 1s 2ms/step - loss: 0.2848 - accuracy: 0.9206 - val_loss: 0.2809 - val_accuracy: 0.9206\n",
            "Epoch 144/200\n",
            "375/375 [==============================] - 1s 2ms/step - loss: 0.2847 - accuracy: 0.9204 - val_loss: 0.2807 - val_accuracy: 0.9208\n",
            "Epoch 145/200\n",
            "375/375 [==============================] - 1s 2ms/step - loss: 0.2844 - accuracy: 0.9206 - val_loss: 0.2806 - val_accuracy: 0.9212\n",
            "Epoch 146/200\n",
            "375/375 [==============================] - 1s 2ms/step - loss: 0.2843 - accuracy: 0.9207 - val_loss: 0.2806 - val_accuracy: 0.9210\n",
            "Epoch 147/200\n",
            "375/375 [==============================] - 1s 2ms/step - loss: 0.2841 - accuracy: 0.9206 - val_loss: 0.2805 - val_accuracy: 0.9208\n",
            "Epoch 148/200\n",
            "375/375 [==============================] - 1s 2ms/step - loss: 0.2839 - accuracy: 0.9207 - val_loss: 0.2803 - val_accuracy: 0.9208\n",
            "Epoch 149/200\n",
            "375/375 [==============================] - 1s 2ms/step - loss: 0.2837 - accuracy: 0.9208 - val_loss: 0.2802 - val_accuracy: 0.9214\n",
            "Epoch 150/200\n",
            "375/375 [==============================] - 1s 2ms/step - loss: 0.2835 - accuracy: 0.9209 - val_loss: 0.2800 - val_accuracy: 0.9213\n",
            "Epoch 151/200\n",
            "375/375 [==============================] - 1s 2ms/step - loss: 0.2834 - accuracy: 0.9208 - val_loss: 0.2799 - val_accuracy: 0.9211\n",
            "Epoch 152/200\n",
            "375/375 [==============================] - 1s 2ms/step - loss: 0.2832 - accuracy: 0.9210 - val_loss: 0.2798 - val_accuracy: 0.9211\n",
            "Epoch 153/200\n",
            "375/375 [==============================] - 1s 2ms/step - loss: 0.2830 - accuracy: 0.9212 - val_loss: 0.2797 - val_accuracy: 0.9211\n",
            "Epoch 154/200\n",
            "375/375 [==============================] - 1s 2ms/step - loss: 0.2828 - accuracy: 0.9212 - val_loss: 0.2796 - val_accuracy: 0.9216\n",
            "Epoch 155/200\n",
            "375/375 [==============================] - 1s 2ms/step - loss: 0.2827 - accuracy: 0.9211 - val_loss: 0.2795 - val_accuracy: 0.9212\n",
            "Epoch 156/200\n",
            "375/375 [==============================] - 1s 2ms/step - loss: 0.2825 - accuracy: 0.9211 - val_loss: 0.2794 - val_accuracy: 0.9211\n",
            "Epoch 157/200\n",
            "375/375 [==============================] - 1s 2ms/step - loss: 0.2823 - accuracy: 0.9214 - val_loss: 0.2793 - val_accuracy: 0.9211\n",
            "Epoch 158/200\n",
            "375/375 [==============================] - 1s 2ms/step - loss: 0.2821 - accuracy: 0.9211 - val_loss: 0.2792 - val_accuracy: 0.9216\n",
            "Epoch 159/200\n",
            "375/375 [==============================] - 1s 2ms/step - loss: 0.2819 - accuracy: 0.9213 - val_loss: 0.2792 - val_accuracy: 0.9213\n",
            "Epoch 160/200\n",
            "375/375 [==============================] - 1s 2ms/step - loss: 0.2818 - accuracy: 0.9215 - val_loss: 0.2790 - val_accuracy: 0.9212\n",
            "Epoch 161/200\n",
            "375/375 [==============================] - 1s 2ms/step - loss: 0.2816 - accuracy: 0.9214 - val_loss: 0.2789 - val_accuracy: 0.9210\n",
            "Epoch 162/200\n",
            "375/375 [==============================] - 1s 2ms/step - loss: 0.2815 - accuracy: 0.9218 - val_loss: 0.2788 - val_accuracy: 0.9217\n",
            "Epoch 163/200\n",
            "375/375 [==============================] - 1s 2ms/step - loss: 0.2813 - accuracy: 0.9217 - val_loss: 0.2787 - val_accuracy: 0.9212\n",
            "Epoch 164/200\n",
            "375/375 [==============================] - 1s 2ms/step - loss: 0.2812 - accuracy: 0.9216 - val_loss: 0.2786 - val_accuracy: 0.9214\n",
            "Epoch 165/200\n",
            "375/375 [==============================] - 1s 2ms/step - loss: 0.2810 - accuracy: 0.9216 - val_loss: 0.2785 - val_accuracy: 0.9212\n",
            "Epoch 166/200\n",
            "375/375 [==============================] - 1s 2ms/step - loss: 0.2808 - accuracy: 0.9219 - val_loss: 0.2784 - val_accuracy: 0.9217\n",
            "Epoch 167/200\n",
            "375/375 [==============================] - 1s 2ms/step - loss: 0.2807 - accuracy: 0.9219 - val_loss: 0.2784 - val_accuracy: 0.9211\n",
            "Epoch 168/200\n",
            "375/375 [==============================] - 1s 2ms/step - loss: 0.2805 - accuracy: 0.9220 - val_loss: 0.2782 - val_accuracy: 0.9212\n",
            "Epoch 169/200\n",
            "375/375 [==============================] - 1s 2ms/step - loss: 0.2804 - accuracy: 0.9216 - val_loss: 0.2781 - val_accuracy: 0.9216\n",
            "Epoch 170/200\n",
            "375/375 [==============================] - 1s 2ms/step - loss: 0.2802 - accuracy: 0.9218 - val_loss: 0.2781 - val_accuracy: 0.9214\n",
            "Epoch 171/200\n",
            "375/375 [==============================] - 1s 2ms/step - loss: 0.2801 - accuracy: 0.9218 - val_loss: 0.2779 - val_accuracy: 0.9215\n",
            "Epoch 172/200\n",
            "375/375 [==============================] - 1s 2ms/step - loss: 0.2799 - accuracy: 0.9222 - val_loss: 0.2778 - val_accuracy: 0.9218\n",
            "Epoch 173/200\n",
            "375/375 [==============================] - 1s 2ms/step - loss: 0.2798 - accuracy: 0.9222 - val_loss: 0.2778 - val_accuracy: 0.9218\n",
            "Epoch 174/200\n",
            "375/375 [==============================] - 1s 2ms/step - loss: 0.2797 - accuracy: 0.9222 - val_loss: 0.2777 - val_accuracy: 0.9216\n",
            "Epoch 175/200\n",
            "375/375 [==============================] - 1s 2ms/step - loss: 0.2795 - accuracy: 0.9222 - val_loss: 0.2776 - val_accuracy: 0.9217\n",
            "Epoch 176/200\n",
            "375/375 [==============================] - 1s 2ms/step - loss: 0.2793 - accuracy: 0.9221 - val_loss: 0.2774 - val_accuracy: 0.9219\n",
            "Epoch 177/200\n",
            "375/375 [==============================] - 1s 2ms/step - loss: 0.2792 - accuracy: 0.9220 - val_loss: 0.2774 - val_accuracy: 0.9219\n",
            "Epoch 178/200\n",
            "375/375 [==============================] - 1s 2ms/step - loss: 0.2790 - accuracy: 0.9223 - val_loss: 0.2774 - val_accuracy: 0.9218\n",
            "Epoch 179/200\n",
            "375/375 [==============================] - 1s 2ms/step - loss: 0.2789 - accuracy: 0.9222 - val_loss: 0.2772 - val_accuracy: 0.9221\n",
            "Epoch 180/200\n",
            "375/375 [==============================] - 1s 2ms/step - loss: 0.2788 - accuracy: 0.9220 - val_loss: 0.2772 - val_accuracy: 0.9218\n",
            "Epoch 181/200\n",
            "375/375 [==============================] - 1s 2ms/step - loss: 0.2786 - accuracy: 0.9224 - val_loss: 0.2771 - val_accuracy: 0.9218\n",
            "Epoch 182/200\n",
            "375/375 [==============================] - 1s 2ms/step - loss: 0.2785 - accuracy: 0.9224 - val_loss: 0.2770 - val_accuracy: 0.9223\n",
            "Epoch 183/200\n",
            "375/375 [==============================] - 1s 2ms/step - loss: 0.2784 - accuracy: 0.9227 - val_loss: 0.2769 - val_accuracy: 0.9220\n",
            "Epoch 184/200\n",
            "375/375 [==============================] - 1s 2ms/step - loss: 0.2782 - accuracy: 0.9222 - val_loss: 0.2768 - val_accuracy: 0.9220\n",
            "Epoch 185/200\n",
            "375/375 [==============================] - 1s 2ms/step - loss: 0.2781 - accuracy: 0.9225 - val_loss: 0.2767 - val_accuracy: 0.9224\n",
            "Epoch 186/200\n",
            "375/375 [==============================] - 1s 2ms/step - loss: 0.2780 - accuracy: 0.9226 - val_loss: 0.2767 - val_accuracy: 0.9218\n",
            "Epoch 187/200\n",
            "375/375 [==============================] - 1s 2ms/step - loss: 0.2778 - accuracy: 0.9226 - val_loss: 0.2766 - val_accuracy: 0.9222\n",
            "Epoch 188/200\n",
            "375/375 [==============================] - 1s 2ms/step - loss: 0.2777 - accuracy: 0.9226 - val_loss: 0.2764 - val_accuracy: 0.9222\n",
            "Epoch 189/200\n",
            "375/375 [==============================] - 1s 2ms/step - loss: 0.2775 - accuracy: 0.9227 - val_loss: 0.2764 - val_accuracy: 0.9221\n",
            "Epoch 190/200\n",
            "375/375 [==============================] - 1s 2ms/step - loss: 0.2774 - accuracy: 0.9229 - val_loss: 0.2764 - val_accuracy: 0.9220\n",
            "Epoch 191/200\n",
            "375/375 [==============================] - 1s 2ms/step - loss: 0.2773 - accuracy: 0.9224 - val_loss: 0.2763 - val_accuracy: 0.9225\n",
            "Epoch 192/200\n",
            "375/375 [==============================] - 1s 2ms/step - loss: 0.2771 - accuracy: 0.9229 - val_loss: 0.2763 - val_accuracy: 0.9221\n",
            "Epoch 193/200\n",
            "375/375 [==============================] - 1s 2ms/step - loss: 0.2770 - accuracy: 0.9224 - val_loss: 0.2762 - val_accuracy: 0.9222\n",
            "Epoch 194/200\n",
            "375/375 [==============================] - 1s 2ms/step - loss: 0.2769 - accuracy: 0.9228 - val_loss: 0.2760 - val_accuracy: 0.9221\n",
            "Epoch 195/200\n",
            "375/375 [==============================] - 1s 2ms/step - loss: 0.2768 - accuracy: 0.9229 - val_loss: 0.2759 - val_accuracy: 0.9222\n",
            "Epoch 196/200\n",
            "375/375 [==============================] - 1s 2ms/step - loss: 0.2766 - accuracy: 0.9228 - val_loss: 0.2760 - val_accuracy: 0.9222\n",
            "Epoch 197/200\n",
            "375/375 [==============================] - 1s 2ms/step - loss: 0.2765 - accuracy: 0.9230 - val_loss: 0.2760 - val_accuracy: 0.9222\n",
            "Epoch 198/200\n",
            "375/375 [==============================] - 1s 2ms/step - loss: 0.2764 - accuracy: 0.9229 - val_loss: 0.2759 - val_accuracy: 0.9227\n",
            "Epoch 199/200\n",
            "375/375 [==============================] - 1s 2ms/step - loss: 0.2763 - accuracy: 0.9228 - val_loss: 0.2757 - val_accuracy: 0.9227\n",
            "Epoch 200/200\n",
            "375/375 [==============================] - 1s 2ms/step - loss: 0.2762 - accuracy: 0.9231 - val_loss: 0.2756 - val_accuracy: 0.9232\n"
          ],
          "name": "stdout"
        },
        {
          "output_type": "execute_result",
          "data": {
            "text/plain": [
              "<tensorflow.python.keras.callbacks.History at 0x7f42c50282b0>"
            ]
          },
          "metadata": {
            "tags": []
          },
          "execution_count": 32
        }
      ]
    },
    {
      "cell_type": "code",
      "metadata": {
        "id": "pOAXm-TuLTrO",
        "colab_type": "code",
        "colab": {
          "base_uri": "https://localhost:8080/",
          "height": 52
        },
        "outputId": "64883dad-0355-4a23-e182-a2d44a95dd04"
      },
      "source": [
        "#evaluate the model\n",
        "test_loss, test_acc = model.evaluate(X_test, Y_test)\n",
        "print('Test accuracy:', test_acc)\n",
        "\n",
        "# making prediction\n",
        "predictions = model.predict(X_test)"
      ],
      "execution_count": 33,
      "outputs": [
        {
          "output_type": "stream",
          "text": [
            "313/313 [==============================] - 0s 862us/step - loss: 0.2776 - accuracy: 0.9219\n",
            "Test accuracy: 0.9218999743461609\n"
          ],
          "name": "stdout"
        }
      ]
    }
  ]
}