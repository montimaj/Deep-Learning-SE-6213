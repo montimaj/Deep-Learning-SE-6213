{
  "nbformat": 4,
  "nbformat_minor": 0,
  "metadata": {
    "colab": {
      "name": "Homework 1_Sayantan.ipynb",
      "provenance": [],
      "collapsed_sections": [],
      "include_colab_link": true
    },
    "kernelspec": {
      "name": "python3",
      "display_name": "Python 3"
    }
  },
  "cells": [
    {
      "cell_type": "markdown",
      "metadata": {
        "id": "view-in-github",
        "colab_type": "text"
      },
      "source": [
        "<a href=\"https://colab.research.google.com/github/montimaj/Deep-Learning-SE-6213/blob/master/Homework_1_Sayantan.ipynb\" target=\"_parent\"><img src=\"https://colab.research.google.com/assets/colab-badge.svg\" alt=\"Open In Colab\"/></a>"
      ]
    },
    {
      "cell_type": "markdown",
      "metadata": {
        "id": "hxquXacey-jC",
        "colab_type": "text"
      },
      "source": [
        ""
      ]
    },
    {
      "cell_type": "code",
      "metadata": {
        "id": "w5q7ZTR-7P8r",
        "colab_type": "code",
        "colab": {}
      },
      "source": [
        ""
      ],
      "execution_count": null,
      "outputs": []
    },
    {
      "cell_type": "markdown",
      "metadata": {
        "id": "_fOWczMGzCEe",
        "colab_type": "text"
      },
      "source": [
        ""
      ]
    },
    {
      "cell_type": "code",
      "metadata": {
        "id": "uTcPTAlXzD-A",
        "colab_type": "code",
        "colab": {}
      },
      "source": [
        "import tensorflow as tf\n",
        "import numpy as np\n",
        "from  tensorflow import keras"
      ],
      "execution_count": 1,
      "outputs": []
    },
    {
      "cell_type": "code",
      "metadata": {
        "id": "8ixJrEaozj7d",
        "colab_type": "code",
        "colab": {}
      },
      "source": [
        "# choosing a random seed for reproducibility\n",
        "np.random.seed(0)"
      ],
      "execution_count": 3,
      "outputs": []
    },
    {
      "cell_type": "code",
      "metadata": {
        "id": "wJbVaFGkzrx5",
        "colab_type": "code",
        "colab": {}
      },
      "source": [
        "# network and training \n",
        "EPOCHS = 200\n",
        "BATCH_SIZE = 128\n",
        "VERBOSE = 1\n",
        "NB_CLASSES = 10 #number of outputs =  Number of digits\n",
        "N_HIDDEN = 128\n",
        "VALIDATION_SPLIT = 0.2 # How much data is reserved for validation"
      ],
      "execution_count": 4,
      "outputs": []
    },
    {
      "cell_type": "code",
      "metadata": {
        "id": "cQ6OvRr7zsK7",
        "colab_type": "code",
        "colab": {
          "base_uri": "https://localhost:8080/",
          "height": 87
        },
        "outputId": "d33858ed-3b7a-40b8-a43e-c756d5de1440"
      },
      "source": [
        "# loading MNIST dataset\n",
        "# verify the split between train and test is 60,000 and 10,000 respectively one -hot is automatically applied\n",
        "mnist = keras.datasets.mnist\n",
        "(X_train, Y_train), (X_test, Y_test) = mnist.load_data()\n",
        "print(X_train.shape[0], 'train samples')\n",
        "print(X_test.shape[0], ' test samples')\n",
        "      \n",
        "     \n",
        "    \n",
        "\n"
      ],
      "execution_count": 5,
      "outputs": [
        {
          "output_type": "stream",
          "text": [
            "Downloading data from https://storage.googleapis.com/tensorflow/tf-keras-datasets/mnist.npz\n",
            "11493376/11490434 [==============================] - 0s 0us/step\n",
            "60000 train samples\n",
            "10000  test samples\n"
          ],
          "name": "stdout"
        }
      ]
    },
    {
      "cell_type": "code",
      "metadata": {
        "id": "v9Iut5MDoA-K",
        "colab_type": "code",
        "colab": {}
      },
      "source": [
        "RESHAPED=784\n",
        "X_train = X_train.reshape(60000, RESHAPED)\n",
        "X_test = X_test.reshape(10000, RESHAPED)\n",
        "X_train = X_train.astype('float32')\n",
        "X_test = X_test.astype('float32')"
      ],
      "execution_count": 6,
      "outputs": []
    },
    {
      "cell_type": "code",
      "metadata": {
        "id": "lbMsbMWpFFwX",
        "colab_type": "code",
        "colab": {
          "base_uri": "https://localhost:8080/",
          "height": 52
        },
        "outputId": "5a5c7a63-fd6e-49f8-f347-f53912dc9cdf"
      },
      "source": [
        "#normalize in [0,1]\n",
        "X_train, X_test = X_train / 255.0, X_test / 255.0\n",
        "print(X_train.shape[0], 'train samples')\n",
        "print(X_test.shape[0], 'test samples')"
      ],
      "execution_count": 7,
      "outputs": [
        {
          "output_type": "stream",
          "text": [
            "60000 train samples\n",
            "10000 test samples\n"
          ],
          "name": "stdout"
        }
      ]
    },
    {
      "cell_type": "code",
      "metadata": {
        "id": "9QBkl36uF7PM",
        "colab_type": "code",
        "colab": {}
      },
      "source": [
        "#one-hot\n",
        "Y_train = tf.keras.utils.to_categorical(Y_train, NB_CLASSES)\n",
        "Y_test = tf.keras.utils.to_categorical(Y_test, NB_CLASSES)"
      ],
      "execution_count": 8,
      "outputs": []
    },
    {
      "cell_type": "code",
      "metadata": {
        "id": "Tql6UBJsG3eJ",
        "colab_type": "code",
        "colab": {
          "base_uri": "https://localhost:8080/",
          "height": 193
        },
        "outputId": "c1889d3e-f3eb-476c-b8ce-909c32af7095"
      },
      "source": [
        "#build the model\n",
        "model = tf.keras.models.Sequential()\n",
        "model.add(keras.layers.Dense(NB_CLASSES,\n",
        "   \t\tinput_shape=(RESHAPED,),\n",
        "   \t\tname='dense_layer', \n",
        "   \t\tactivation='softmax'))\n",
        "\n",
        "# summary of the model\n",
        "model.summary()"
      ],
      "execution_count": 9,
      "outputs": [
        {
          "output_type": "stream",
          "text": [
            "Model: \"sequential\"\n",
            "_________________________________________________________________\n",
            "Layer (type)                 Output Shape              Param #   \n",
            "=================================================================\n",
            "dense_layer (Dense)          (None, 10)                7850      \n",
            "=================================================================\n",
            "Total params: 7,850\n",
            "Trainable params: 7,850\n",
            "Non-trainable params: 0\n",
            "_________________________________________________________________\n"
          ],
          "name": "stdout"
        }
      ]
    },
    {
      "cell_type": "code",
      "metadata": {
        "id": "mKyDv0_aHd8k",
        "colab_type": "code",
        "colab": {}
      },
      "source": [
        "# compiling the model\n",
        "model.compile(optimizer='SGD', \n",
        "              loss='categorical_crossentropy',\n",
        "              metrics=['accuracy'])"
      ],
      "execution_count": 10,
      "outputs": []
    },
    {
      "cell_type": "code",
      "metadata": {
        "id": "CDPjwMRaIBTn",
        "colab_type": "code",
        "colab": {
          "base_uri": "https://localhost:8080/",
          "height": 1000
        },
        "outputId": "d33cd546-5e54-4555-dc56-e34ba272da7d"
      },
      "source": [
        "#training the model\n",
        "model.fit(X_train, Y_train,\n",
        "\t\tbatch_size=BATCH_SIZE, epochs=EPOCHS,\n",
        "\t\tverbose=VERBOSE, validation_split=VALIDATION_SPLIT)"
      ],
      "execution_count": 11,
      "outputs": [
        {
          "output_type": "stream",
          "text": [
            "Epoch 1/200\n",
            "375/375 [==============================] - 1s 2ms/step - loss: 1.3462 - accuracy: 0.6834 - val_loss: 0.8865 - val_accuracy: 0.8261\n",
            "Epoch 2/200\n",
            "375/375 [==============================] - 1s 2ms/step - loss: 0.7885 - accuracy: 0.8275 - val_loss: 0.6562 - val_accuracy: 0.8567\n",
            "Epoch 3/200\n",
            "375/375 [==============================] - 1s 2ms/step - loss: 0.6423 - accuracy: 0.8501 - val_loss: 0.5619 - val_accuracy: 0.8713\n",
            "Epoch 4/200\n",
            "375/375 [==============================] - 1s 2ms/step - loss: 0.5709 - accuracy: 0.8610 - val_loss: 0.5094 - val_accuracy: 0.8773\n",
            "Epoch 5/200\n",
            "375/375 [==============================] - 1s 2ms/step - loss: 0.5271 - accuracy: 0.8687 - val_loss: 0.4755 - val_accuracy: 0.8823\n",
            "Epoch 6/200\n",
            "375/375 [==============================] - 1s 2ms/step - loss: 0.4971 - accuracy: 0.8737 - val_loss: 0.4511 - val_accuracy: 0.8864\n",
            "Epoch 7/200\n",
            "375/375 [==============================] - 1s 2ms/step - loss: 0.4747 - accuracy: 0.8776 - val_loss: 0.4333 - val_accuracy: 0.8883\n",
            "Epoch 8/200\n",
            "375/375 [==============================] - 1s 2ms/step - loss: 0.4574 - accuracy: 0.8806 - val_loss: 0.4190 - val_accuracy: 0.8900\n",
            "Epoch 9/200\n",
            "375/375 [==============================] - 1s 2ms/step - loss: 0.4434 - accuracy: 0.8824 - val_loss: 0.4073 - val_accuracy: 0.8922\n",
            "Epoch 10/200\n",
            "375/375 [==============================] - 1s 2ms/step - loss: 0.4318 - accuracy: 0.8844 - val_loss: 0.3977 - val_accuracy: 0.8935\n",
            "Epoch 11/200\n",
            "375/375 [==============================] - 1s 2ms/step - loss: 0.4220 - accuracy: 0.8866 - val_loss: 0.3896 - val_accuracy: 0.8955\n",
            "Epoch 12/200\n",
            "375/375 [==============================] - 1s 2ms/step - loss: 0.4136 - accuracy: 0.8885 - val_loss: 0.3827 - val_accuracy: 0.8971\n",
            "Epoch 13/200\n",
            "375/375 [==============================] - 1s 2ms/step - loss: 0.4062 - accuracy: 0.8899 - val_loss: 0.3764 - val_accuracy: 0.8982\n",
            "Epoch 14/200\n",
            "375/375 [==============================] - 1s 2ms/step - loss: 0.3997 - accuracy: 0.8916 - val_loss: 0.3710 - val_accuracy: 0.9001\n",
            "Epoch 15/200\n",
            "375/375 [==============================] - 1s 2ms/step - loss: 0.3939 - accuracy: 0.8926 - val_loss: 0.3663 - val_accuracy: 0.9003\n",
            "Epoch 16/200\n",
            "375/375 [==============================] - 1s 2ms/step - loss: 0.3887 - accuracy: 0.8939 - val_loss: 0.3620 - val_accuracy: 0.9022\n",
            "Epoch 17/200\n",
            "375/375 [==============================] - 1s 2ms/step - loss: 0.3840 - accuracy: 0.8950 - val_loss: 0.3580 - val_accuracy: 0.9029\n",
            "Epoch 18/200\n",
            "375/375 [==============================] - 1s 2ms/step - loss: 0.3797 - accuracy: 0.8958 - val_loss: 0.3545 - val_accuracy: 0.9039\n",
            "Epoch 19/200\n",
            "375/375 [==============================] - 1s 2ms/step - loss: 0.3758 - accuracy: 0.8967 - val_loss: 0.3513 - val_accuracy: 0.9042\n",
            "Epoch 20/200\n",
            "375/375 [==============================] - 1s 2ms/step - loss: 0.3721 - accuracy: 0.8975 - val_loss: 0.3484 - val_accuracy: 0.9056\n",
            "Epoch 21/200\n",
            "375/375 [==============================] - 1s 2ms/step - loss: 0.3688 - accuracy: 0.8986 - val_loss: 0.3454 - val_accuracy: 0.9063\n",
            "Epoch 22/200\n",
            "375/375 [==============================] - 1s 2ms/step - loss: 0.3657 - accuracy: 0.8993 - val_loss: 0.3430 - val_accuracy: 0.9068\n",
            "Epoch 23/200\n",
            "375/375 [==============================] - 1s 2ms/step - loss: 0.3628 - accuracy: 0.9000 - val_loss: 0.3405 - val_accuracy: 0.9068\n",
            "Epoch 24/200\n",
            "375/375 [==============================] - 1s 2ms/step - loss: 0.3600 - accuracy: 0.9006 - val_loss: 0.3383 - val_accuracy: 0.9071\n",
            "Epoch 25/200\n",
            "375/375 [==============================] - 1s 2ms/step - loss: 0.3575 - accuracy: 0.9011 - val_loss: 0.3363 - val_accuracy: 0.9077\n",
            "Epoch 26/200\n",
            "375/375 [==============================] - 1s 2ms/step - loss: 0.3551 - accuracy: 0.9016 - val_loss: 0.3342 - val_accuracy: 0.9090\n",
            "Epoch 27/200\n",
            "375/375 [==============================] - 1s 2ms/step - loss: 0.3528 - accuracy: 0.9028 - val_loss: 0.3325 - val_accuracy: 0.9091\n",
            "Epoch 28/200\n",
            "375/375 [==============================] - 1s 2ms/step - loss: 0.3507 - accuracy: 0.9031 - val_loss: 0.3307 - val_accuracy: 0.9097\n",
            "Epoch 29/200\n",
            "375/375 [==============================] - 1s 2ms/step - loss: 0.3487 - accuracy: 0.9038 - val_loss: 0.3290 - val_accuracy: 0.9098\n",
            "Epoch 30/200\n",
            "375/375 [==============================] - 1s 2ms/step - loss: 0.3468 - accuracy: 0.9042 - val_loss: 0.3275 - val_accuracy: 0.9097\n",
            "Epoch 31/200\n",
            "375/375 [==============================] - 1s 2ms/step - loss: 0.3449 - accuracy: 0.9048 - val_loss: 0.3260 - val_accuracy: 0.9106\n",
            "Epoch 32/200\n",
            "375/375 [==============================] - 1s 2ms/step - loss: 0.3432 - accuracy: 0.9054 - val_loss: 0.3246 - val_accuracy: 0.9111\n",
            "Epoch 33/200\n",
            "375/375 [==============================] - 1s 2ms/step - loss: 0.3415 - accuracy: 0.9056 - val_loss: 0.3232 - val_accuracy: 0.9108\n",
            "Epoch 34/200\n",
            "375/375 [==============================] - 1s 2ms/step - loss: 0.3399 - accuracy: 0.9064 - val_loss: 0.3220 - val_accuracy: 0.9117\n",
            "Epoch 35/200\n",
            "375/375 [==============================] - 1s 2ms/step - loss: 0.3384 - accuracy: 0.9066 - val_loss: 0.3208 - val_accuracy: 0.9116\n",
            "Epoch 36/200\n",
            "375/375 [==============================] - 1s 2ms/step - loss: 0.3370 - accuracy: 0.9066 - val_loss: 0.3196 - val_accuracy: 0.9119\n",
            "Epoch 37/200\n",
            "375/375 [==============================] - 1s 2ms/step - loss: 0.3356 - accuracy: 0.9071 - val_loss: 0.3185 - val_accuracy: 0.9121\n",
            "Epoch 38/200\n",
            "375/375 [==============================] - 1s 2ms/step - loss: 0.3342 - accuracy: 0.9074 - val_loss: 0.3175 - val_accuracy: 0.9126\n",
            "Epoch 39/200\n",
            "375/375 [==============================] - 1s 2ms/step - loss: 0.3329 - accuracy: 0.9078 - val_loss: 0.3164 - val_accuracy: 0.9136\n",
            "Epoch 40/200\n",
            "375/375 [==============================] - 1s 2ms/step - loss: 0.3317 - accuracy: 0.9084 - val_loss: 0.3153 - val_accuracy: 0.9138\n",
            "Epoch 41/200\n",
            "375/375 [==============================] - 1s 2ms/step - loss: 0.3305 - accuracy: 0.9088 - val_loss: 0.3145 - val_accuracy: 0.9135\n",
            "Epoch 42/200\n",
            "375/375 [==============================] - 1s 2ms/step - loss: 0.3294 - accuracy: 0.9087 - val_loss: 0.3135 - val_accuracy: 0.9133\n",
            "Epoch 43/200\n",
            "375/375 [==============================] - 1s 2ms/step - loss: 0.3282 - accuracy: 0.9092 - val_loss: 0.3127 - val_accuracy: 0.9138\n",
            "Epoch 44/200\n",
            "375/375 [==============================] - 1s 2ms/step - loss: 0.3272 - accuracy: 0.9095 - val_loss: 0.3119 - val_accuracy: 0.9133\n",
            "Epoch 45/200\n",
            "375/375 [==============================] - 1s 2ms/step - loss: 0.3262 - accuracy: 0.9098 - val_loss: 0.3111 - val_accuracy: 0.9135\n",
            "Epoch 46/200\n",
            "375/375 [==============================] - 1s 2ms/step - loss: 0.3251 - accuracy: 0.9100 - val_loss: 0.3103 - val_accuracy: 0.9145\n",
            "Epoch 47/200\n",
            "375/375 [==============================] - 1s 2ms/step - loss: 0.3242 - accuracy: 0.9103 - val_loss: 0.3095 - val_accuracy: 0.9146\n",
            "Epoch 48/200\n",
            "375/375 [==============================] - 1s 2ms/step - loss: 0.3232 - accuracy: 0.9104 - val_loss: 0.3089 - val_accuracy: 0.9135\n",
            "Epoch 49/200\n",
            "375/375 [==============================] - 1s 2ms/step - loss: 0.3223 - accuracy: 0.9106 - val_loss: 0.3080 - val_accuracy: 0.9140\n",
            "Epoch 50/200\n",
            "375/375 [==============================] - 1s 2ms/step - loss: 0.3214 - accuracy: 0.9111 - val_loss: 0.3074 - val_accuracy: 0.9146\n",
            "Epoch 51/200\n",
            "375/375 [==============================] - 1s 2ms/step - loss: 0.3206 - accuracy: 0.9114 - val_loss: 0.3066 - val_accuracy: 0.9144\n",
            "Epoch 52/200\n",
            "375/375 [==============================] - 1s 2ms/step - loss: 0.3197 - accuracy: 0.9114 - val_loss: 0.3060 - val_accuracy: 0.9144\n",
            "Epoch 53/200\n",
            "375/375 [==============================] - 1s 2ms/step - loss: 0.3189 - accuracy: 0.9118 - val_loss: 0.3054 - val_accuracy: 0.9143\n",
            "Epoch 54/200\n",
            "375/375 [==============================] - 1s 2ms/step - loss: 0.3181 - accuracy: 0.9120 - val_loss: 0.3047 - val_accuracy: 0.9146\n",
            "Epoch 55/200\n",
            "375/375 [==============================] - 1s 2ms/step - loss: 0.3174 - accuracy: 0.9121 - val_loss: 0.3041 - val_accuracy: 0.9149\n",
            "Epoch 56/200\n",
            "375/375 [==============================] - 1s 2ms/step - loss: 0.3165 - accuracy: 0.9125 - val_loss: 0.3038 - val_accuracy: 0.9146\n",
            "Epoch 57/200\n",
            "375/375 [==============================] - 1s 2ms/step - loss: 0.3159 - accuracy: 0.9129 - val_loss: 0.3029 - val_accuracy: 0.9148\n",
            "Epoch 58/200\n",
            "375/375 [==============================] - 1s 2ms/step - loss: 0.3152 - accuracy: 0.9126 - val_loss: 0.3025 - val_accuracy: 0.9147\n",
            "Epoch 59/200\n",
            "375/375 [==============================] - 1s 2ms/step - loss: 0.3145 - accuracy: 0.9131 - val_loss: 0.3019 - val_accuracy: 0.9153\n",
            "Epoch 60/200\n",
            "375/375 [==============================] - 1s 2ms/step - loss: 0.3137 - accuracy: 0.9133 - val_loss: 0.3015 - val_accuracy: 0.9153\n",
            "Epoch 61/200\n",
            "375/375 [==============================] - 1s 2ms/step - loss: 0.3131 - accuracy: 0.9136 - val_loss: 0.3009 - val_accuracy: 0.9156\n",
            "Epoch 62/200\n",
            "375/375 [==============================] - 1s 2ms/step - loss: 0.3125 - accuracy: 0.9136 - val_loss: 0.3005 - val_accuracy: 0.9155\n",
            "Epoch 63/200\n",
            "375/375 [==============================] - 1s 2ms/step - loss: 0.3118 - accuracy: 0.9137 - val_loss: 0.2999 - val_accuracy: 0.9160\n",
            "Epoch 64/200\n",
            "375/375 [==============================] - 1s 2ms/step - loss: 0.3113 - accuracy: 0.9137 - val_loss: 0.2995 - val_accuracy: 0.9165\n",
            "Epoch 65/200\n",
            "375/375 [==============================] - 1s 2ms/step - loss: 0.3106 - accuracy: 0.9141 - val_loss: 0.2991 - val_accuracy: 0.9158\n",
            "Epoch 66/200\n",
            "375/375 [==============================] - 1s 2ms/step - loss: 0.3101 - accuracy: 0.9142 - val_loss: 0.2986 - val_accuracy: 0.9162\n",
            "Epoch 67/200\n",
            "375/375 [==============================] - 1s 2ms/step - loss: 0.3094 - accuracy: 0.9145 - val_loss: 0.2981 - val_accuracy: 0.9167\n",
            "Epoch 68/200\n",
            "375/375 [==============================] - 1s 2ms/step - loss: 0.3089 - accuracy: 0.9146 - val_loss: 0.2977 - val_accuracy: 0.9162\n",
            "Epoch 69/200\n",
            "375/375 [==============================] - 1s 2ms/step - loss: 0.3084 - accuracy: 0.9147 - val_loss: 0.2972 - val_accuracy: 0.9167\n",
            "Epoch 70/200\n",
            "375/375 [==============================] - 1s 2ms/step - loss: 0.3078 - accuracy: 0.9148 - val_loss: 0.2969 - val_accuracy: 0.9165\n",
            "Epoch 71/200\n",
            "375/375 [==============================] - 1s 2ms/step - loss: 0.3073 - accuracy: 0.9148 - val_loss: 0.2965 - val_accuracy: 0.9170\n",
            "Epoch 72/200\n",
            "375/375 [==============================] - 1s 2ms/step - loss: 0.3067 - accuracy: 0.9151 - val_loss: 0.2962 - val_accuracy: 0.9174\n",
            "Epoch 73/200\n",
            "375/375 [==============================] - 1s 2ms/step - loss: 0.3063 - accuracy: 0.9153 - val_loss: 0.2958 - val_accuracy: 0.9167\n",
            "Epoch 74/200\n",
            "375/375 [==============================] - 1s 2ms/step - loss: 0.3058 - accuracy: 0.9152 - val_loss: 0.2955 - val_accuracy: 0.9170\n",
            "Epoch 75/200\n",
            "375/375 [==============================] - 1s 2ms/step - loss: 0.3053 - accuracy: 0.9154 - val_loss: 0.2951 - val_accuracy: 0.9169\n",
            "Epoch 76/200\n",
            "375/375 [==============================] - 1s 2ms/step - loss: 0.3048 - accuracy: 0.9153 - val_loss: 0.2947 - val_accuracy: 0.9169\n",
            "Epoch 77/200\n",
            "375/375 [==============================] - 1s 2ms/step - loss: 0.3044 - accuracy: 0.9154 - val_loss: 0.2943 - val_accuracy: 0.9178\n",
            "Epoch 78/200\n",
            "375/375 [==============================] - 1s 2ms/step - loss: 0.3039 - accuracy: 0.9156 - val_loss: 0.2941 - val_accuracy: 0.9171\n",
            "Epoch 79/200\n",
            "375/375 [==============================] - 1s 2ms/step - loss: 0.3034 - accuracy: 0.9156 - val_loss: 0.2936 - val_accuracy: 0.9180\n",
            "Epoch 80/200\n",
            "375/375 [==============================] - 1s 2ms/step - loss: 0.3030 - accuracy: 0.9158 - val_loss: 0.2933 - val_accuracy: 0.9181\n",
            "Epoch 81/200\n",
            "375/375 [==============================] - 1s 2ms/step - loss: 0.3026 - accuracy: 0.9161 - val_loss: 0.2930 - val_accuracy: 0.9183\n",
            "Epoch 82/200\n",
            "375/375 [==============================] - 1s 2ms/step - loss: 0.3021 - accuracy: 0.9161 - val_loss: 0.2927 - val_accuracy: 0.9177\n",
            "Epoch 83/200\n",
            "375/375 [==============================] - 1s 2ms/step - loss: 0.3017 - accuracy: 0.9161 - val_loss: 0.2923 - val_accuracy: 0.9181\n",
            "Epoch 84/200\n",
            "375/375 [==============================] - 1s 2ms/step - loss: 0.3013 - accuracy: 0.9164 - val_loss: 0.2921 - val_accuracy: 0.9187\n",
            "Epoch 85/200\n",
            "375/375 [==============================] - 1s 2ms/step - loss: 0.3009 - accuracy: 0.9163 - val_loss: 0.2917 - val_accuracy: 0.9182\n",
            "Epoch 86/200\n",
            "375/375 [==============================] - 1s 2ms/step - loss: 0.3005 - accuracy: 0.9165 - val_loss: 0.2915 - val_accuracy: 0.9184\n",
            "Epoch 87/200\n",
            "375/375 [==============================] - 1s 2ms/step - loss: 0.3001 - accuracy: 0.9166 - val_loss: 0.2913 - val_accuracy: 0.9189\n",
            "Epoch 88/200\n",
            "375/375 [==============================] - 1s 2ms/step - loss: 0.2997 - accuracy: 0.9169 - val_loss: 0.2910 - val_accuracy: 0.9192\n",
            "Epoch 89/200\n",
            "375/375 [==============================] - 1s 2ms/step - loss: 0.2993 - accuracy: 0.9168 - val_loss: 0.2907 - val_accuracy: 0.9187\n",
            "Epoch 90/200\n",
            "375/375 [==============================] - 1s 2ms/step - loss: 0.2990 - accuracy: 0.9168 - val_loss: 0.2903 - val_accuracy: 0.9187\n",
            "Epoch 91/200\n",
            "375/375 [==============================] - 1s 2ms/step - loss: 0.2986 - accuracy: 0.9173 - val_loss: 0.2901 - val_accuracy: 0.9191\n",
            "Epoch 92/200\n",
            "375/375 [==============================] - 1s 2ms/step - loss: 0.2982 - accuracy: 0.9172 - val_loss: 0.2899 - val_accuracy: 0.9192\n",
            "Epoch 93/200\n",
            "375/375 [==============================] - 1s 2ms/step - loss: 0.2979 - accuracy: 0.9174 - val_loss: 0.2897 - val_accuracy: 0.9190\n",
            "Epoch 94/200\n",
            "375/375 [==============================] - 1s 2ms/step - loss: 0.2975 - accuracy: 0.9174 - val_loss: 0.2894 - val_accuracy: 0.9187\n",
            "Epoch 95/200\n",
            "375/375 [==============================] - 1s 2ms/step - loss: 0.2972 - accuracy: 0.9172 - val_loss: 0.2891 - val_accuracy: 0.9188\n",
            "Epoch 96/200\n",
            "375/375 [==============================] - 1s 2ms/step - loss: 0.2968 - accuracy: 0.9175 - val_loss: 0.2888 - val_accuracy: 0.9193\n",
            "Epoch 97/200\n",
            "375/375 [==============================] - 1s 2ms/step - loss: 0.2965 - accuracy: 0.9177 - val_loss: 0.2886 - val_accuracy: 0.9195\n",
            "Epoch 98/200\n",
            "375/375 [==============================] - 1s 2ms/step - loss: 0.2961 - accuracy: 0.9177 - val_loss: 0.2884 - val_accuracy: 0.9197\n",
            "Epoch 99/200\n",
            "375/375 [==============================] - 1s 2ms/step - loss: 0.2958 - accuracy: 0.9179 - val_loss: 0.2882 - val_accuracy: 0.9196\n",
            "Epoch 100/200\n",
            "375/375 [==============================] - 1s 2ms/step - loss: 0.2955 - accuracy: 0.9180 - val_loss: 0.2880 - val_accuracy: 0.9196\n",
            "Epoch 101/200\n",
            "375/375 [==============================] - 1s 2ms/step - loss: 0.2952 - accuracy: 0.9183 - val_loss: 0.2878 - val_accuracy: 0.9199\n",
            "Epoch 102/200\n",
            "375/375 [==============================] - 1s 2ms/step - loss: 0.2949 - accuracy: 0.9181 - val_loss: 0.2875 - val_accuracy: 0.9198\n",
            "Epoch 103/200\n",
            "375/375 [==============================] - 1s 2ms/step - loss: 0.2946 - accuracy: 0.9181 - val_loss: 0.2872 - val_accuracy: 0.9200\n",
            "Epoch 104/200\n",
            "375/375 [==============================] - 1s 2ms/step - loss: 0.2943 - accuracy: 0.9181 - val_loss: 0.2871 - val_accuracy: 0.9197\n",
            "Epoch 105/200\n",
            "375/375 [==============================] - 1s 2ms/step - loss: 0.2940 - accuracy: 0.9181 - val_loss: 0.2868 - val_accuracy: 0.9203\n",
            "Epoch 106/200\n",
            "375/375 [==============================] - 1s 2ms/step - loss: 0.2937 - accuracy: 0.9183 - val_loss: 0.2867 - val_accuracy: 0.9203\n",
            "Epoch 107/200\n",
            "375/375 [==============================] - 1s 2ms/step - loss: 0.2934 - accuracy: 0.9185 - val_loss: 0.2865 - val_accuracy: 0.9197\n",
            "Epoch 108/200\n",
            "375/375 [==============================] - 1s 2ms/step - loss: 0.2931 - accuracy: 0.9183 - val_loss: 0.2863 - val_accuracy: 0.9202\n",
            "Epoch 109/200\n",
            "375/375 [==============================] - 1s 2ms/step - loss: 0.2928 - accuracy: 0.9183 - val_loss: 0.2861 - val_accuracy: 0.9200\n",
            "Epoch 110/200\n",
            "375/375 [==============================] - 1s 2ms/step - loss: 0.2925 - accuracy: 0.9186 - val_loss: 0.2858 - val_accuracy: 0.9201\n",
            "Epoch 111/200\n",
            "375/375 [==============================] - 1s 2ms/step - loss: 0.2923 - accuracy: 0.9189 - val_loss: 0.2857 - val_accuracy: 0.9202\n",
            "Epoch 112/200\n",
            "375/375 [==============================] - 1s 2ms/step - loss: 0.2920 - accuracy: 0.9187 - val_loss: 0.2856 - val_accuracy: 0.9202\n",
            "Epoch 113/200\n",
            "375/375 [==============================] - 1s 2ms/step - loss: 0.2917 - accuracy: 0.9187 - val_loss: 0.2853 - val_accuracy: 0.9202\n",
            "Epoch 114/200\n",
            "375/375 [==============================] - 1s 2ms/step - loss: 0.2914 - accuracy: 0.9188 - val_loss: 0.2851 - val_accuracy: 0.9203\n",
            "Epoch 115/200\n",
            "375/375 [==============================] - 1s 2ms/step - loss: 0.2912 - accuracy: 0.9190 - val_loss: 0.2849 - val_accuracy: 0.9202\n",
            "Epoch 116/200\n",
            "375/375 [==============================] - 1s 2ms/step - loss: 0.2909 - accuracy: 0.9191 - val_loss: 0.2848 - val_accuracy: 0.9203\n",
            "Epoch 117/200\n",
            "375/375 [==============================] - 1s 2ms/step - loss: 0.2907 - accuracy: 0.9190 - val_loss: 0.2846 - val_accuracy: 0.9204\n",
            "Epoch 118/200\n",
            "375/375 [==============================] - 1s 2ms/step - loss: 0.2904 - accuracy: 0.9193 - val_loss: 0.2844 - val_accuracy: 0.9203\n",
            "Epoch 119/200\n",
            "375/375 [==============================] - 1s 2ms/step - loss: 0.2902 - accuracy: 0.9191 - val_loss: 0.2842 - val_accuracy: 0.9208\n",
            "Epoch 120/200\n",
            "375/375 [==============================] - 1s 2ms/step - loss: 0.2899 - accuracy: 0.9194 - val_loss: 0.2841 - val_accuracy: 0.9202\n",
            "Epoch 121/200\n",
            "375/375 [==============================] - 1s 2ms/step - loss: 0.2897 - accuracy: 0.9195 - val_loss: 0.2839 - val_accuracy: 0.9206\n",
            "Epoch 122/200\n",
            "375/375 [==============================] - 1s 2ms/step - loss: 0.2894 - accuracy: 0.9194 - val_loss: 0.2837 - val_accuracy: 0.9208\n",
            "Epoch 123/200\n",
            "375/375 [==============================] - 1s 2ms/step - loss: 0.2892 - accuracy: 0.9197 - val_loss: 0.2835 - val_accuracy: 0.9210\n",
            "Epoch 124/200\n",
            "375/375 [==============================] - 1s 2ms/step - loss: 0.2890 - accuracy: 0.9196 - val_loss: 0.2834 - val_accuracy: 0.9212\n",
            "Epoch 125/200\n",
            "375/375 [==============================] - 1s 2ms/step - loss: 0.2887 - accuracy: 0.9195 - val_loss: 0.2832 - val_accuracy: 0.9212\n",
            "Epoch 126/200\n",
            "375/375 [==============================] - 1s 2ms/step - loss: 0.2885 - accuracy: 0.9197 - val_loss: 0.2831 - val_accuracy: 0.9211\n",
            "Epoch 127/200\n",
            "375/375 [==============================] - 1s 2ms/step - loss: 0.2882 - accuracy: 0.9196 - val_loss: 0.2830 - val_accuracy: 0.9215\n",
            "Epoch 128/200\n",
            "375/375 [==============================] - 1s 2ms/step - loss: 0.2881 - accuracy: 0.9195 - val_loss: 0.2828 - val_accuracy: 0.9212\n",
            "Epoch 129/200\n",
            "375/375 [==============================] - 1s 2ms/step - loss: 0.2878 - accuracy: 0.9198 - val_loss: 0.2827 - val_accuracy: 0.9209\n",
            "Epoch 130/200\n",
            "375/375 [==============================] - 1s 2ms/step - loss: 0.2876 - accuracy: 0.9200 - val_loss: 0.2826 - val_accuracy: 0.9212\n",
            "Epoch 131/200\n",
            "375/375 [==============================] - 1s 2ms/step - loss: 0.2874 - accuracy: 0.9198 - val_loss: 0.2823 - val_accuracy: 0.9212\n",
            "Epoch 132/200\n",
            "375/375 [==============================] - 1s 2ms/step - loss: 0.2872 - accuracy: 0.9200 - val_loss: 0.2823 - val_accuracy: 0.9213\n",
            "Epoch 133/200\n",
            "375/375 [==============================] - 1s 2ms/step - loss: 0.2869 - accuracy: 0.9199 - val_loss: 0.2821 - val_accuracy: 0.9216\n",
            "Epoch 134/200\n",
            "375/375 [==============================] - 1s 2ms/step - loss: 0.2868 - accuracy: 0.9201 - val_loss: 0.2819 - val_accuracy: 0.9212\n",
            "Epoch 135/200\n",
            "375/375 [==============================] - 1s 2ms/step - loss: 0.2865 - accuracy: 0.9200 - val_loss: 0.2819 - val_accuracy: 0.9215\n",
            "Epoch 136/200\n",
            "375/375 [==============================] - 1s 2ms/step - loss: 0.2863 - accuracy: 0.9202 - val_loss: 0.2817 - val_accuracy: 0.9216\n",
            "Epoch 137/200\n",
            "375/375 [==============================] - 1s 2ms/step - loss: 0.2861 - accuracy: 0.9200 - val_loss: 0.2815 - val_accuracy: 0.9218\n",
            "Epoch 138/200\n",
            "375/375 [==============================] - 1s 2ms/step - loss: 0.2859 - accuracy: 0.9203 - val_loss: 0.2815 - val_accuracy: 0.9216\n",
            "Epoch 139/200\n",
            "375/375 [==============================] - 1s 2ms/step - loss: 0.2857 - accuracy: 0.9203 - val_loss: 0.2813 - val_accuracy: 0.9215\n",
            "Epoch 140/200\n",
            "375/375 [==============================] - 1s 2ms/step - loss: 0.2855 - accuracy: 0.9204 - val_loss: 0.2812 - val_accuracy: 0.9218\n",
            "Epoch 141/200\n",
            "375/375 [==============================] - 1s 2ms/step - loss: 0.2853 - accuracy: 0.9206 - val_loss: 0.2811 - val_accuracy: 0.9215\n",
            "Epoch 142/200\n",
            "375/375 [==============================] - 1s 2ms/step - loss: 0.2851 - accuracy: 0.9206 - val_loss: 0.2809 - val_accuracy: 0.9218\n",
            "Epoch 143/200\n",
            "375/375 [==============================] - 1s 2ms/step - loss: 0.2849 - accuracy: 0.9205 - val_loss: 0.2808 - val_accuracy: 0.9218\n",
            "Epoch 144/200\n",
            "375/375 [==============================] - 1s 2ms/step - loss: 0.2847 - accuracy: 0.9205 - val_loss: 0.2807 - val_accuracy: 0.9218\n",
            "Epoch 145/200\n",
            "375/375 [==============================] - 1s 2ms/step - loss: 0.2845 - accuracy: 0.9206 - val_loss: 0.2805 - val_accuracy: 0.9219\n",
            "Epoch 146/200\n",
            "375/375 [==============================] - 1s 2ms/step - loss: 0.2843 - accuracy: 0.9209 - val_loss: 0.2804 - val_accuracy: 0.9217\n",
            "Epoch 147/200\n",
            "375/375 [==============================] - 1s 2ms/step - loss: 0.2842 - accuracy: 0.9209 - val_loss: 0.2803 - val_accuracy: 0.9221\n",
            "Epoch 148/200\n",
            "375/375 [==============================] - 1s 2ms/step - loss: 0.2840 - accuracy: 0.9205 - val_loss: 0.2801 - val_accuracy: 0.9217\n",
            "Epoch 149/200\n",
            "375/375 [==============================] - 1s 2ms/step - loss: 0.2838 - accuracy: 0.9208 - val_loss: 0.2800 - val_accuracy: 0.9218\n",
            "Epoch 150/200\n",
            "375/375 [==============================] - 1s 2ms/step - loss: 0.2836 - accuracy: 0.9209 - val_loss: 0.2799 - val_accuracy: 0.9222\n",
            "Epoch 151/200\n",
            "375/375 [==============================] - 1s 2ms/step - loss: 0.2834 - accuracy: 0.9213 - val_loss: 0.2799 - val_accuracy: 0.9219\n",
            "Epoch 152/200\n",
            "375/375 [==============================] - 1s 2ms/step - loss: 0.2833 - accuracy: 0.9212 - val_loss: 0.2797 - val_accuracy: 0.9219\n",
            "Epoch 153/200\n",
            "375/375 [==============================] - 1s 2ms/step - loss: 0.2831 - accuracy: 0.9214 - val_loss: 0.2796 - val_accuracy: 0.9222\n",
            "Epoch 154/200\n",
            "375/375 [==============================] - 1s 2ms/step - loss: 0.2829 - accuracy: 0.9212 - val_loss: 0.2795 - val_accuracy: 0.9217\n",
            "Epoch 155/200\n",
            "375/375 [==============================] - 1s 2ms/step - loss: 0.2828 - accuracy: 0.9211 - val_loss: 0.2794 - val_accuracy: 0.9222\n",
            "Epoch 156/200\n",
            "375/375 [==============================] - 1s 2ms/step - loss: 0.2825 - accuracy: 0.9210 - val_loss: 0.2792 - val_accuracy: 0.9221\n",
            "Epoch 157/200\n",
            "375/375 [==============================] - 1s 2ms/step - loss: 0.2824 - accuracy: 0.9215 - val_loss: 0.2792 - val_accuracy: 0.9223\n",
            "Epoch 158/200\n",
            "375/375 [==============================] - 1s 2ms/step - loss: 0.2822 - accuracy: 0.9215 - val_loss: 0.2791 - val_accuracy: 0.9221\n",
            "Epoch 159/200\n",
            "375/375 [==============================] - 1s 2ms/step - loss: 0.2821 - accuracy: 0.9217 - val_loss: 0.2789 - val_accuracy: 0.9222\n",
            "Epoch 160/200\n",
            "375/375 [==============================] - 1s 2ms/step - loss: 0.2819 - accuracy: 0.9216 - val_loss: 0.2788 - val_accuracy: 0.9223\n",
            "Epoch 161/200\n",
            "375/375 [==============================] - 1s 2ms/step - loss: 0.2817 - accuracy: 0.9217 - val_loss: 0.2788 - val_accuracy: 0.9224\n",
            "Epoch 162/200\n",
            "375/375 [==============================] - 1s 2ms/step - loss: 0.2816 - accuracy: 0.9213 - val_loss: 0.2786 - val_accuracy: 0.9224\n",
            "Epoch 163/200\n",
            "375/375 [==============================] - 1s 2ms/step - loss: 0.2814 - accuracy: 0.9217 - val_loss: 0.2785 - val_accuracy: 0.9224\n",
            "Epoch 164/200\n",
            "375/375 [==============================] - 1s 2ms/step - loss: 0.2813 - accuracy: 0.9216 - val_loss: 0.2784 - val_accuracy: 0.9227\n",
            "Epoch 165/200\n",
            "375/375 [==============================] - 1s 2ms/step - loss: 0.2811 - accuracy: 0.9215 - val_loss: 0.2783 - val_accuracy: 0.9228\n",
            "Epoch 166/200\n",
            "375/375 [==============================] - 1s 2ms/step - loss: 0.2809 - accuracy: 0.9216 - val_loss: 0.2782 - val_accuracy: 0.9224\n",
            "Epoch 167/200\n",
            "375/375 [==============================] - 1s 2ms/step - loss: 0.2808 - accuracy: 0.9219 - val_loss: 0.2781 - val_accuracy: 0.9226\n",
            "Epoch 168/200\n",
            "375/375 [==============================] - 1s 2ms/step - loss: 0.2806 - accuracy: 0.9218 - val_loss: 0.2780 - val_accuracy: 0.9227\n",
            "Epoch 169/200\n",
            "375/375 [==============================] - 1s 2ms/step - loss: 0.2804 - accuracy: 0.9218 - val_loss: 0.2780 - val_accuracy: 0.9232\n",
            "Epoch 170/200\n",
            "375/375 [==============================] - 1s 2ms/step - loss: 0.2803 - accuracy: 0.9220 - val_loss: 0.2778 - val_accuracy: 0.9230\n",
            "Epoch 171/200\n",
            "375/375 [==============================] - 1s 2ms/step - loss: 0.2802 - accuracy: 0.9220 - val_loss: 0.2778 - val_accuracy: 0.9226\n",
            "Epoch 172/200\n",
            "375/375 [==============================] - 1s 3ms/step - loss: 0.2800 - accuracy: 0.9220 - val_loss: 0.2777 - val_accuracy: 0.9227\n",
            "Epoch 173/200\n",
            "375/375 [==============================] - 1s 3ms/step - loss: 0.2799 - accuracy: 0.9221 - val_loss: 0.2776 - val_accuracy: 0.9227\n",
            "Epoch 174/200\n",
            "375/375 [==============================] - 1s 2ms/step - loss: 0.2797 - accuracy: 0.9222 - val_loss: 0.2775 - val_accuracy: 0.9230\n",
            "Epoch 175/200\n",
            "375/375 [==============================] - 1s 3ms/step - loss: 0.2795 - accuracy: 0.9222 - val_loss: 0.2775 - val_accuracy: 0.9226\n",
            "Epoch 176/200\n",
            "375/375 [==============================] - 1s 2ms/step - loss: 0.2794 - accuracy: 0.9224 - val_loss: 0.2775 - val_accuracy: 0.9230\n",
            "Epoch 177/200\n",
            "375/375 [==============================] - 1s 2ms/step - loss: 0.2793 - accuracy: 0.9221 - val_loss: 0.2773 - val_accuracy: 0.9225\n",
            "Epoch 178/200\n",
            "375/375 [==============================] - 1s 2ms/step - loss: 0.2791 - accuracy: 0.9222 - val_loss: 0.2772 - val_accuracy: 0.9230\n",
            "Epoch 179/200\n",
            "375/375 [==============================] - 1s 2ms/step - loss: 0.2790 - accuracy: 0.9220 - val_loss: 0.2771 - val_accuracy: 0.9229\n",
            "Epoch 180/200\n",
            "375/375 [==============================] - 1s 2ms/step - loss: 0.2788 - accuracy: 0.9223 - val_loss: 0.2770 - val_accuracy: 0.9230\n",
            "Epoch 181/200\n",
            "375/375 [==============================] - 1s 2ms/step - loss: 0.2787 - accuracy: 0.9225 - val_loss: 0.2769 - val_accuracy: 0.9233\n",
            "Epoch 182/200\n",
            "375/375 [==============================] - 1s 2ms/step - loss: 0.2786 - accuracy: 0.9222 - val_loss: 0.2768 - val_accuracy: 0.9231\n",
            "Epoch 183/200\n",
            "375/375 [==============================] - 1s 2ms/step - loss: 0.2784 - accuracy: 0.9226 - val_loss: 0.2768 - val_accuracy: 0.9231\n",
            "Epoch 184/200\n",
            "375/375 [==============================] - 1s 2ms/step - loss: 0.2783 - accuracy: 0.9222 - val_loss: 0.2766 - val_accuracy: 0.9232\n",
            "Epoch 185/200\n",
            "375/375 [==============================] - 1s 2ms/step - loss: 0.2782 - accuracy: 0.9225 - val_loss: 0.2766 - val_accuracy: 0.9227\n",
            "Epoch 186/200\n",
            "375/375 [==============================] - 1s 2ms/step - loss: 0.2781 - accuracy: 0.9224 - val_loss: 0.2765 - val_accuracy: 0.9230\n",
            "Epoch 187/200\n",
            "375/375 [==============================] - 1s 2ms/step - loss: 0.2779 - accuracy: 0.9226 - val_loss: 0.2764 - val_accuracy: 0.9232\n",
            "Epoch 188/200\n",
            "375/375 [==============================] - 1s 2ms/step - loss: 0.2777 - accuracy: 0.9226 - val_loss: 0.2765 - val_accuracy: 0.9227\n",
            "Epoch 189/200\n",
            "375/375 [==============================] - 1s 2ms/step - loss: 0.2777 - accuracy: 0.9227 - val_loss: 0.2762 - val_accuracy: 0.9230\n",
            "Epoch 190/200\n",
            "375/375 [==============================] - 1s 2ms/step - loss: 0.2775 - accuracy: 0.9225 - val_loss: 0.2762 - val_accuracy: 0.9236\n",
            "Epoch 191/200\n",
            "375/375 [==============================] - 1s 2ms/step - loss: 0.2774 - accuracy: 0.9225 - val_loss: 0.2761 - val_accuracy: 0.9231\n",
            "Epoch 192/200\n",
            "375/375 [==============================] - 1s 2ms/step - loss: 0.2772 - accuracy: 0.9224 - val_loss: 0.2761 - val_accuracy: 0.9231\n",
            "Epoch 193/200\n",
            "375/375 [==============================] - 1s 2ms/step - loss: 0.2771 - accuracy: 0.9227 - val_loss: 0.2760 - val_accuracy: 0.9233\n",
            "Epoch 194/200\n",
            "375/375 [==============================] - 1s 2ms/step - loss: 0.2770 - accuracy: 0.9230 - val_loss: 0.2759 - val_accuracy: 0.9230\n",
            "Epoch 195/200\n",
            "375/375 [==============================] - 1s 2ms/step - loss: 0.2768 - accuracy: 0.9230 - val_loss: 0.2758 - val_accuracy: 0.9231\n",
            "Epoch 196/200\n",
            "375/375 [==============================] - 1s 2ms/step - loss: 0.2767 - accuracy: 0.9227 - val_loss: 0.2757 - val_accuracy: 0.9237\n",
            "Epoch 197/200\n",
            "375/375 [==============================] - 1s 2ms/step - loss: 0.2766 - accuracy: 0.9229 - val_loss: 0.2756 - val_accuracy: 0.9233\n",
            "Epoch 198/200\n",
            "375/375 [==============================] - 1s 2ms/step - loss: 0.2765 - accuracy: 0.9232 - val_loss: 0.2756 - val_accuracy: 0.9233\n",
            "Epoch 199/200\n",
            "375/375 [==============================] - 1s 2ms/step - loss: 0.2764 - accuracy: 0.9231 - val_loss: 0.2755 - val_accuracy: 0.9236\n",
            "Epoch 200/200\n",
            "375/375 [==============================] - 1s 2ms/step - loss: 0.2763 - accuracy: 0.9230 - val_loss: 0.2755 - val_accuracy: 0.9233\n"
          ],
          "name": "stdout"
        },
        {
          "output_type": "execute_result",
          "data": {
            "text/plain": [
              "<tensorflow.python.keras.callbacks.History at 0x7f8a98aaf748>"
            ]
          },
          "metadata": {
            "tags": []
          },
          "execution_count": 11
        }
      ]
    },
    {
      "cell_type": "code",
      "metadata": {
        "id": "pOAXm-TuLTrO",
        "colab_type": "code",
        "colab": {
          "base_uri": "https://localhost:8080/",
          "height": 52
        },
        "outputId": "70ebc4f6-7888-49bd-d372-6bced3b11fd7"
      },
      "source": [
        "#evaluate the model\n",
        "test_loss, test_acc = model.evaluate(X_test, Y_test)\n",
        "print('Test accuracy:', test_acc)\n",
        "\n",
        "# making prediction\n",
        "predictions = model.predict(X_test)"
      ],
      "execution_count": 12,
      "outputs": [
        {
          "output_type": "stream",
          "text": [
            "313/313 [==============================] - 0s 812us/step - loss: 0.2776 - accuracy: 0.9223\n",
            "Test accuracy: 0.9222999811172485\n"
          ],
          "name": "stdout"
        }
      ]
    }
  ]
}